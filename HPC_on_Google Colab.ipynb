{
  "cells": [
    {
      "cell_type": "markdown",
      "metadata": {
        "id": "9zVos5-Bf_Kx"
      },
      "source": [
        "# Bottlenecks"
      ]
    },
    {
      "cell_type": "code",
      "execution_count": null,
      "metadata": {
        "id": "6IzSsCKWzfAo"
      },
      "outputs": [],
      "source": [
        "import numpy as np"
      ]
    },
    {
      "cell_type": "markdown",
      "metadata": {
        "id": "S_H3C49idg7Y"
      },
      "source": [
        "Dot function in i->j->k order"
      ]
    },
    {
      "cell_type": "code",
      "execution_count": null,
      "metadata": {
        "id": "lpxf8saZYy_t"
      },
      "outputs": [],
      "source": [
        "def dot(a,b):\n",
        "  c=np.zeros((a.shape[0],b.shape[1]))\n",
        "  for i in range(a.shape[0]):\n",
        "    for j in range(b.shape[1]):\n",
        "      for k in range(a.shape[1]):\n",
        "        c[i,j]+=a[i,k]*b[k,j]\n",
        "  return c"
      ]
    },
    {
      "cell_type": "markdown",
      "metadata": {
        "id": "t12rRuj2ZTlz"
      },
      "source": [
        "Take 2 small matrices A and B and see how long the above function takes"
      ]
    },
    {
      "cell_type": "code",
      "execution_count": null,
      "metadata": {
        "id": "132TU7BKZbVg"
      },
      "outputs": [],
      "source": [
        "n=256\n",
        "a =np.random.random((n,n))\n",
        "b =np.random.random((n,n))"
      ]
    },
    {
      "cell_type": "code",
      "execution_count": null,
      "metadata": {
        "colab": {
          "base_uri": "https://localhost:8080/"
        },
        "id": "DYcoiPKHZgk5",
        "outputId": "b638b04e-17a5-4b7d-f153-1bd28cecff52"
      },
      "outputs": [
        {
          "name": "stdout",
          "output_type": "stream",
          "text": [
            "13.3 s ± 257 ms per loop (mean ± std. dev. of 7 runs, 1 loop each)\n"
          ]
        }
      ],
      "source": [
        "t_dot=%timeit -o dot(a,b)"
      ]
    },
    {
      "cell_type": "markdown",
      "metadata": {
        "id": "wHwWqiCjZs4U"
      },
      "source": [
        "Matrix multiplication of two n by n matrices performs $2n^3$ operations."
      ]
    },
    {
      "cell_type": "code",
      "execution_count": null,
      "metadata": {
        "colab": {
          "base_uri": "https://localhost:8080/"
        },
        "id": "enUtvwTSdZBb",
        "outputId": "de4814fa-3d70-435d-98cb-e745323291b9"
      },
      "outputs": [
        {
          "data": {
            "text/plain": [
              "13.03830647899997"
            ]
          },
          "execution_count": 11,
          "metadata": {},
          "output_type": "execute_result"
        }
      ],
      "source": [
        "t_dot.best"
      ]
    },
    {
      "cell_type": "code",
      "execution_count": null,
      "metadata": {
        "colab": {
          "base_uri": "https://localhost:8080/"
        },
        "id": "8r1dlV0HZo8L",
        "outputId": "da01360d-c9c0-455c-e9fd-25d40d286294"
      },
      "outputs": [
        {
          "name": "stdout",
          "output_type": "stream",
          "text": [
            "0.003 GFLOP/s\n"
          ]
        }
      ],
      "source": [
        "print(\"%.3f GFLOP/s\" % (2*n**3/t_dot.best*1e-9))"
      ]
    },
    {
      "cell_type": "markdown",
      "metadata": {
        "id": "XUSp9rq9cblo"
      },
      "source": [
        "Numba usage for the dot fn gives better results"
      ]
    },
    {
      "cell_type": "code",
      "execution_count": null,
      "metadata": {
        "id": "6zuYNZyDaSK9"
      },
      "outputs": [],
      "source": [
        "from numba import jit\n",
        "jdot=jit(dot)"
      ]
    },
    {
      "cell_type": "code",
      "execution_count": null,
      "metadata": {
        "colab": {
          "base_uri": "https://localhost:8080/"
        },
        "id": "mDLJ6HRjcsFA",
        "outputId": "9bcdd115-5eb3-4289-a0ed-589f712017d3"
      },
      "outputs": [
        {
          "name": "stdout",
          "output_type": "stream",
          "text": [
            "24.8 ms ± 601 µs per loop (mean ± std. dev. of 7 runs, 1 loop each)\n"
          ]
        }
      ],
      "source": [
        "t_jit=%timeit -o jdot(a,b)"
      ]
    },
    {
      "cell_type": "code",
      "execution_count": null,
      "metadata": {
        "colab": {
          "base_uri": "https://localhost:8080/"
        },
        "id": "BsfiaL6NdQIY",
        "outputId": "cd68acdb-b89e-4a0a-afc3-ef45cee16d30"
      },
      "outputs": [
        {
          "data": {
            "text/plain": [
              "0.02448171400010324"
            ]
          },
          "execution_count": 10,
          "metadata": {},
          "output_type": "execute_result"
        }
      ],
      "source": [
        "t_jit.best"
      ]
    },
    {
      "cell_type": "code",
      "execution_count": null,
      "metadata": {
        "colab": {
          "base_uri": "https://localhost:8080/"
        },
        "id": "w38TqVsHcvxN",
        "outputId": "3aec33ba-a0d4-4962-9f79-a086d848ab8c"
      },
      "outputs": [
        {
          "name": "stdout",
          "output_type": "stream",
          "text": [
            "1.371 GFLOP/s\n"
          ]
        }
      ],
      "source": [
        "print(\"%.3f GFLOP/s\" % (2*n**3/t_jit.best*1e-9))"
      ]
    },
    {
      "cell_type": "markdown",
      "metadata": {
        "id": "rkzPxr4tdtVs"
      },
      "source": [
        "Access order and make the dot fn in i->k->j order"
      ]
    },
    {
      "cell_type": "code",
      "execution_count": null,
      "metadata": {
        "id": "OiO0kt0_c8nW"
      },
      "outputs": [],
      "source": [
        "@jit\n",
        "def dot2(a,b):\n",
        "  c=np.zeros((a.shape[0],b.shape[1]))\n",
        "  for i in range(a.shape[0]):\n",
        "    for k in range(a.shape[1]):\n",
        "      for j in range(b.shape[1]):\n",
        "        c[i,j]+=a[i,k]*b[k,j]\n",
        "  return c"
      ]
    },
    {
      "cell_type": "code",
      "execution_count": null,
      "metadata": {
        "colab": {
          "base_uri": "https://localhost:8080/"
        },
        "id": "H6HgvI2VeLhl",
        "outputId": "d2efcc7f-925e-4ddf-c91f-9d559b5b9c9c"
      },
      "outputs": [
        {
          "name": "stdout",
          "output_type": "stream",
          "text": [
            "5.19 ms ± 114 µs per loop (mean ± std. dev. of 7 runs, 1 loop each)\n"
          ]
        }
      ],
      "source": [
        "t_dot2=%timeit -o dot2(a,b)"
      ]
    },
    {
      "cell_type": "code",
      "execution_count": null,
      "metadata": {
        "colab": {
          "base_uri": "https://localhost:8080/"
        },
        "id": "2EzBHCWEehyi",
        "outputId": "f7b1595c-e103-49fb-88d8-2f07e5ddad88"
      },
      "outputs": [
        {
          "name": "stdout",
          "output_type": "stream",
          "text": [
            "6.606058816221791  GFLOP/s\n"
          ]
        }
      ],
      "source": [
        "print(2*n**3/t_dot2.best*1e-9, \" GFLOP/s\")"
      ]
    },
    {
      "cell_type": "markdown",
      "metadata": {
        "id": "w2LdtTEQe70V"
      },
      "source": [
        "Now, for n=2048"
      ]
    },
    {
      "cell_type": "code",
      "execution_count": null,
      "metadata": {
        "id": "_MWj-gI1eu7M"
      },
      "outputs": [],
      "source": [
        "n=2048\n",
        "a =np.random.random((n,n))\n",
        "b =np.random.random((n,n))"
      ]
    },
    {
      "cell_type": "code",
      "execution_count": null,
      "metadata": {
        "colab": {
          "base_uri": "https://localhost:8080/"
        },
        "id": "mmqz1NitfBr4",
        "outputId": "0367434e-0297-42eb-cf37-615ffe874cdd"
      },
      "outputs": [
        {
          "name": "stdout",
          "output_type": "stream",
          "text": [
            "5.51 s ± 259 ms per loop (mean ± std. dev. of 7 runs, 1 loop each)\n"
          ]
        }
      ],
      "source": [
        "t_dot2_large=%timeit -o dot2(a,b)"
      ]
    },
    {
      "cell_type": "code",
      "execution_count": null,
      "metadata": {
        "colab": {
          "base_uri": "https://localhost:8080/"
        },
        "id": "rfAkiLc9fF3m",
        "outputId": "e761d2a5-517a-4931-876b-717000d6430f"
      },
      "outputs": [
        {
          "name": "stdout",
          "output_type": "stream",
          "text": [
            "3.310621084573096  GFLOP/s\n"
          ]
        }
      ],
      "source": [
        "print(2*n**3/t_dot2_large.best*1e-9, \" GFLOP/s\")"
      ]
    },
    {
      "cell_type": "markdown",
      "metadata": {
        "id": "nlr3J7BwfZWt"
      },
      "source": [
        "Using numpy.dot()"
      ]
    },
    {
      "cell_type": "code",
      "execution_count": null,
      "metadata": {
        "colab": {
          "base_uri": "https://localhost:8080/"
        },
        "id": "Py5Hs0WlfRlY",
        "outputId": "58426ac8-3eae-47f1-ec72-7fafdb755b0e"
      },
      "outputs": [
        {
          "name": "stdout",
          "output_type": "stream",
          "text": [
            "807 ms ± 333 ms per loop (mean ± std. dev. of 7 runs, 1 loop each)\n"
          ]
        }
      ],
      "source": [
        "t_numpy=%timeit -o np.dot(a,b)"
      ]
    },
    {
      "cell_type": "code",
      "execution_count": null,
      "metadata": {
        "colab": {
          "base_uri": "https://localhost:8080/"
        },
        "id": "KF3i5FzMfeh1",
        "outputId": "0704163f-be72-45a2-9e80-11f0946d8492"
      },
      "outputs": [
        {
          "name": "stdout",
          "output_type": "stream",
          "text": [
            "35.78644143894247  GFLOP/s\n"
          ]
        }
      ],
      "source": [
        "print(2*n**3/t_numpy.best*1e-9, \" GFLOP/s\")"
      ]
    },
    {
      "cell_type": "markdown",
      "metadata": {
        "id": "LWFwGNjagK9-"
      },
      "source": [
        "# Intro to IPython and Jupyter notebooks\n",
        "\n"
      ]
    },
    {
      "cell_type": "code",
      "execution_count": null,
      "metadata": {
        "colab": {
          "base_uri": "https://localhost:8080/",
          "height": 312
        },
        "id": "x1JyZmfbfkA2",
        "outputId": "0beb0369-687b-4675-8287-a9fd3047c9a4"
      },
      "outputs": [
        {
          "data": {
            "application/json": {
              "cell": {
                "!": "OSMagics",
                "HTML": "Other",
                "SVG": "Other",
                "bash": "Other",
                "bigquery": "Other",
                "capture": "ExecutionMagics",
                "debug": "ExecutionMagics",
                "file": "Other",
                "html": "DisplayMagics",
                "javascript": "DisplayMagics",
                "js": "DisplayMagics",
                "latex": "DisplayMagics",
                "markdown": "DisplayMagics",
                "perl": "Other",
                "prun": "ExecutionMagics",
                "pypy": "Other",
                "python": "Other",
                "python2": "Other",
                "python3": "Other",
                "ruby": "Other",
                "script": "ScriptMagics",
                "sh": "Other",
                "shell": "Other",
                "svg": "DisplayMagics",
                "sx": "OSMagics",
                "system": "OSMagics",
                "time": "ExecutionMagics",
                "timeit": "ExecutionMagics",
                "writefile": "OSMagics"
              },
              "line": {
                "alias": "OSMagics",
                "alias_magic": "BasicMagics",
                "autoawait": "AsyncMagics",
                "autocall": "AutoMagics",
                "automagic": "AutoMagics",
                "autosave": "KernelMagics",
                "bookmark": "OSMagics",
                "cat": "Other",
                "cd": "OSMagics",
                "clear": "KernelMagics",
                "colors": "BasicMagics",
                "conda": "PackagingMagics",
                "config": "ConfigMagics",
                "connect_info": "KernelMagics",
                "cp": "Other",
                "debug": "ExecutionMagics",
                "dhist": "OSMagics",
                "dirs": "OSMagics",
                "doctest_mode": "BasicMagics",
                "ed": "Other",
                "edit": "KernelMagics",
                "env": "OSMagics",
                "gui": "BasicMagics",
                "hist": "Other",
                "history": "HistoryMagics",
                "killbgscripts": "ScriptMagics",
                "ldir": "Other",
                "less": "KernelMagics",
                "lf": "Other",
                "lk": "Other",
                "ll": "Other",
                "load": "CodeMagics",
                "load_ext": "ExtensionMagics",
                "loadpy": "CodeMagics",
                "logoff": "LoggingMagics",
                "logon": "LoggingMagics",
                "logstart": "LoggingMagics",
                "logstate": "LoggingMagics",
                "logstop": "LoggingMagics",
                "ls": "Other",
                "lsmagic": "BasicMagics",
                "lx": "Other",
                "macro": "ExecutionMagics",
                "magic": "BasicMagics",
                "man": "KernelMagics",
                "matplotlib": "PylabMagics",
                "mkdir": "Other",
                "more": "KernelMagics",
                "mv": "Other",
                "notebook": "BasicMagics",
                "page": "BasicMagics",
                "pastebin": "CodeMagics",
                "pdb": "ExecutionMagics",
                "pdef": "NamespaceMagics",
                "pdoc": "NamespaceMagics",
                "pfile": "NamespaceMagics",
                "pinfo": "NamespaceMagics",
                "pinfo2": "NamespaceMagics",
                "pip": "Other",
                "popd": "OSMagics",
                "pprint": "BasicMagics",
                "precision": "BasicMagics",
                "prun": "ExecutionMagics",
                "psearch": "NamespaceMagics",
                "psource": "NamespaceMagics",
                "pushd": "OSMagics",
                "pwd": "OSMagics",
                "pycat": "OSMagics",
                "pylab": "PylabMagics",
                "qtconsole": "KernelMagics",
                "quickref": "BasicMagics",
                "recall": "HistoryMagics",
                "rehashx": "OSMagics",
                "reload_ext": "ExtensionMagics",
                "rep": "Other",
                "rerun": "HistoryMagics",
                "reset": "NamespaceMagics",
                "reset_selective": "NamespaceMagics",
                "rm": "Other",
                "rmdir": "Other",
                "run": "ExecutionMagics",
                "save": "CodeMagics",
                "sc": "OSMagics",
                "set_env": "OSMagics",
                "shell": "Other",
                "store": "StoreMagics",
                "sx": "OSMagics",
                "system": "OSMagics",
                "tb": "ExecutionMagics",
                "tensorflow_version": "Other",
                "time": "ExecutionMagics",
                "timeit": "ExecutionMagics",
                "unalias": "OSMagics",
                "unload_ext": "ExtensionMagics",
                "who": "NamespaceMagics",
                "who_ls": "NamespaceMagics",
                "whos": "NamespaceMagics",
                "xdel": "NamespaceMagics",
                "xmode": "BasicMagics"
              }
            },
            "text/plain": [
              "Available line magics:\n",
              "%alias  %alias_magic  %autoawait  %autocall  %automagic  %autosave  %bookmark  %cat  %cd  %clear  %colors  %conda  %config  %connect_info  %cp  %debug  %dhist  %dirs  %doctest_mode  %ed  %edit  %env  %gui  %hist  %history  %killbgscripts  %ldir  %less  %lf  %lk  %ll  %load  %load_ext  %loadpy  %logoff  %logon  %logstart  %logstate  %logstop  %ls  %lsmagic  %lx  %macro  %magic  %man  %matplotlib  %mkdir  %more  %mv  %notebook  %page  %pastebin  %pdb  %pdef  %pdoc  %pfile  %pinfo  %pinfo2  %pip  %popd  %pprint  %precision  %prun  %psearch  %psource  %pushd  %pwd  %pycat  %pylab  %qtconsole  %quickref  %recall  %rehashx  %reload_ext  %rep  %rerun  %reset  %reset_selective  %rm  %rmdir  %run  %save  %sc  %set_env  %shell  %store  %sx  %system  %tb  %tensorflow_version  %time  %timeit  %unalias  %unload_ext  %who  %who_ls  %whos  %xdel  %xmode\n",
              "\n",
              "Available cell magics:\n",
              "%%!  %%HTML  %%SVG  %%bash  %%bigquery  %%capture  %%debug  %%file  %%html  %%javascript  %%js  %%latex  %%markdown  %%perl  %%prun  %%pypy  %%python  %%python2  %%python3  %%ruby  %%script  %%sh  %%shell  %%svg  %%sx  %%system  %%time  %%timeit  %%writefile\n",
              "\n",
              "Automagic is ON, % prefix IS NOT needed for line magics."
            ]
          },
          "execution_count": 21,
          "metadata": {},
          "output_type": "execute_result"
        }
      ],
      "source": [
        "%lsmagic"
      ]
    },
    {
      "cell_type": "markdown",
      "metadata": {
        "id": "6YmHHM4XgjvM"
      },
      "source": [
        "Timing with %timeit"
      ]
    },
    {
      "cell_type": "code",
      "execution_count": null,
      "metadata": {
        "colab": {
          "base_uri": "https://localhost:8080/"
        },
        "id": "rX5j_M6BgYyd",
        "outputId": "0c3ba3d8-dc88-48e2-b8ae-8d485e5111e5"
      },
      "outputs": [
        {
          "name": "stdout",
          "output_type": "stream",
          "text": [
            "690 ns ± 76 ns per loop (mean ± std. dev. of 7 runs, 1000000 loops each)\n"
          ]
        }
      ],
      "source": [
        "#Using random\n",
        "%%timeit\n",
        "import random\n",
        "n=1\n",
        "[random.uniform(0,1) for i in range(n)]"
      ]
    },
    {
      "cell_type": "code",
      "execution_count": null,
      "metadata": {
        "colab": {
          "base_uri": "https://localhost:8080/"
        },
        "id": "iwzBi5PjgxhL",
        "outputId": "2e687641-2e10-4d96-f57e-d3d0ebf6787a"
      },
      "outputs": [
        {
          "name": "stdout",
          "output_type": "stream",
          "text": [
            "2.81 µs ± 90.5 ns per loop (mean ± std. dev. of 7 runs, 100000 loops each)\n"
          ]
        }
      ],
      "source": [
        "# Using np.random\n",
        "n=1\n",
        "t=%timeit -o [np.random.uniform(0,1) for i in range(n)]"
      ]
    },
    {
      "cell_type": "markdown",
      "metadata": {
        "id": "GSSjDuPJhc3d"
      },
      "source": [
        "Plotting"
      ]
    },
    {
      "cell_type": "code",
      "execution_count": null,
      "metadata": {
        "id": "2RmfrnHzhQk0"
      },
      "outputs": [],
      "source": [
        "%matplotlib inline\n",
        "import matplotlib.pyplot as plt\n",
        "import numpy"
      ]
    },
    {
      "cell_type": "code",
      "execution_count": null,
      "metadata": {
        "colab": {
          "base_uri": "https://localhost:8080/"
        },
        "id": "uc4ntSi7hkcI",
        "outputId": "0880b467-b7e2-4f4f-9f8f-77ef99b0327e"
      },
      "outputs": [
        {
          "name": "stderr",
          "output_type": "stream",
          "text": [
            "<ipython-input-29-feb98fb00313>:2: DeprecationWarning: `set_matplotlib_formats` is deprecated since IPython 7.23, directly use `matplotlib_inline.backend_inline.set_matplotlib_formats()`\n",
            "  set_matplotlib_formats('pdf','svg')\n"
          ]
        }
      ],
      "source": [
        "from IPython.display import set_matplotlib_formats\n",
        "set_matplotlib_formats('pdf','svg')"
      ]
    },
    {
      "cell_type": "markdown",
      "metadata": {
        "id": "rC0CuF_hiG_w"
      },
      "source": [
        "Some Introspection"
      ]
    },
    {
      "cell_type": "code",
      "execution_count": null,
      "metadata": {
        "colab": {
          "base_uri": "https://localhost:8080/"
        },
        "id": "z1PoHSn4hsXu",
        "outputId": "0426e878-5e73-4eaa-e564-c7b5145dbed4"
      },
      "outputs": [
        {
          "name": "stdout",
          "output_type": "stream",
          "text": [
            "a\t b\t dot\t dot2\t jdot\t jit\t n\t np\t numpy\t \n",
            "plt\t random\t set_matplotlib_formats\t t\t t_dot\t t_dot2\t t_dot2_large\t t_jit\t t_numpy\t \n",
            "\n"
          ]
        }
      ],
      "source": [
        "%who"
      ]
    },
    {
      "cell_type": "code",
      "execution_count": null,
      "metadata": {
        "colab": {
          "base_uri": "https://localhost:8080/"
        },
        "id": "mJjCIrs2iMY4",
        "outputId": "6aa21f93-10f7-42eb-8739-2655af57d80c"
      },
      "outputs": [
        {
          "name": "stdout",
          "output_type": "stream",
          "text": [
            "Variable                 Type             Data/Info\n",
            "---------------------------------------------------\n",
            "a                        ndarray          2048x2048: 4194304 elems, type `float64`, 33554432 bytes (32.0 Mb)\n",
            "b                        ndarray          2048x2048: 4194304 elems, type `float64`, 33554432 bytes (32.0 Mb)\n",
            "dot                      function         <function dot at 0x7cfebe03ae60>\n",
            "dot2                     CPUDispatcher    CPUDispatcher(<function dot2 at 0x7cfeb03a2dd0>)\n",
            "jdot                     CPUDispatcher    CPUDispatcher(<function dot at 0x7cfebe03ae60>)\n",
            "jit                      function         <function jit at 0x7cfeb70d9240>\n",
            "n                        int              1\n",
            "np                       module           <module 'numpy' from '/us<...>kages/numpy/__init__.py'>\n",
            "numpy                    module           <module 'numpy' from '/us<...>kages/numpy/__init__.py'>\n",
            "plt                      module           <module 'matplotlib.pyplo<...>es/matplotlib/pyplot.py'>\n",
            "random                   module           <module 'random' from '/u<...>ib/python3.10/random.py'>\n",
            "set_matplotlib_formats   function         <function set_matplotlib_<...>ormats at 0x7cff0a01f1c0>\n",
            "t                        TimeitResult     2.81 µs ± 90.5 ns per loo<...> runs, 100000 loops each)\n",
            "t_dot                    TimeitResult     13.3 s ± 257 ms per loop <...>. of 7 runs, 1 loop each)\n",
            "t_dot2                   TimeitResult     5.19 ms ± 114 µs per loop<...>. of 7 runs, 1 loop each)\n",
            "t_dot2_large             TimeitResult     5.51 s ± 259 ms per loop <...>. of 7 runs, 1 loop each)\n",
            "t_jit                    TimeitResult     24.8 ms ± 601 µs per loop<...>. of 7 runs, 1 loop each)\n",
            "t_numpy                  TimeitResult     807 ms ± 333 ms per loop <...>. of 7 runs, 1 loop each)\n"
          ]
        }
      ],
      "source": [
        "%whos"
      ]
    },
    {
      "cell_type": "markdown",
      "metadata": {
        "id": "M3OwTpEEjR_b"
      },
      "source": [
        "# Numpy Intro"
      ]
    },
    {
      "cell_type": "code",
      "execution_count": null,
      "metadata": {
        "colab": {
          "base_uri": "https://localhost:8080/"
        },
        "id": "-Oglokykip3O",
        "outputId": "8ab3ba2d-c078-4331-a4db-6003cc91536e"
      },
      "outputs": [
        {
          "name": "stdout",
          "output_type": "stream",
          "text": [
            "1.26.4\n",
            "Build Dependencies:\n",
            "  blas:\n",
            "    detection method: pkgconfig\n",
            "    found: true\n",
            "    include directory: /usr/local/include\n",
            "    lib directory: /usr/local/lib\n",
            "    name: openblas64\n",
            "    openblas configuration: USE_64BITINT=1 DYNAMIC_ARCH=1 DYNAMIC_OLDER= NO_CBLAS=\n",
            "      NO_LAPACK= NO_LAPACKE= NO_AFFINITY=1 USE_OPENMP= HASWELL MAX_THREADS=2\n",
            "    pc file directory: /usr/local/lib/pkgconfig\n",
            "    version: 0.3.23.dev\n",
            "  lapack:\n",
            "    detection method: internal\n",
            "    found: true\n",
            "    include directory: unknown\n",
            "    lib directory: unknown\n",
            "    name: dep139863411681952\n",
            "    openblas configuration: unknown\n",
            "    pc file directory: unknown\n",
            "    version: 1.26.4\n",
            "Compilers:\n",
            "  c:\n",
            "    args: -fno-strict-aliasing\n",
            "    commands: cc\n",
            "    linker: ld.bfd\n",
            "    linker args: -Wl,--strip-debug, -fno-strict-aliasing\n",
            "    name: gcc\n",
            "    version: 10.2.1\n",
            "  c++:\n",
            "    commands: c++\n",
            "    linker: ld.bfd\n",
            "    linker args: -Wl,--strip-debug\n",
            "    name: gcc\n",
            "    version: 10.2.1\n",
            "  cython:\n",
            "    commands: cython\n",
            "    linker: cython\n",
            "    name: cython\n",
            "    version: 3.0.8\n",
            "Machine Information:\n",
            "  build:\n",
            "    cpu: x86_64\n",
            "    endian: little\n",
            "    family: x86_64\n",
            "    system: linux\n",
            "  host:\n",
            "    cpu: x86_64\n",
            "    endian: little\n",
            "    family: x86_64\n",
            "    system: linux\n",
            "Python Information:\n",
            "  path: /opt/python/cp310-cp310/bin/python\n",
            "  version: '3.10'\n",
            "SIMD Extensions:\n",
            "  baseline:\n",
            "  - SSE\n",
            "  - SSE2\n",
            "  - SSE3\n",
            "  found:\n",
            "  - SSSE3\n",
            "  - SSE41\n",
            "  - POPCNT\n",
            "  - SSE42\n",
            "  - AVX\n",
            "  - F16C\n",
            "  - FMA3\n",
            "  - AVX2\n",
            "  not found:\n",
            "  - AVX512F\n",
            "  - AVX512CD\n",
            "  - AVX512_KNL\n",
            "  - AVX512_KNM\n",
            "  - AVX512_SKX\n",
            "  - AVX512_CLX\n",
            "  - AVX512_CNL\n",
            "  - AVX512_ICL\n",
            "\n",
            "None\n"
          ]
        }
      ],
      "source": [
        "import numpy as np\n",
        "print(np.__version__)\n",
        "print(np.show_config())"
      ]
    },
    {
      "cell_type": "markdown",
      "metadata": {
        "id": "EQqStdVQldib"
      },
      "source": [
        "Creation, Type"
      ]
    },
    {
      "cell_type": "code",
      "execution_count": null,
      "metadata": {
        "colab": {
          "base_uri": "https://localhost:8080/"
        },
        "id": "VZ8kRA81iZzv",
        "outputId": "36912db7-8905-4a70-dbd8-2aaf82640dbc"
      },
      "outputs": [
        {
          "name": "stdout",
          "output_type": "stream",
          "text": [
            "int64\n",
            "[[1 2 3 4]\n",
            " [5 6 7 8]]\n",
            "\n",
            "float64\n",
            "[0. 0. 0. 0. 0.]\n",
            "\n",
            "int64\n",
            "[10 13 16 19]\n",
            "\n",
            "complex128\n",
            "[ 0. +0.j  1. +1.j  2. +2.j  3. +3.j  4. +4.j  5. +5.j  6. +6.j  7. +7.j\n",
            "  8. +8.j  9. +9.j 10.+10.j]\n",
            "\n",
            "bool\n",
            "[ True  True  True  True  True  True  True  True  True  True]\n",
            "\n"
          ]
        }
      ],
      "source": [
        "a=np.array([[1,2,3,4],[5,6,7,8]])\n",
        "b=np.zeros(5)\n",
        "c=np.arange(10,20,3)\n",
        "d=np.linspace(0+0j, 10+10j, 11)\n",
        "e=np.ones(10, dtype='bool')\n",
        "for i in [a,b,c,d,e]:\n",
        "  print(i.dtype)\n",
        "  print(i)\n",
        "  print()"
      ]
    },
    {
      "cell_type": "code",
      "execution_count": null,
      "metadata": {
        "colab": {
          "base_uri": "https://localhost:8080/"
        },
        "id": "2SRTeC7wmCYS",
        "outputId": "006f1ac3-8d36-4bab-fef6-9fc6b3c821b2"
      },
      "outputs": [
        {
          "name": "stdout",
          "output_type": "stream",
          "text": [
            "[[1 2 3]\n",
            " [4 5 6]]\n",
            "type: int64\n",
            "shape: (2, 3)\n",
            "dim: 2\n",
            "size: 6\n",
            "itemsize: 8\n",
            "nbytes: 48\n",
            "flags:   C_CONTIGUOUS : True\n",
            "  F_CONTIGUOUS : False\n",
            "  OWNDATA : True\n",
            "  WRITEABLE : True\n",
            "  ALIGNED : True\n",
            "  WRITEBACKIFCOPY : False\n",
            "\n"
          ]
        }
      ],
      "source": [
        "a=np.array([[1,2,3],[4,5,6]])\n",
        "print(a)\n",
        "print(\"type:\", a.dtype)\n",
        "print(\"shape:\",a.shape)\n",
        "print(\"dim:\",a.ndim)\n",
        "print(\"size:\",a.size)\n",
        "print(\"itemsize:\",a.itemsize)\n",
        "print(\"nbytes:\",a.nbytes)\n",
        "print(\"flags:\",a.flags)"
      ]
    },
    {
      "cell_type": "markdown",
      "metadata": {
        "id": "Rzo2LmvLnSQo"
      },
      "source": [
        "Complex numbers"
      ]
    },
    {
      "cell_type": "code",
      "execution_count": null,
      "metadata": {
        "colab": {
          "base_uri": "https://localhost:8080/"
        },
        "id": "Ioz_BIaimzvs",
        "outputId": "cb2b4ce7-859e-4749-acdb-c7903a182fac"
      },
      "outputs": [
        {
          "data": {
            "text/plain": [
              "(array([1.-1.j, 2.-0.j, 3.+2.j]),\n",
              " array([ 0.78539816,  0.        , -0.5880026 ]))"
            ]
          },
          "execution_count": 4,
          "metadata": {},
          "output_type": "execute_result"
        }
      ],
      "source": [
        "a= np.array([1+1j, 2, 3-2j])\n",
        "a.conj(), np.angle(a)"
      ]
    },
    {
      "cell_type": "code",
      "execution_count": null,
      "metadata": {
        "colab": {
          "base_uri": "https://localhost:8080/"
        },
        "id": "QCwaOsfPnlG9",
        "outputId": "1d86ee65-0cab-420b-ed67-705e96d3b36e"
      },
      "outputs": [
        {
          "name": "stdout",
          "output_type": "stream",
          "text": [
            "[1 2 3 4] [0 0 0 0]\n"
          ]
        }
      ],
      "source": [
        "b=np.array([1,2,3,4])\n",
        "print(b.real, b.imag)"
      ]
    },
    {
      "cell_type": "markdown",
      "metadata": {
        "id": "YcEAveh-ob6t"
      },
      "source": [
        "Casting"
      ]
    },
    {
      "cell_type": "code",
      "execution_count": null,
      "metadata": {
        "colab": {
          "base_uri": "https://localhost:8080/"
        },
        "id": "x6cm5Kn0oJoJ",
        "outputId": "da7ccc97-4c99-41fa-eeb5-6eb2e6ad4377"
      },
      "outputs": [
        {
          "name": "stderr",
          "output_type": "stream",
          "text": [
            "<ipython-input-6-14db4e4ad999>:1: DeprecationWarning: NumPy will stop allowing conversion of out-of-bound Python integers to integer arrays.  The conversion of 129 to int8 will fail in the future.\n",
            "For the old behavior, usually:\n",
            "    np.array(value).astype(dtype)\n",
            "will give the desired result (the cast overflows).\n",
            "  a=np.array([[129,128,127],[226,125,124.9]], dtype='int8')\n",
            "<ipython-input-6-14db4e4ad999>:1: DeprecationWarning: NumPy will stop allowing conversion of out-of-bound Python integers to integer arrays.  The conversion of 128 to int8 will fail in the future.\n",
            "For the old behavior, usually:\n",
            "    np.array(value).astype(dtype)\n",
            "will give the desired result (the cast overflows).\n",
            "  a=np.array([[129,128,127],[226,125,124.9]], dtype='int8')\n",
            "<ipython-input-6-14db4e4ad999>:1: DeprecationWarning: NumPy will stop allowing conversion of out-of-bound Python integers to integer arrays.  The conversion of 226 to int8 will fail in the future.\n",
            "For the old behavior, usually:\n",
            "    np.array(value).astype(dtype)\n",
            "will give the desired result (the cast overflows).\n",
            "  a=np.array([[129,128,127],[226,125,124.9]], dtype='int8')\n"
          ]
        },
        {
          "data": {
            "text/plain": [
              "array([[-127, -128,  127],\n",
              "       [ -30,  125,  124]], dtype=int8)"
            ]
          },
          "execution_count": 6,
          "metadata": {},
          "output_type": "execute_result"
        }
      ],
      "source": [
        "a=np.array([[129,128,127],[226,125,124.9]], dtype='int8')\n",
        "a"
      ]
    },
    {
      "cell_type": "markdown",
      "metadata": {
        "id": "zhn3JJ6Nblu0"
      },
      "source": [
        "NDArrays: Read Access"
      ]
    },
    {
      "cell_type": "code",
      "execution_count": null,
      "metadata": {
        "colab": {
          "base_uri": "https://localhost:8080/"
        },
        "id": "SXl_C80Ko9gT",
        "outputId": "ce571982-386a-47d5-cf41-584298fa7369"
      },
      "outputs": [
        {
          "data": {
            "text/plain": [
              "9"
            ]
          },
          "execution_count": 13,
          "metadata": {},
          "output_type": "execute_result"
        }
      ],
      "source": [
        "a=np.array([[1,2,3],[4,5,6],[7,8,9]])\n",
        "a[2,-1] #tuple indexing in 1 square bracket"
      ]
    },
    {
      "cell_type": "code",
      "execution_count": null,
      "metadata": {
        "colab": {
          "base_uri": "https://localhost:8080/"
        },
        "id": "XxSAr2Cbby2C",
        "outputId": "a0a87a57-3a17-4924-9868-612847df620f"
      },
      "outputs": [
        {
          "data": {
            "text/plain": [
              "array([[1, 3],\n",
              "       [4, 6],\n",
              "       [7, 9]])"
            ]
          },
          "execution_count": 20,
          "metadata": {},
          "output_type": "execute_result"
        }
      ],
      "source": [
        "a[:,::2] #every second column (gap of 2)"
      ]
    },
    {
      "cell_type": "markdown",
      "metadata": {
        "id": "JlO8ZDZSc4M6"
      },
      "source": [
        "Fancy Indexing"
      ]
    },
    {
      "cell_type": "code",
      "execution_count": null,
      "metadata": {
        "colab": {
          "base_uri": "https://localhost:8080/"
        },
        "id": "cFxQJEzFcjIl",
        "outputId": "3334b207-5ca2-4bd0-af81-7758480f6190"
      },
      "outputs": [
        {
          "data": {
            "text/plain": [
              "array([ 7, 21, 56])"
            ]
          },
          "execution_count": 23,
          "metadata": {},
          "output_type": "execute_result"
        }
      ],
      "source": [
        "a=np.arange(0,77,7)\n",
        "a[[1,3,8]]"
      ]
    },
    {
      "cell_type": "code",
      "execution_count": null,
      "metadata": {
        "colab": {
          "base_uri": "https://localhost:8080/"
        },
        "id": "9ZQi9z9ic_sE",
        "outputId": "ddbc3ae0-5eac-4fd8-82f9-8332034fb340"
      },
      "outputs": [
        {
          "data": {
            "text/plain": [
              "array([ 0, 21, 42, 63])"
            ]
          },
          "execution_count": 24,
          "metadata": {},
          "output_type": "execute_result"
        }
      ],
      "source": [
        "a[a%3==0]"
      ]
    },
    {
      "cell_type": "code",
      "execution_count": null,
      "metadata": {
        "colab": {
          "base_uri": "https://localhost:8080/"
        },
        "id": "6qtiyB9-dLwZ",
        "outputId": "769bfe9f-d87e-488d-cd42-a956f2b213e1"
      },
      "outputs": [
        {
          "data": {
            "text/plain": [
              "array([ 7, 21, 56])"
            ]
          },
          "execution_count": 25,
          "metadata": {},
          "output_type": "execute_result"
        }
      ],
      "source": [
        "mask=np.array([0,1,0,1,0,0,0,0,1,0,0], dtype=bool)\n",
        "a[mask]"
      ]
    },
    {
      "cell_type": "code",
      "execution_count": null,
      "metadata": {
        "colab": {
          "base_uri": "https://localhost:8080/"
        },
        "id": "dHw0tXmOdWrP",
        "outputId": "27c852ea-0788-4699-f043-37a6918fcdb2"
      },
      "outputs": [
        {
          "data": {
            "text/plain": [
              "array([ 0,  7, 14, 21, 28, 35, 42, 49, 56, 63, 70])"
            ]
          },
          "execution_count": 26,
          "metadata": {},
          "output_type": "execute_result"
        }
      ],
      "source": [
        "a"
      ]
    },
    {
      "cell_type": "code",
      "execution_count": null,
      "metadata": {
        "colab": {
          "base_uri": "https://localhost:8080/"
        },
        "id": "Z30xVBH0dcfU",
        "outputId": "771a59ff-4661-46dd-d06d-4e8d14bbdc31"
      },
      "outputs": [
        {
          "name": "stdout",
          "output_type": "stream",
          "text": [
            "(array([0, 3, 6, 9]),)\n"
          ]
        },
        {
          "data": {
            "text/plain": [
              "array([ 0, 21, 42, 63])"
            ]
          },
          "execution_count": 28,
          "metadata": {},
          "output_type": "execute_result"
        }
      ],
      "source": [
        "div_by_three=np.where(a%3==0)\n",
        "print(div_by_three)#returns the indices\n",
        "a[div_by_three]#returns the values (fancy indexing)"
      ]
    },
    {
      "cell_type": "code",
      "execution_count": null,
      "metadata": {
        "colab": {
          "base_uri": "https://localhost:8080/"
        },
        "id": "HfZKOZa0drqO",
        "outputId": "30b6db26-6393-4e97-fee4-a05f393080f7"
      },
      "outputs": [
        {
          "data": {
            "text/plain": [
              "array([[1, 2, 3],\n",
              "       [4, 0, 0]])"
            ]
          },
          "execution_count": 29,
          "metadata": {},
          "output_type": "execute_result"
        }
      ],
      "source": [
        "a=np.array([[1,2,3],[4,5,6]])\n",
        "a[1,1:]=0\n",
        "a"
      ]
    },
    {
      "cell_type": "code",
      "execution_count": null,
      "metadata": {
        "colab": {
          "base_uri": "https://localhost:8080/"
        },
        "id": "nB7BFY6UeEEC",
        "outputId": "d5e9ca21-0a83-4d67-8a2f-3d1d976e75b2"
      },
      "outputs": [
        {
          "data": {
            "text/plain": [
              "array([[1, 4],\n",
              "       [2, 0],\n",
              "       [3, 0]])"
            ]
          },
          "execution_count": 35,
          "metadata": {},
          "output_type": "execute_result"
        }
      ],
      "source": [
        "a.transpose()"
      ]
    },
    {
      "cell_type": "code",
      "execution_count": null,
      "metadata": {
        "colab": {
          "base_uri": "https://localhost:8080/"
        },
        "id": "B7Im7F1keZYz",
        "outputId": "435c4eb8-c5f7-431f-b498-0a3f8d44b56d"
      },
      "outputs": [
        {
          "data": {
            "text/plain": [
              "array([1, 2, 3, 4, 0, 0])"
            ]
          },
          "execution_count": 36,
          "metadata": {},
          "output_type": "execute_result"
        }
      ],
      "source": [
        "a.flatten()"
      ]
    },
    {
      "cell_type": "code",
      "execution_count": null,
      "metadata": {
        "colab": {
          "base_uri": "https://localhost:8080/"
        },
        "id": "DTe5PWmuera5",
        "outputId": "c3c9c8da-d7a2-4a50-d618-e4e994749661"
      },
      "outputs": [
        {
          "data": {
            "text/plain": [
              "array([1, 2, 3, 4, 0, 0])"
            ]
          },
          "execution_count": 37,
          "metadata": {},
          "output_type": "execute_result"
        }
      ],
      "source": [
        "a.ravel()"
      ]
    },
    {
      "cell_type": "code",
      "execution_count": null,
      "metadata": {
        "colab": {
          "base_uri": "https://localhost:8080/"
        },
        "id": "l6Qwp-tcespZ",
        "outputId": "b7190213-3cd0-43cf-a2e9-aaff8ce55e29"
      },
      "outputs": [
        {
          "data": {
            "text/plain": [
              "array([[1, 4],\n",
              "       [2, 0],\n",
              "       [3, 0]])"
            ]
          },
          "execution_count": 41,
          "metadata": {},
          "output_type": "execute_result"
        }
      ],
      "source": [
        "a.swapaxes(0,1)#works like transpose in this case atleast"
      ]
    },
    {
      "cell_type": "markdown",
      "metadata": {
        "id": "Xv5NyDG-fQrt"
      },
      "source": [
        "Elementwise Operations (UNFUNCS)"
      ]
    },
    {
      "cell_type": "code",
      "execution_count": null,
      "metadata": {
        "colab": {
          "base_uri": "https://localhost:8080/"
        },
        "id": "fuZZmtz8fA-T",
        "outputId": "0073f97b-8d41-467b-884d-c1b271c8c51d"
      },
      "outputs": [
        {
          "name": "stdout",
          "output_type": "stream",
          "text": [
            "75 ms ± 1.33 ms per loop (mean ± std. dev. of 7 runs, 10 loops each)\n"
          ]
        }
      ],
      "source": [
        "l=range(1000000) #python\n",
        "%timeit [i+1 for i in l]"
      ]
    },
    {
      "cell_type": "code",
      "execution_count": null,
      "metadata": {
        "colab": {
          "base_uri": "https://localhost:8080/"
        },
        "id": "U0ZX8CLJfi0I",
        "outputId": "411ebf71-b639-4fbd-bae8-00e80e9dd5da"
      },
      "outputs": [
        {
          "name": "stdout",
          "output_type": "stream",
          "text": [
            "685 µs ± 23 µs per loop (mean ± std. dev. of 7 runs, 1000 loops each)\n"
          ]
        }
      ],
      "source": [
        "a=np.arange(1000000) #NumPy\n",
        "%timeit a+1"
      ]
    },
    {
      "cell_type": "markdown",
      "metadata": {
        "id": "owZlg2Y5gZCr"
      },
      "source": [
        "Broadcasting"
      ]
    },
    {
      "cell_type": "code",
      "execution_count": null,
      "metadata": {
        "colab": {
          "base_uri": "https://localhost:8080/"
        },
        "id": "RPW6UgpOf0C7",
        "outputId": "8ecbbc7f-5c25-4858-c2c0-84b09a6fb42e"
      },
      "outputs": [
        {
          "data": {
            "text/plain": [
              "array([[4, 5, 6],\n",
              "       [1, 5, 3]])"
            ]
          },
          "execution_count": 50,
          "metadata": {},
          "output_type": "execute_result"
        }
      ],
      "source": [
        "a=np.array([[4,2,6],[1,2,3]])\n",
        "b=np.array([1,5,3]) # will be broadcasted to a 2-d array\n",
        "np.maximum(a,b)"
      ]
    },
    {
      "cell_type": "markdown",
      "metadata": {
        "id": "FsaZzio5g84b"
      },
      "source": [
        "Collective Methods"
      ]
    },
    {
      "cell_type": "code",
      "execution_count": null,
      "metadata": {
        "colab": {
          "base_uri": "https://localhost:8080/"
        },
        "id": "xZzqCPrehQeV",
        "outputId": "2974500d-6c5c-4659-8ab6-6cf152531201"
      },
      "outputs": [
        {
          "data": {
            "text/plain": [
              "array([[4, 2, 6],\n",
              "       [1, 2, 3]])"
            ]
          },
          "execution_count": 52,
          "metadata": {},
          "output_type": "execute_result"
        }
      ],
      "source": [
        "a"
      ]
    },
    {
      "cell_type": "code",
      "execution_count": null,
      "metadata": {
        "colab": {
          "base_uri": "https://localhost:8080/"
        },
        "id": "poAnwifxguPV",
        "outputId": "7648d179-79e2-4e2b-ad35-057e623411ad"
      },
      "outputs": [
        {
          "data": {
            "text/plain": [
              "array([5, 4, 9])"
            ]
          },
          "execution_count": 51,
          "metadata": {},
          "output_type": "execute_result"
        }
      ],
      "source": [
        "np.add.reduce(a)"
      ]
    },
    {
      "cell_type": "code",
      "execution_count": null,
      "metadata": {
        "colab": {
          "base_uri": "https://localhost:8080/"
        },
        "id": "A5CZntBdhHnq",
        "outputId": "f1e85dd2-6e23-4ade-8591-a9f089b211ac"
      },
      "outputs": [
        {
          "data": {
            "text/plain": [
              "array([[4, 2, 6],\n",
              "       [5, 4, 9]])"
            ]
          },
          "execution_count": 53,
          "metadata": {},
          "output_type": "execute_result"
        }
      ],
      "source": [
        "np.add.accumulate(a)"
      ]
    },
    {
      "cell_type": "markdown",
      "metadata": {
        "id": "e5xsPxnzhzZl"
      },
      "source": [
        "# Think Vector"
      ]
    },
    {
      "cell_type": "markdown",
      "metadata": {
        "id": "ZmnsP0bkiCXb"
      },
      "source": [
        "Dot Product"
      ]
    },
    {
      "cell_type": "code",
      "execution_count": null,
      "metadata": {
        "colab": {
          "base_uri": "https://localhost:8080/"
        },
        "id": "Gq4Eqr-VhXx1",
        "outputId": "462a2d13-86a9-4f2e-ea74-cd8e114254b8"
      },
      "outputs": [
        {
          "data": {
            "text/plain": [
              "32"
            ]
          },
          "execution_count": 65,
          "metadata": {},
          "output_type": "execute_result"
        }
      ],
      "source": [
        "s=0\n",
        "v=np.array([1,2,3])\n",
        "w=np.array([4,5,6])\n",
        "for i in range(len(v)):\n",
        "  s+=v[i]*w[i]\n",
        "s"
      ]
    },
    {
      "cell_type": "markdown",
      "metadata": {
        "id": "jgnwmL04ia8n"
      },
      "source": [
        "Map"
      ]
    },
    {
      "cell_type": "code",
      "execution_count": null,
      "metadata": {
        "colab": {
          "base_uri": "https://localhost:8080/"
        },
        "id": "tVQixpRIheuA",
        "outputId": "5c7fe76c-a92d-4f65-9ea1-6ead1e7fda02"
      },
      "outputs": [
        {
          "name": "stdout",
          "output_type": "stream",
          "text": [
            "[ 4 10 18]\n"
          ]
        },
        {
          "data": {
            "text/plain": [
              "32"
            ]
          },
          "execution_count": 69,
          "metadata": {},
          "output_type": "execute_result"
        }
      ],
      "source": [
        "vw=np.array([v[i]*w[i] for i in range(len(v))])\n",
        "print(vw)\n",
        "# Now let's reduce\n",
        "s=0\n",
        "for i in range(len(v)):\n",
        "  s+=vw[i]\n",
        "s\n"
      ]
    },
    {
      "cell_type": "markdown",
      "metadata": {
        "id": "h8EyyrcGjXuZ"
      },
      "source": [
        "Map-Reduce Using Numpy"
      ]
    },
    {
      "cell_type": "code",
      "execution_count": null,
      "metadata": {
        "colab": {
          "base_uri": "https://localhost:8080/"
        },
        "id": "Ul0pPvU5inBV",
        "outputId": "a62b3b49-3f72-49c3-9c02-192f39051833"
      },
      "outputs": [
        {
          "name": "stdout",
          "output_type": "stream",
          "text": [
            "32\n"
          ]
        }
      ],
      "source": [
        "#Map\n",
        "vw=v*w\n",
        "#Reduce\n",
        "s=vw.sum()\n",
        "print(s)"
      ]
    },
    {
      "cell_type": "code",
      "execution_count": null,
      "metadata": {
        "colab": {
          "base_uri": "https://localhost:8080/"
        },
        "id": "MiCUpyhmjjwd",
        "outputId": "bc94ecc9-fbce-4e5b-d02d-47aa75800e3f"
      },
      "outputs": [
        {
          "data": {
            "text/plain": [
              "32"
            ]
          },
          "execution_count": 72,
          "metadata": {},
          "output_type": "execute_result"
        }
      ],
      "source": [
        "#Everything in one call\n",
        "s=v.dot(w)\n",
        "s"
      ]
    },
    {
      "cell_type": "markdown",
      "metadata": {
        "id": "oQj2tLp_jul8"
      },
      "source": [
        "A system with Fixed Boundaries"
      ]
    },
    {
      "cell_type": "code",
      "execution_count": null,
      "metadata": {
        "colab": {
          "base_uri": "https://localhost:8080/"
        },
        "id": "DxbxotkrjpFH",
        "outputId": "bae47f07-8e94-4885-bce3-fb705390be3d"
      },
      "outputs": [
        {
          "name": "stdout",
          "output_type": "stream",
          "text": [
            "[[0.         0.74167018 0.02872587 0.97897976 0.39861776 0.66331336\n",
            "  0.58418858 0.79771933 0.85313834 1.        ]\n",
            " [0.         0.80482152 0.89343284 0.28836032 0.40869868 0.86469819\n",
            "  0.08614839 0.91985585 0.16999509 1.        ]\n",
            " [0.         0.61604818 0.3281916  0.896986   0.18905067 0.31086992\n",
            "  0.9525714  0.66250385 0.02238531 1.        ]\n",
            " [0.         0.72433861 0.68634187 0.26147863 0.16329857 0.63385718\n",
            "  0.9095177  0.21840778 0.21360069 1.        ]\n",
            " [0.         0.38916258 0.15423901 0.10256079 0.87080458 0.57417469\n",
            "  0.35053486 0.44341129 0.28328037 1.        ]\n",
            " [0.         0.54856843 0.63078204 0.82617741 0.40121342 0.04083861\n",
            "  0.94234574 0.26495008 0.92064011 1.        ]\n",
            " [0.         0.26126715 0.2582775  0.41518539 0.28761485 0.97558422\n",
            "  0.56996007 0.76472507 0.10438236 1.        ]\n",
            " [0.         0.68946583 0.59200971 0.66735412 0.7619375  0.1225606\n",
            "  0.22571284 0.04045521 0.59227619 1.        ]\n",
            " [0.         0.09686398 0.93620076 0.43002946 0.91042012 0.70440438\n",
            "  0.40996703 0.62063504 0.37848718 1.        ]\n",
            " [0.         0.45106288 0.37296539 0.28601745 0.21371339 0.64694082\n",
            "  0.62752005 0.5655091  0.83955817 1.        ]]\n"
          ]
        }
      ],
      "source": [
        "A_orig=np.random.random((10,10))\n",
        "A_orig[:,0]=0\n",
        "A_orig[:,-1]=1\n",
        "print(A_orig)"
      ]
    },
    {
      "cell_type": "markdown",
      "metadata": {
        "id": "34lTz7l4kJHm"
      },
      "source": [
        "Explixit Nested For Loop"
      ]
    },
    {
      "cell_type": "code",
      "execution_count": null,
      "metadata": {
        "id": "49_vQMQ7kAe-"
      },
      "outputs": [],
      "source": [
        "A=A_orig.copy()\n",
        "B=np.random.random((10,10))\n",
        "B[:,0]=0\n",
        "B[:,-1]=1\n",
        "for i in range(A.shape[0]):\n",
        "  for j in range(1,A.shape[1]-1):\n",
        "    B[i,j]=0.25*(A[(i+1)%A.shape[0],j]+A[i-1,j]+A[i,(j+1)]+A[i,j-1])"
      ]
    },
    {
      "cell_type": "code",
      "execution_count": null,
      "metadata": {
        "colab": {
          "base_uri": "https://localhost:8080/",
          "height": 223
        },
        "id": "q6mGzQHPlN9l",
        "outputId": "dcd7894f-d0de-4108-f857-60fd17c1d901"
      },
      "outputs": [
        {
          "name": "stdout",
          "output_type": "stream",
          "text": [
            "|A-B|=3.365\n"
          ]
        },
        {
          "data": {
            "image/png": "[encoded data removed]",
            "text/plain": [
              "<Figure size 640x480 with 3 Axes>"
            ]
          },
          "metadata": {},
          "output_type": "display_data"
        }
      ],
      "source": [
        "import matplotlib.pyplot as plt\n",
        "plt.subplot(1,3,1)\n",
        "plt.imshow(A, interpolation='nearest')\n",
        "plt.subplot(1,3,2)\n",
        "plt.imshow(B, interpolation='nearest')\n",
        "plt.subplot(1,3,3)\n",
        "plt.imshow(A-B, interpolation='nearest')\n",
        "print('|A-B|=%.3f'%np.linalg.norm(A-B))"
      ]
    },
    {
      "cell_type": "markdown",
      "metadata": {
        "id": "PxSg1dRPmJhU"
      },
      "source": [
        "Elementwise Operation"
      ]
    },
    {
      "cell_type": "code",
      "execution_count": null,
      "metadata": {
        "id": "Wdc0rd9rlliw"
      },
      "outputs": [],
      "source": [
        "B=0.25*(np.roll(A,1,axis=0)+np.roll(A,-1,axis=0)+np.roll(A,1,axis=1)+np.roll(A,-1,axis=1))\n",
        "B[:,0]=0\n",
        "B[:,-1]=1"
      ]
    },
    {
      "cell_type": "code",
      "execution_count": null,
      "metadata": {
        "colab": {
          "base_uri": "https://localhost:8080/",
          "height": 223
        },
        "id": "8yoNAWWomlKj",
        "outputId": "d6330b55-b84e-4628-dd71-22b5c5a17cc5"
      },
      "outputs": [
        {
          "name": "stdout",
          "output_type": "stream",
          "text": [
            "|A-B|=3.365\n"
          ]
        },
        {
          "data": {
            "image/png": "[encoded data removed]",
            "text/plain": [
              "<Figure size 640x480 with 3 Axes>"
            ]
          },
          "metadata": {},
          "output_type": "display_data"
        }
      ],
      "source": [
        "plt.subplot(1,3,1)\n",
        "plt.imshow(A, interpolation='nearest')\n",
        "plt.subplot(1,3,2)\n",
        "plt.imshow(B, interpolation='nearest')\n",
        "plt.subplot(1,3,3)\n",
        "plt.imshow(A-B, interpolation='nearest')\n",
        "print('|A-B|=%.3f'%np.linalg.norm(A-B))"
      ]
    },
    {
      "cell_type": "markdown",
      "metadata": {
        "id": "UvUTFHlTmz9C"
      },
      "source": [
        "Programming Exercise MandelBrot & Escape Algorithm"
      ]
    },
    {
      "cell_type": "code",
      "execution_count": null,
      "metadata": {
        "id": "ZcDbTLRFmrKG"
      },
      "outputs": [],
      "source": [
        "def escape_time(p,maxtime):\n",
        "  \"\"\"Perform the Mandelbrot iteration until it's clear the p diverges ot the maximum number of iterations has been reaches.\n",
        "\n",
        "  Parameters\n",
        "  ----------\n",
        "  p : complex\n",
        "    The complex number to iterate.\n",
        "  maxtime : int\n",
        "    The maximum number of iterations to perform before p is considered in the Mandelbort set\n",
        "  \"\"\"\n",
        "\n",
        "  z=0j #Complex number in Python\n",
        "  for time in range(maxtime):\n",
        "    z=z**2+p\n",
        "    if abs(z)>2:\n",
        "      return time\n",
        "  return maxtime"
      ]
    },
    {
      "cell_type": "markdown",
      "metadata": {
        "id": "TH2O18PJoEs9"
      },
      "source": [
        "# Profiling"
      ]
    },
    {
      "cell_type": "markdown",
      "metadata": {
        "id": "OYB-y7ixoNA-"
      },
      "source": [
        "Profiling a simple Particle Dynamics Code"
      ]
    },
    {
      "cell_type": "code",
      "execution_count": null,
      "metadata": {
        "id": "h0PsCywIn2eH"
      },
      "outputs": [],
      "source": [
        "#Intialization\n",
        "\n",
        "#1000 particles\n",
        "n=1000\n",
        "#time step of 0.01\n",
        "dt=0.01\n",
        "\n",
        "#Intialize coordinates and velocities to random values\n",
        "x=np.random.random(n)\n",
        "y=np.random.random(n)\n",
        "z=np.random.random(n)\n",
        "vx=np.zeros_like(x)\n",
        "vy=np.zeros_like(y)\n",
        "vz=np.zeros_like(z)\n",
        "m=np.ones_like(x)"
      ]
    },
    {
      "cell_type": "code",
      "execution_count": null,
      "metadata": {
        "id": "7HkqMz-mpawd"
      },
      "outputs": [],
      "source": [
        "G = 6.67430e-11  # Gravitational constant\n",
        "def calculate_all_forces(x, y, z, m):\n",
        "    n = len(x)\n",
        "    fx = np.zeros(n)\n",
        "    fy = np.zeros(n)\n",
        "    fz = np.zeros(n)\n",
        "\n",
        "    for i in range(n):\n",
        "        for j in range(i+1, n):\n",
        "            dx = x[j] - x[i]\n",
        "            dy = y[j] - y[i]\n",
        "            dz = z[j] - z[i]\n",
        "            r = np.sqrt(dx**2 + dy**2 + dz**2)\n",
        "            if r != 0:  # Prevent division by zero\n",
        "                F = G * m[i] * m[j] / r**2\n",
        "                fx[i] += F * dx / r\n",
        "                fy[i] += F * dy / r\n",
        "                fz[i] += F * dz / r\n",
        "                fx[j] -= F * dx / r\n",
        "                fy[j] -= F * dy / r\n",
        "                fz[j] -= F * dz / r\n",
        "\n",
        "    return np.array([fx, fy, fz])\n",
        "\n",
        "def propagate_all_variables(x, y, z, vx, vy, vz, m, f, dt):\n",
        "    fx, fy, fz = f\n",
        "\n",
        "    # Update velocities\n",
        "    vx += fx * dt / m\n",
        "    vy += fy * dt / m\n",
        "    vz += fz * dt / m\n",
        "\n",
        "    # Update positions\n",
        "    x += vx * dt\n",
        "    y += vy * dt\n",
        "    z += vz * dt\n"
      ]
    },
    {
      "cell_type": "code",
      "execution_count": null,
      "metadata": {
        "id": "x_LNrVfRo3XZ"
      },
      "outputs": [],
      "source": [
        "#The Algorithm\n",
        "\n",
        "nsteps=2\n",
        "def main():\n",
        "    for i in range(nsteps):\n",
        "        f = calculate_all_forces(x, y, z, m)\n",
        "        propagate_all_variables(x, y, z, vx, vy, vz, m, f, dt)"
      ]
    },
    {
      "cell_type": "code",
      "execution_count": null,
      "metadata": {
        "colab": {
          "base_uri": "https://localhost:8080/"
        },
        "id": "YF9O7cdKpury",
        "outputId": "b6a3c807-4acc-4459-ff17-5db98c4f4ac9"
      },
      "outputs": [
        {
          "name": "stdout",
          "output_type": "stream",
          "text": [
            "3.07 s ± 499 ms per loop (mean ± std. dev. of 7 runs, 1 loop each)\n"
          ]
        }
      ],
      "source": [
        "# Baseline\n",
        "\n",
        "%%timeit nsteps=1\n",
        "for i in range(nsteps):\n",
        "  f=calculate_all_forces(x,y,z,m)\n",
        "  propagate_all_variables(x,y,z,vx,vy,vz,m,f,dt)"
      ]
    },
    {
      "cell_type": "code",
      "execution_count": null,
      "metadata": {
        "colab": {
          "base_uri": "https://localhost:8080/"
        },
        "id": "26YSiKtBRcsb",
        "outputId": "44bda10a-2b1b-430a-a62e-2e719c76ffae"
      },
      "outputs": [
        {
          "name": "stdout",
          "output_type": "stream",
          "text": [
            " "
          ]
        }
      ],
      "source": [
        "# Profiling with %%PRUN\n",
        "\n",
        "%prun -s cumulative main()"
      ]
    },
    {
      "cell_type": "code",
      "execution_count": null,
      "metadata": {
        "colab": {
          "base_uri": "https://localhost:8080/"
        },
        "id": "2xFzrTfKR5Zo",
        "outputId": "73727281-af42-4f58-d655-f71e3b4c5317"
      },
      "outputs": [
        {
          "name": "stdout",
          "output_type": "stream",
          "text": [
            "Requirement already satisfied: line_profiler in /usr/local/lib/python3.10/dist-packages (4.1.3)\n"
          ]
        }
      ],
      "source": [
        "# Line by Line Profiling\n",
        "\n",
        "!pip install line_profiler\n"
      ]
    },
    {
      "cell_type": "code",
      "execution_count": null,
      "metadata": {
        "id": "C_--A0ifaFdR"
      },
      "outputs": [],
      "source": [
        "%load_ext line_profiler"
      ]
    },
    {
      "cell_type": "code",
      "execution_count": null,
      "metadata": {
        "id": "p2-YABzmStEw"
      },
      "outputs": [],
      "source": [
        "%lprun -f calculate_all_forces main()"
      ]
    },
    {
      "cell_type": "code",
      "execution_count": null,
      "metadata": {
        "colab": {
          "base_uri": "https://localhost:8080/"
        },
        "id": "GjVPDEm3asLZ",
        "outputId": "01fe87d1-eb5b-44ba-a45b-43772e58d4f3"
      },
      "outputs": [
        {
          "name": "stdout",
          "output_type": "stream",
          "text": [
            "75.8 ns ± 1.02 ns per loop (mean ± std. dev. of 7 runs, 10000000 loops each)\n"
          ]
        }
      ],
      "source": [
        "%%timeit x0=x[0]; y0=y[0]; z0=z[0]; x1=x[1]; y1=y[1]; z1=z[1];\n",
        "(x1 - x0)"
      ]
    },
    {
      "cell_type": "code",
      "execution_count": null,
      "metadata": {
        "colab": {
          "base_uri": "https://localhost:8080/"
        },
        "id": "gCY2CmBlTMjj",
        "outputId": "ea593942-aa69-4920-83d6-4d6376bac179"
      },
      "outputs": [
        {
          "name": "stdout",
          "output_type": "stream",
          "text": [
            "208 ns ± 32.6 ns per loop (mean ± std. dev. of 7 runs, 10000000 loops each)\n"
          ]
        }
      ],
      "source": [
        "%%timeit x0=x[0]; y0=y[0]; z0=z[0]; x1=x[1]; y1=y[1]; z1=z[1];\n",
        "(x1 - x0) ** 2"
      ]
    },
    {
      "cell_type": "code",
      "execution_count": null,
      "metadata": {
        "colab": {
          "base_uri": "https://localhost:8080/"
        },
        "id": "MnDPRDPyha-9",
        "outputId": "ca97d70d-c683-4429-e8eb-f6868cc171fa"
      },
      "outputs": [
        {
          "name": "stdout",
          "output_type": "stream",
          "text": [
            "215 ns ± 10.8 ns per loop (mean ± std. dev. of 7 runs, 1000000 loops each)\n"
          ]
        }
      ],
      "source": [
        "%%timeit x0=x[0]; y0=y[0]; z0=z[0]; x1=x[1]; y1=y[1]; z1=z[1];\n",
        "(x1 - x0) * (x1 - x0)"
      ]
    },
    {
      "cell_type": "code",
      "execution_count": null,
      "metadata": {
        "colab": {
          "base_uri": "https://localhost:8080/"
        },
        "id": "Bg8mX5OlhjVG",
        "outputId": "27ff18e9-d404-426c-8390-395999fb397a"
      },
      "outputs": [
        {
          "name": "stdout",
          "output_type": "stream",
          "text": [
            "169 ns ± 45.5 ns per loop (mean ± std. dev. of 7 runs, 10000000 loops each)\n"
          ]
        }
      ],
      "source": [
        "%%timeit x0=x[0]; y0=y[0]; z0=z[0]; x1=x[1]; y1=y[1]; z1=z[1];\n",
        "dx= (x1 - x0)\n",
        "dx * dx"
      ]
    },
    {
      "cell_type": "markdown",
      "metadata": {
        "id": "Tl1dshTei4qH"
      },
      "source": [
        "# Debugging Python"
      ]
    },
    {
      "cell_type": "markdown",
      "metadata": {
        "id": "o6YEklswjBi2"
      },
      "source": [
        "PDB"
      ]
    },
    {
      "cell_type": "code",
      "execution_count": null,
      "metadata": {
        "colab": {
          "base_uri": "https://localhost:8080/",
          "height": 297
        },
        "id": "877wDgRsh4dX",
        "outputId": "723314c1-3572-42f8-b6d1-ce2b596122ce"
      },
      "outputs": [
        {
          "ename": "IndexError",
          "evalue": "list index out of range",
          "output_type": "error",
          "traceback": [
            "\u001b[0;31m---------------------------------------------------------------------------\u001b[0m",
            "\u001b[0;31mIndexError\u001b[0m                                Traceback (most recent call last)",
            "\u001b[0;32m<ipython-input-52-7b8b6768c7ed>\u001b[0m in \u001b[0;36m<cell line: 9>\u001b[0;34m()\u001b[0m\n\u001b[1;32m      7\u001b[0m \u001b[0ma\u001b[0m\u001b[0;34m=\u001b[0m \u001b[0mlist\u001b[0m\u001b[0;34m(\u001b[0m\u001b[0mrange\u001b[0m\u001b[0;34m(\u001b[0m\u001b[0;36m10\u001b[0m\u001b[0;34m)\u001b[0m\u001b[0;34m)\u001b[0m\u001b[0;34m\u001b[0m\u001b[0;34m\u001b[0m\u001b[0m\n\u001b[1;32m      8\u001b[0m \u001b[0mii\u001b[0m\u001b[0;34m=\u001b[0m\u001b[0;36m4\u001b[0m\u001b[0;34m\u001b[0m\u001b[0;34m\u001b[0m\u001b[0m\n\u001b[0;32m----> 9\u001b[0;31m \u001b[0mimabuggyincrement\u001b[0m\u001b[0;34m(\u001b[0m\u001b[0;36m10\u001b[0m\u001b[0;34m,\u001b[0m\u001b[0ma\u001b[0m\u001b[0;34m)\u001b[0m\u001b[0;34m\u001b[0m\u001b[0;34m\u001b[0m\u001b[0m\n\u001b[0m",
            "\u001b[0;32m<ipython-input-52-7b8b6768c7ed>\u001b[0m in \u001b[0;36mimabuggyincrement\u001b[0;34m(i, a)\u001b[0m\n\u001b[1;32m      3\u001b[0m   \u001b[0;34m\"\"\" Increment a[i] by 1\"\"\"\u001b[0m\u001b[0;34m\u001b[0m\u001b[0;34m\u001b[0m\u001b[0m\n\u001b[1;32m      4\u001b[0m   \u001b[0;32mif\u001b[0m \u001b[0mii\u001b[0m\u001b[0;34m<\u001b[0m \u001b[0mlen\u001b[0m\u001b[0;34m(\u001b[0m\u001b[0ma\u001b[0m\u001b[0;34m)\u001b[0m\u001b[0;34m:\u001b[0m\u001b[0;34m\u001b[0m\u001b[0;34m\u001b[0m\u001b[0m\n\u001b[0;32m----> 5\u001b[0;31m     \u001b[0ma\u001b[0m\u001b[0;34m[\u001b[0m\u001b[0mi\u001b[0m\u001b[0;34m]\u001b[0m\u001b[0;34m+=\u001b[0m\u001b[0;36m1\u001b[0m\u001b[0;34m;\u001b[0m\u001b[0;34m\u001b[0m\u001b[0;34m\u001b[0m\u001b[0m\n\u001b[0m\u001b[1;32m      6\u001b[0m \u001b[0;34m\u001b[0m\u001b[0m\n\u001b[1;32m      7\u001b[0m \u001b[0ma\u001b[0m\u001b[0;34m=\u001b[0m \u001b[0mlist\u001b[0m\u001b[0;34m(\u001b[0m\u001b[0mrange\u001b[0m\u001b[0;34m(\u001b[0m\u001b[0;36m10\u001b[0m\u001b[0;34m)\u001b[0m\u001b[0;34m)\u001b[0m\u001b[0;34m\u001b[0m\u001b[0;34m\u001b[0m\u001b[0m\n",
            "\u001b[0;31mIndexError\u001b[0m: list index out of range"
          ]
        }
      ],
      "source": [
        "#%%write file buggy.py\n",
        "def imabuggyincrement(i,a):\n",
        "  \"\"\" Increment a[i] by 1\"\"\"\n",
        "  if ii< len(a):\n",
        "    a[i]+=1;\n",
        "\n",
        "a= list(range(10))\n",
        "ii=4\n",
        "imabuggyincrement(10,a)"
      ]
    },
    {
      "cell_type": "code",
      "execution_count": null,
      "metadata": {
        "colab": {
          "base_uri": "https://localhost:8080/"
        },
        "id": "2vUXNhh1jodW",
        "outputId": "c4a4ce34-f6dd-4a76-a575-1692a3321295"
      },
      "outputs": [
        {
          "name": "stdout",
          "output_type": "stream",
          "text": [
            "> \u001b[0;32m<ipython-input-52-7b8b6768c7ed>\u001b[0m(5)\u001b[0;36mimabuggyincrement\u001b[0;34m()\u001b[0m\n",
            "\u001b[0;32m      3 \u001b[0;31m  \u001b[0;34m\"\"\" Increment a[i] by 1\"\"\"\u001b[0m\u001b[0;34m\u001b[0m\u001b[0;34m\u001b[0m\u001b[0m\n",
            "\u001b[0m\u001b[0;32m      4 \u001b[0;31m  \u001b[0;32mif\u001b[0m \u001b[0mii\u001b[0m\u001b[0;34m<\u001b[0m \u001b[0mlen\u001b[0m\u001b[0;34m(\u001b[0m\u001b[0ma\u001b[0m\u001b[0;34m)\u001b[0m\u001b[0;34m:\u001b[0m\u001b[0;34m\u001b[0m\u001b[0;34m\u001b[0m\u001b[0m\n",
            "\u001b[0m\u001b[0;32m----> 5 \u001b[0;31m    \u001b[0ma\u001b[0m\u001b[0;34m[\u001b[0m\u001b[0mi\u001b[0m\u001b[0;34m]\u001b[0m\u001b[0;34m+=\u001b[0m\u001b[0;36m1\u001b[0m\u001b[0;34m;\u001b[0m\u001b[0;34m\u001b[0m\u001b[0;34m\u001b[0m\u001b[0m\n",
            "\u001b[0m\u001b[0;32m      6 \u001b[0;31m\u001b[0;34m\u001b[0m\u001b[0m\n",
            "\u001b[0m\u001b[0;32m      7 \u001b[0;31m\u001b[0ma\u001b[0m\u001b[0;34m=\u001b[0m \u001b[0mlist\u001b[0m\u001b[0;34m(\u001b[0m\u001b[0mrange\u001b[0m\u001b[0;34m(\u001b[0m\u001b[0;36m10\u001b[0m\u001b[0;34m)\u001b[0m\u001b[0;34m)\u001b[0m\u001b[0;34m\u001b[0m\u001b[0;34m\u001b[0m\u001b[0m\n",
            "\u001b[0m\n"
          ]
        },
        {
          "name": "stderr",
          "output_type": "stream",
          "text": [
            "\n",
            "PYDEV DEBUGGER WARNING:\n",
            "sys.settrace() should not be used when the debugger is being used.\n",
            "This may cause the debugger to stop working correctly.\n",
            "If this is needed, please check: \n",
            "http://pydev.blogspot.com/2007/06/why-cant-pydev-debugger-work-with.html\n",
            "to see how to restore the debug tracing back correctly.\n",
            "Call Location:\n",
            "  File \"/usr/lib/python3.10/bdb.py\", line 361, in set_quit\n",
            "    sys.settrace(None)\n",
            "\n",
            "\n",
            "PYDEV DEBUGGER WARNING:\n",
            "sys.settrace() should not be used when the debugger is being used.\n",
            "This may cause the debugger to stop working correctly.\n",
            "If this is needed, please check: \n",
            "http://pydev.blogspot.com/2007/06/why-cant-pydev-debugger-work-with.html\n",
            "to see how to restore the debug tracing back correctly.\n",
            "Call Location:\n",
            "  File \"/usr/local/lib/python3.10/dist-packages/IPython/core/debugger.py\", line 1075, in cmdloop\n",
            "    sys.settrace(None)\n",
            "\n"
          ]
        },
        {
          "name": "stdout",
          "output_type": "stream",
          "text": [
            "--KeyboardInterrupt--\n",
            "\n",
            "KeyboardInterrupt: Interrupted by user\n"
          ]
        }
      ],
      "source": [
        "%debug"
      ]
    },
    {
      "cell_type": "code",
      "execution_count": null,
      "metadata": {
        "id": "do4l51ayjyiJ"
      },
      "outputs": [],
      "source": [
        "def imabuggyincrement(i,a):\n",
        "  \"\"\" Increment a[i] by 1\"\"\"\n",
        "  try:\n",
        "    a[i]+=1;\n",
        "  except IndexError:\n",
        "    pass\n",
        "\n",
        "def main(arg=[]):\n",
        "  a= list(range(10))\n",
        "  ii=4\n",
        "  imabuggyincrement(10,a)\n",
        "\n",
        "if __name__=='__main__':\n",
        "  main()"
      ]
    },
    {
      "cell_type": "markdown",
      "metadata": {
        "id": "KipprBxETSm3"
      },
      "source": [
        "# Speeding up your code with Cython"
      ]
    },
    {
      "cell_type": "code",
      "execution_count": null,
      "metadata": {
        "id": "VddIPWZczlQY"
      },
      "outputs": [],
      "source": [
        "%load_ext Cython"
      ]
    },
    {
      "cell_type": "code",
      "execution_count": null,
      "metadata": {
        "id": "7i7cQa4ETUlP"
      },
      "outputs": [],
      "source": [
        "def pydot(v,w):\n",
        "    if len(v)==len(w) and len(v)>0:\n",
        "        res=v[0]*w[0]\n",
        "        for i in range(1,len(v)):\n",
        "            res+=v[i]*w[i]\n",
        "    return res"
      ]
    },
    {
      "cell_type": "code",
      "execution_count": null,
      "metadata": {
        "colab": {
          "base_uri": "https://localhost:8080/",
          "height": 192
        },
        "id": "pZi074MaTW5i",
        "outputId": "c96ffe31-5082-466f-bc90-ec1a40f84331"
      },
      "outputs": [
        {
          "data": {
            "text/html": [
              "<!DOCTYPE html>\n",
              "<!-- Generated by Cython 3.0.11 -->\n",
              "<html>\n",
              "<head>\n",
              "    <meta http-equiv=\"Content-Type\" content=\"text/html; charset=utf-8\" />\n",
              "    <title>Cython: _cython_magic_adc38cc7a932abc250077fc52c5b8f357dc9da3a.pyx</title>\n",
              "    <style type=\"text/css\">\n",
              "    \n",
              "body.cython { font-family: courier; font-size: 12; }\n",
              "\n",
              ".cython.tag  {  }\n",
              ".cython.line { color: #000000; margin: 0em }\n",
              ".cython.code { font-size: 9; color: #444444; display: none; margin: 0px 0px 0px 8px; border-left: 8px none; }\n",
              "\n",
              ".cython.line .run { background-color: #B0FFB0; }\n",
              ".cython.line .mis { background-color: #FFB0B0; }\n",
              ".cython.code.run  { border-left: 8px solid #B0FFB0; }\n",
              ".cython.code.mis  { border-left: 8px solid #FFB0B0; }\n",
              "\n",
              ".cython.code .py_c_api  { color: red; }\n",
              ".cython.code .py_macro_api  { color: #FF7000; }\n",
              ".cython.code .pyx_c_api  { color: #FF3000; }\n",
              ".cython.code .pyx_macro_api  { color: #FF7000; }\n",
              ".cython.code .refnanny  { color: #FFA000; }\n",
              ".cython.code .trace  { color: #FFA000; }\n",
              ".cython.code .error_goto  { color: #FFA000; }\n",
              "\n",
              ".cython.code .coerce  { color: #008000; border: 1px dotted #008000 }\n",
              ".cython.code .py_attr { color: #FF0000; font-weight: bold; }\n",
              ".cython.code .c_attr  { color: #0000FF; }\n",
              ".cython.code .py_call { color: #FF0000; font-weight: bold; }\n",
              ".cython.code .c_call  { color: #0000FF; }\n",
              "\n",
              ".cython.score-0 {background-color: #FFFFff;}\n",
              ".cython.score-1 {background-color: #FFFFe7;}\n",
              ".cython.score-2 {background-color: #FFFFd4;}\n",
              ".cython.score-3 {background-color: #FFFFc4;}\n",
              ".cython.score-4 {background-color: #FFFFb6;}\n",
              ".cython.score-5 {background-color: #FFFFaa;}\n",
              ".cython.score-6 {background-color: #FFFF9f;}\n",
              ".cython.score-7 {background-color: #FFFF96;}\n",
              ".cython.score-8 {background-color: #FFFF8d;}\n",
              ".cython.score-9 {background-color: #FFFF86;}\n",
              ".cython.score-10 {background-color: #FFFF7f;}\n",
              ".cython.score-11 {background-color: #FFFF79;}\n",
              ".cython.score-12 {background-color: #FFFF73;}\n",
              ".cython.score-13 {background-color: #FFFF6e;}\n",
              ".cython.score-14 {background-color: #FFFF6a;}\n",
              ".cython.score-15 {background-color: #FFFF66;}\n",
              ".cython.score-16 {background-color: #FFFF62;}\n",
              ".cython.score-17 {background-color: #FFFF5e;}\n",
              ".cython.score-18 {background-color: #FFFF5b;}\n",
              ".cython.score-19 {background-color: #FFFF57;}\n",
              ".cython.score-20 {background-color: #FFFF55;}\n",
              ".cython.score-21 {background-color: #FFFF52;}\n",
              ".cython.score-22 {background-color: #FFFF4f;}\n",
              ".cython.score-23 {background-color: #FFFF4d;}\n",
              ".cython.score-24 {background-color: #FFFF4b;}\n",
              ".cython.score-25 {background-color: #FFFF48;}\n",
              ".cython.score-26 {background-color: #FFFF46;}\n",
              ".cython.score-27 {background-color: #FFFF44;}\n",
              ".cython.score-28 {background-color: #FFFF43;}\n",
              ".cython.score-29 {background-color: #FFFF41;}\n",
              ".cython.score-30 {background-color: #FFFF3f;}\n",
              ".cython.score-31 {background-color: #FFFF3e;}\n",
              ".cython.score-32 {background-color: #FFFF3c;}\n",
              ".cython.score-33 {background-color: #FFFF3b;}\n",
              ".cython.score-34 {background-color: #FFFF39;}\n",
              ".cython.score-35 {background-color: #FFFF38;}\n",
              ".cython.score-36 {background-color: #FFFF37;}\n",
              ".cython.score-37 {background-color: #FFFF36;}\n",
              ".cython.score-38 {background-color: #FFFF35;}\n",
              ".cython.score-39 {background-color: #FFFF34;}\n",
              ".cython.score-40 {background-color: #FFFF33;}\n",
              ".cython.score-41 {background-color: #FFFF32;}\n",
              ".cython.score-42 {background-color: #FFFF31;}\n",
              ".cython.score-43 {background-color: #FFFF30;}\n",
              ".cython.score-44 {background-color: #FFFF2f;}\n",
              ".cython.score-45 {background-color: #FFFF2e;}\n",
              ".cython.score-46 {background-color: #FFFF2d;}\n",
              ".cython.score-47 {background-color: #FFFF2c;}\n",
              ".cython.score-48 {background-color: #FFFF2b;}\n",
              ".cython.score-49 {background-color: #FFFF2b;}\n",
              ".cython.score-50 {background-color: #FFFF2a;}\n",
              ".cython.score-51 {background-color: #FFFF29;}\n",
              ".cython.score-52 {background-color: #FFFF29;}\n",
              ".cython.score-53 {background-color: #FFFF28;}\n",
              ".cython.score-54 {background-color: #FFFF27;}\n",
              ".cython.score-55 {background-color: #FFFF27;}\n",
              ".cython.score-56 {background-color: #FFFF26;}\n",
              ".cython.score-57 {background-color: #FFFF26;}\n",
              ".cython.score-58 {background-color: #FFFF25;}\n",
              ".cython.score-59 {background-color: #FFFF24;}\n",
              ".cython.score-60 {background-color: #FFFF24;}\n",
              ".cython.score-61 {background-color: #FFFF23;}\n",
              ".cython.score-62 {background-color: #FFFF23;}\n",
              ".cython.score-63 {background-color: #FFFF22;}\n",
              ".cython.score-64 {background-color: #FFFF22;}\n",
              ".cython.score-65 {background-color: #FFFF22;}\n",
              ".cython.score-66 {background-color: #FFFF21;}\n",
              ".cython.score-67 {background-color: #FFFF21;}\n",
              ".cython.score-68 {background-color: #FFFF20;}\n",
              ".cython.score-69 {background-color: #FFFF20;}\n",
              ".cython.score-70 {background-color: #FFFF1f;}\n",
              ".cython.score-71 {background-color: #FFFF1f;}\n",
              ".cython.score-72 {background-color: #FFFF1f;}\n",
              ".cython.score-73 {background-color: #FFFF1e;}\n",
              ".cython.score-74 {background-color: #FFFF1e;}\n",
              ".cython.score-75 {background-color: #FFFF1e;}\n",
              ".cython.score-76 {background-color: #FFFF1d;}\n",
              ".cython.score-77 {background-color: #FFFF1d;}\n",
              ".cython.score-78 {background-color: #FFFF1c;}\n",
              ".cython.score-79 {background-color: #FFFF1c;}\n",
              ".cython.score-80 {background-color: #FFFF1c;}\n",
              ".cython.score-81 {background-color: #FFFF1c;}\n",
              ".cython.score-82 {background-color: #FFFF1b;}\n",
              ".cython.score-83 {background-color: #FFFF1b;}\n",
              ".cython.score-84 {background-color: #FFFF1b;}\n",
              ".cython.score-85 {background-color: #FFFF1a;}\n",
              ".cython.score-86 {background-color: #FFFF1a;}\n",
              ".cython.score-87 {background-color: #FFFF1a;}\n",
              ".cython.score-88 {background-color: #FFFF1a;}\n",
              ".cython.score-89 {background-color: #FFFF19;}\n",
              ".cython.score-90 {background-color: #FFFF19;}\n",
              ".cython.score-91 {background-color: #FFFF19;}\n",
              ".cython.score-92 {background-color: #FFFF19;}\n",
              ".cython.score-93 {background-color: #FFFF18;}\n",
              ".cython.score-94 {background-color: #FFFF18;}\n",
              ".cython.score-95 {background-color: #FFFF18;}\n",
              ".cython.score-96 {background-color: #FFFF18;}\n",
              ".cython.score-97 {background-color: #FFFF17;}\n",
              ".cython.score-98 {background-color: #FFFF17;}\n",
              ".cython.score-99 {background-color: #FFFF17;}\n",
              ".cython.score-100 {background-color: #FFFF17;}\n",
              ".cython.score-101 {background-color: #FFFF16;}\n",
              ".cython.score-102 {background-color: #FFFF16;}\n",
              ".cython.score-103 {background-color: #FFFF16;}\n",
              ".cython.score-104 {background-color: #FFFF16;}\n",
              ".cython.score-105 {background-color: #FFFF16;}\n",
              ".cython.score-106 {background-color: #FFFF15;}\n",
              ".cython.score-107 {background-color: #FFFF15;}\n",
              ".cython.score-108 {background-color: #FFFF15;}\n",
              ".cython.score-109 {background-color: #FFFF15;}\n",
              ".cython.score-110 {background-color: #FFFF15;}\n",
              ".cython.score-111 {background-color: #FFFF15;}\n",
              ".cython.score-112 {background-color: #FFFF14;}\n",
              ".cython.score-113 {background-color: #FFFF14;}\n",
              ".cython.score-114 {background-color: #FFFF14;}\n",
              ".cython.score-115 {background-color: #FFFF14;}\n",
              ".cython.score-116 {background-color: #FFFF14;}\n",
              ".cython.score-117 {background-color: #FFFF14;}\n",
              ".cython.score-118 {background-color: #FFFF13;}\n",
              ".cython.score-119 {background-color: #FFFF13;}\n",
              ".cython.score-120 {background-color: #FFFF13;}\n",
              ".cython.score-121 {background-color: #FFFF13;}\n",
              ".cython.score-122 {background-color: #FFFF13;}\n",
              ".cython.score-123 {background-color: #FFFF13;}\n",
              ".cython.score-124 {background-color: #FFFF13;}\n",
              ".cython.score-125 {background-color: #FFFF12;}\n",
              ".cython.score-126 {background-color: #FFFF12;}\n",
              ".cython.score-127 {background-color: #FFFF12;}\n",
              ".cython.score-128 {background-color: #FFFF12;}\n",
              ".cython.score-129 {background-color: #FFFF12;}\n",
              ".cython.score-130 {background-color: #FFFF12;}\n",
              ".cython.score-131 {background-color: #FFFF12;}\n",
              ".cython.score-132 {background-color: #FFFF11;}\n",
              ".cython.score-133 {background-color: #FFFF11;}\n",
              ".cython.score-134 {background-color: #FFFF11;}\n",
              ".cython.score-135 {background-color: #FFFF11;}\n",
              ".cython.score-136 {background-color: #FFFF11;}\n",
              ".cython.score-137 {background-color: #FFFF11;}\n",
              ".cython.score-138 {background-color: #FFFF11;}\n",
              ".cython.score-139 {background-color: #FFFF11;}\n",
              ".cython.score-140 {background-color: #FFFF11;}\n",
              ".cython.score-141 {background-color: #FFFF10;}\n",
              ".cython.score-142 {background-color: #FFFF10;}\n",
              ".cython.score-143 {background-color: #FFFF10;}\n",
              ".cython.score-144 {background-color: #FFFF10;}\n",
              ".cython.score-145 {background-color: #FFFF10;}\n",
              ".cython.score-146 {background-color: #FFFF10;}\n",
              ".cython.score-147 {background-color: #FFFF10;}\n",
              ".cython.score-148 {background-color: #FFFF10;}\n",
              ".cython.score-149 {background-color: #FFFF10;}\n",
              ".cython.score-150 {background-color: #FFFF0f;}\n",
              ".cython.score-151 {background-color: #FFFF0f;}\n",
              ".cython.score-152 {background-color: #FFFF0f;}\n",
              ".cython.score-153 {background-color: #FFFF0f;}\n",
              ".cython.score-154 {background-color: #FFFF0f;}\n",
              ".cython.score-155 {background-color: #FFFF0f;}\n",
              ".cython.score-156 {background-color: #FFFF0f;}\n",
              ".cython.score-157 {background-color: #FFFF0f;}\n",
              ".cython.score-158 {background-color: #FFFF0f;}\n",
              ".cython.score-159 {background-color: #FFFF0f;}\n",
              ".cython.score-160 {background-color: #FFFF0f;}\n",
              ".cython.score-161 {background-color: #FFFF0e;}\n",
              ".cython.score-162 {background-color: #FFFF0e;}\n",
              ".cython.score-163 {background-color: #FFFF0e;}\n",
              ".cython.score-164 {background-color: #FFFF0e;}\n",
              ".cython.score-165 {background-color: #FFFF0e;}\n",
              ".cython.score-166 {background-color: #FFFF0e;}\n",
              ".cython.score-167 {background-color: #FFFF0e;}\n",
              ".cython.score-168 {background-color: #FFFF0e;}\n",
              ".cython.score-169 {background-color: #FFFF0e;}\n",
              ".cython.score-170 {background-color: #FFFF0e;}\n",
              ".cython.score-171 {background-color: #FFFF0e;}\n",
              ".cython.score-172 {background-color: #FFFF0e;}\n",
              ".cython.score-173 {background-color: #FFFF0d;}\n",
              ".cython.score-174 {background-color: #FFFF0d;}\n",
              ".cython.score-175 {background-color: #FFFF0d;}\n",
              ".cython.score-176 {background-color: #FFFF0d;}\n",
              ".cython.score-177 {background-color: #FFFF0d;}\n",
              ".cython.score-178 {background-color: #FFFF0d;}\n",
              ".cython.score-179 {background-color: #FFFF0d;}\n",
              ".cython.score-180 {background-color: #FFFF0d;}\n",
              ".cython.score-181 {background-color: #FFFF0d;}\n",
              ".cython.score-182 {background-color: #FFFF0d;}\n",
              ".cython.score-183 {background-color: #FFFF0d;}\n",
              ".cython.score-184 {background-color: #FFFF0d;}\n",
              ".cython.score-185 {background-color: #FFFF0d;}\n",
              ".cython.score-186 {background-color: #FFFF0d;}\n",
              ".cython.score-187 {background-color: #FFFF0c;}\n",
              ".cython.score-188 {background-color: #FFFF0c;}\n",
              ".cython.score-189 {background-color: #FFFF0c;}\n",
              ".cython.score-190 {background-color: #FFFF0c;}\n",
              ".cython.score-191 {background-color: #FFFF0c;}\n",
              ".cython.score-192 {background-color: #FFFF0c;}\n",
              ".cython.score-193 {background-color: #FFFF0c;}\n",
              ".cython.score-194 {background-color: #FFFF0c;}\n",
              ".cython.score-195 {background-color: #FFFF0c;}\n",
              ".cython.score-196 {background-color: #FFFF0c;}\n",
              ".cython.score-197 {background-color: #FFFF0c;}\n",
              ".cython.score-198 {background-color: #FFFF0c;}\n",
              ".cython.score-199 {background-color: #FFFF0c;}\n",
              ".cython.score-200 {background-color: #FFFF0c;}\n",
              ".cython.score-201 {background-color: #FFFF0c;}\n",
              ".cython.score-202 {background-color: #FFFF0c;}\n",
              ".cython.score-203 {background-color: #FFFF0b;}\n",
              ".cython.score-204 {background-color: #FFFF0b;}\n",
              ".cython.score-205 {background-color: #FFFF0b;}\n",
              ".cython.score-206 {background-color: #FFFF0b;}\n",
              ".cython.score-207 {background-color: #FFFF0b;}\n",
              ".cython.score-208 {background-color: #FFFF0b;}\n",
              ".cython.score-209 {background-color: #FFFF0b;}\n",
              ".cython.score-210 {background-color: #FFFF0b;}\n",
              ".cython.score-211 {background-color: #FFFF0b;}\n",
              ".cython.score-212 {background-color: #FFFF0b;}\n",
              ".cython.score-213 {background-color: #FFFF0b;}\n",
              ".cython.score-214 {background-color: #FFFF0b;}\n",
              ".cython.score-215 {background-color: #FFFF0b;}\n",
              ".cython.score-216 {background-color: #FFFF0b;}\n",
              ".cython.score-217 {background-color: #FFFF0b;}\n",
              ".cython.score-218 {background-color: #FFFF0b;}\n",
              ".cython.score-219 {background-color: #FFFF0b;}\n",
              ".cython.score-220 {background-color: #FFFF0b;}\n",
              ".cython.score-221 {background-color: #FFFF0b;}\n",
              ".cython.score-222 {background-color: #FFFF0a;}\n",
              ".cython.score-223 {background-color: #FFFF0a;}\n",
              ".cython.score-224 {background-color: #FFFF0a;}\n",
              ".cython.score-225 {background-color: #FFFF0a;}\n",
              ".cython.score-226 {background-color: #FFFF0a;}\n",
              ".cython.score-227 {background-color: #FFFF0a;}\n",
              ".cython.score-228 {background-color: #FFFF0a;}\n",
              ".cython.score-229 {background-color: #FFFF0a;}\n",
              ".cython.score-230 {background-color: #FFFF0a;}\n",
              ".cython.score-231 {background-color: #FFFF0a;}\n",
              ".cython.score-232 {background-color: #FFFF0a;}\n",
              ".cython.score-233 {background-color: #FFFF0a;}\n",
              ".cython.score-234 {background-color: #FFFF0a;}\n",
              ".cython.score-235 {background-color: #FFFF0a;}\n",
              ".cython.score-236 {background-color: #FFFF0a;}\n",
              ".cython.score-237 {background-color: #FFFF0a;}\n",
              ".cython.score-238 {background-color: #FFFF0a;}\n",
              ".cython.score-239 {background-color: #FFFF0a;}\n",
              ".cython.score-240 {background-color: #FFFF0a;}\n",
              ".cython.score-241 {background-color: #FFFF0a;}\n",
              ".cython.score-242 {background-color: #FFFF0a;}\n",
              ".cython.score-243 {background-color: #FFFF0a;}\n",
              ".cython.score-244 {background-color: #FFFF0a;}\n",
              ".cython.score-245 {background-color: #FFFF0a;}\n",
              ".cython.score-246 {background-color: #FFFF09;}\n",
              ".cython.score-247 {background-color: #FFFF09;}\n",
              ".cython.score-248 {background-color: #FFFF09;}\n",
              ".cython.score-249 {background-color: #FFFF09;}\n",
              ".cython.score-250 {background-color: #FFFF09;}\n",
              ".cython.score-251 {background-color: #FFFF09;}\n",
              ".cython.score-252 {background-color: #FFFF09;}\n",
              ".cython.score-253 {background-color: #FFFF09;}\n",
              ".cython.score-254 {background-color: #FFFF09;}\n",
              "pre { line-height: 125%; }\n",
              "td.linenos .normal { color: inherit; background-color: transparent; padding-left: 5px; padding-right: 5px; }\n",
              "span.linenos { color: inherit; background-color: transparent; padding-left: 5px; padding-right: 5px; }\n",
              "td.linenos .special { color: #000000; background-color: #ffffc0; padding-left: 5px; padding-right: 5px; }\n",
              "span.linenos.special { color: #000000; background-color: #ffffc0; padding-left: 5px; padding-right: 5px; }\n",
              ".cython .hll { background-color: #ffffcc }\n",
              ".cython { background: #f8f8f8; }\n",
              ".cython .c { color: #3D7B7B; font-style: italic } /* Comment */\n",
              ".cython .err { border: 1px solid #FF0000 } /* Error */\n",
              ".cython .k { color: #008000; font-weight: bold } /* Keyword */\n",
              ".cython .o { color: #666666 } /* Operator */\n",
              ".cython .ch { color: #3D7B7B; font-style: italic } /* Comment.Hashbang */\n",
              ".cython .cm { color: #3D7B7B; font-style: italic } /* Comment.Multiline */\n",
              ".cython .cp { color: #9C6500 } /* Comment.Preproc */\n",
              ".cython .cpf { color: #3D7B7B; font-style: italic } /* Comment.PreprocFile */\n",
              ".cython .c1 { color: #3D7B7B; font-style: italic } /* Comment.Single */\n",
              ".cython .cs { color: #3D7B7B; font-style: italic } /* Comment.Special */\n",
              ".cython .gd { color: #A00000 } /* Generic.Deleted */\n",
              ".cython .ge { font-style: italic } /* Generic.Emph */\n",
              ".cython .ges { font-weight: bold; font-style: italic } /* Generic.EmphStrong */\n",
              ".cython .gr { color: #E40000 } /* Generic.Error */\n",
              ".cython .gh { color: #000080; font-weight: bold } /* Generic.Heading */\n",
              ".cython .gi { color: #008400 } /* Generic.Inserted */\n",
              ".cython .go { color: #717171 } /* Generic.Output */\n",
              ".cython .gp { color: #000080; font-weight: bold } /* Generic.Prompt */\n",
              ".cython .gs { font-weight: bold } /* Generic.Strong */\n",
              ".cython .gu { color: #800080; font-weight: bold } /* Generic.Subheading */\n",
              ".cython .gt { color: #0044DD } /* Generic.Traceback */\n",
              ".cython .kc { color: #008000; font-weight: bold } /* Keyword.Constant */\n",
              ".cython .kd { color: #008000; font-weight: bold } /* Keyword.Declaration */\n",
              ".cython .kn { color: #008000; font-weight: bold } /* Keyword.Namespace */\n",
              ".cython .kp { color: #008000 } /* Keyword.Pseudo */\n",
              ".cython .kr { color: #008000; font-weight: bold } /* Keyword.Reserved */\n",
              ".cython .kt { color: #B00040 } /* Keyword.Type */\n",
              ".cython .m { color: #666666 } /* Literal.Number */\n",
              ".cython .s { color: #BA2121 } /* Literal.String */\n",
              ".cython .na { color: #687822 } /* Name.Attribute */\n",
              ".cython .nb { color: #008000 } /* Name.Builtin */\n",
              ".cython .nc { color: #0000FF; font-weight: bold } /* Name.Class */\n",
              ".cython .no { color: #880000 } /* Name.Constant */\n",
              ".cython .nd { color: #AA22FF } /* Name.Decorator */\n",
              ".cython .ni { color: #717171; font-weight: bold } /* Name.Entity */\n",
              ".cython .ne { color: #CB3F38; font-weight: bold } /* Name.Exception */\n",
              ".cython .nf { color: #0000FF } /* Name.Function */\n",
              ".cython .nl { color: #767600 } /* Name.Label */\n",
              ".cython .nn { color: #0000FF; font-weight: bold } /* Name.Namespace */\n",
              ".cython .nt { color: #008000; font-weight: bold } /* Name.Tag */\n",
              ".cython .nv { color: #19177C } /* Name.Variable */\n",
              ".cython .ow { color: #AA22FF; font-weight: bold } /* Operator.Word */\n",
              ".cython .w { color: #bbbbbb } /* Text.Whitespace */\n",
              ".cython .mb { color: #666666 } /* Literal.Number.Bin */\n",
              ".cython .mf { color: #666666 } /* Literal.Number.Float */\n",
              ".cython .mh { color: #666666 } /* Literal.Number.Hex */\n",
              ".cython .mi { color: #666666 } /* Literal.Number.Integer */\n",
              ".cython .mo { color: #666666 } /* Literal.Number.Oct */\n",
              ".cython .sa { color: #BA2121 } /* Literal.String.Affix */\n",
              ".cython .sb { color: #BA2121 } /* Literal.String.Backtick */\n",
              ".cython .sc { color: #BA2121 } /* Literal.String.Char */\n",
              ".cython .dl { color: #BA2121 } /* Literal.String.Delimiter */\n",
              ".cython .sd { color: #BA2121; font-style: italic } /* Literal.String.Doc */\n",
              ".cython .s2 { color: #BA2121 } /* Literal.String.Double */\n",
              ".cython .se { color: #AA5D1F; font-weight: bold } /* Literal.String.Escape */\n",
              ".cython .sh { color: #BA2121 } /* Literal.String.Heredoc */\n",
              ".cython .si { color: #A45A77; font-weight: bold } /* Literal.String.Interpol */\n",
              ".cython .sx { color: #008000 } /* Literal.String.Other */\n",
              ".cython .sr { color: #A45A77 } /* Literal.String.Regex */\n",
              ".cython .s1 { color: #BA2121 } /* Literal.String.Single */\n",
              ".cython .ss { color: #19177C } /* Literal.String.Symbol */\n",
              ".cython .bp { color: #008000 } /* Name.Builtin.Pseudo */\n",
              ".cython .fm { color: #0000FF } /* Name.Function.Magic */\n",
              ".cython .vc { color: #19177C } /* Name.Variable.Class */\n",
              ".cython .vg { color: #19177C } /* Name.Variable.Global */\n",
              ".cython .vi { color: #19177C } /* Name.Variable.Instance */\n",
              ".cython .vm { color: #19177C } /* Name.Variable.Magic */\n",
              ".cython .il { color: #666666 } /* Literal.Number.Integer.Long */\n",
              "    </style>\n",
              "</head>\n",
              "<body class=\"cython\">\n",
              "<p><span style=\"border-bottom: solid 1px grey;\">Generated by Cython 3.0.11</span></p>\n",
              "<p>\n",
              "    <span style=\"background-color: #FFFF00\">Yellow lines</span> hint at Python interaction.<br />\n",
              "    Click on a line that starts with a \"<code>+</code>\" to see the C code that Cython generated for it.\n",
              "</p>\n",
              "<div class=\"cython\"><pre class=\"cython line score-75\" onclick=\"(function(s){s.display=s.display==='block'?'none':'block'})(this.nextElementSibling.style)\">+<span class=\"\">1</span>: <span class=\"k\">def</span> <span class=\"nf\">dot</span><span class=\"p\">(</span><span class=\"n\">v</span><span class=\"p\">,</span><span class=\"n\">w</span><span class=\"p\">):</span></pre>\n",
              "<pre class='cython code score-75 '>/* Python wrapper */\n",
              "static PyObject *__pyx_pw_54_cython_magic_adc38cc7a932abc250077fc52c5b8f357dc9da3a_1dot(PyObject *__pyx_self, \n",
              "#if CYTHON_METH_FASTCALL\n",
              "PyObject *const *__pyx_args, Py_ssize_t __pyx_nargs, PyObject *__pyx_kwds\n",
              "#else\n",
              "PyObject *__pyx_args, PyObject *__pyx_kwds\n",
              "#endif\n",
              "); /*proto*/\n",
              "static PyMethodDef __pyx_mdef_54_cython_magic_adc38cc7a932abc250077fc52c5b8f357dc9da3a_1dot = {\"dot\", (PyCFunction)(void*)(__Pyx_PyCFunction_FastCallWithKeywords)__pyx_pw_54_cython_magic_adc38cc7a932abc250077fc52c5b8f357dc9da3a_1dot, __Pyx_METH_FASTCALL|METH_KEYWORDS, 0};\n",
              "static PyObject *__pyx_pw_54_cython_magic_adc38cc7a932abc250077fc52c5b8f357dc9da3a_1dot(PyObject *__pyx_self, \n",
              "#if CYTHON_METH_FASTCALL\n",
              "PyObject *const *__pyx_args, Py_ssize_t __pyx_nargs, PyObject *__pyx_kwds\n",
              "#else\n",
              "PyObject *__pyx_args, PyObject *__pyx_kwds\n",
              "#endif\n",
              ") {\n",
              "  PyObject *__pyx_v_v = 0;\n",
              "  PyObject *__pyx_v_w = 0;\n",
              "  #if !CYTHON_METH_FASTCALL\n",
              "  CYTHON_UNUSED Py_ssize_t __pyx_nargs;\n",
              "  #endif\n",
              "  CYTHON_UNUSED PyObject *const *__pyx_kwvalues;\n",
              "  PyObject *__pyx_r = 0;\n",
              "  <span class='refnanny'>__Pyx_RefNannyDeclarations</span>\n",
              "  <span class='refnanny'>__Pyx_RefNannySetupContext</span>(\"dot (wrapper)\", 0);\n",
              "  #if !CYTHON_METH_FASTCALL\n",
              "  #if CYTHON_ASSUME_SAFE_MACROS\n",
              "  __pyx_nargs = <span class='py_macro_api'>PyTuple_GET_SIZE</span>(__pyx_args);\n",
              "  #else\n",
              "  __pyx_nargs = <span class='py_c_api'>PyTuple_Size</span>(__pyx_args); if (unlikely(__pyx_nargs &lt; 0)) return NULL;\n",
              "  #endif\n",
              "  #endif\n",
              "  __pyx_kwvalues = <span class='pyx_c_api'>__Pyx_KwValues_FASTCALL</span>(__pyx_args, __pyx_nargs);\n",
              "  {\n",
              "    PyObject **__pyx_pyargnames[] = {&amp;__pyx_n_s_v,&amp;__pyx_n_s_w,0};\n",
              "  PyObject* values[2] = {0,0};\n",
              "    if (__pyx_kwds) {\n",
              "      Py_ssize_t kw_args;\n",
              "      switch (__pyx_nargs) {\n",
              "        case  2: values[1] = <span class='pyx_c_api'>__Pyx_Arg_FASTCALL</span>(__pyx_args, 1);\n",
              "        CYTHON_FALLTHROUGH;\n",
              "        case  1: values[0] = <span class='pyx_c_api'>__Pyx_Arg_FASTCALL</span>(__pyx_args, 0);\n",
              "        CYTHON_FALLTHROUGH;\n",
              "        case  0: break;\n",
              "        default: goto __pyx_L5_argtuple_error;\n",
              "      }\n",
              "      kw_args = <span class='pyx_c_api'>__Pyx_NumKwargs_FASTCALL</span>(__pyx_kwds);\n",
              "      switch (__pyx_nargs) {\n",
              "        case  0:\n",
              "        if (likely((values[0] = <span class='pyx_c_api'>__Pyx_GetKwValue_FASTCALL</span>(__pyx_kwds, __pyx_kwvalues, __pyx_n_s_v)) != 0)) {\n",
              "          (void)<span class='pyx_c_api'>__Pyx_Arg_NewRef_FASTCALL</span>(values[0]);\n",
              "          kw_args--;\n",
              "        }\n",
              "        else if (unlikely(<span class='py_c_api'>PyErr_Occurred</span>())) <span class='error_goto'>__PYX_ERR(0, 1, __pyx_L3_error)</span>\n",
              "        else goto __pyx_L5_argtuple_error;\n",
              "        CYTHON_FALLTHROUGH;\n",
              "        case  1:\n",
              "        if (likely((values[1] = <span class='pyx_c_api'>__Pyx_GetKwValue_FASTCALL</span>(__pyx_kwds, __pyx_kwvalues, __pyx_n_s_w)) != 0)) {\n",
              "          (void)<span class='pyx_c_api'>__Pyx_Arg_NewRef_FASTCALL</span>(values[1]);\n",
              "          kw_args--;\n",
              "        }\n",
              "        else if (unlikely(<span class='py_c_api'>PyErr_Occurred</span>())) <span class='error_goto'>__PYX_ERR(0, 1, __pyx_L3_error)</span>\n",
              "        else {\n",
              "          <span class='pyx_c_api'>__Pyx_RaiseArgtupleInvalid</span>(\"dot\", 1, 2, 2, 1); <span class='error_goto'>__PYX_ERR(0, 1, __pyx_L3_error)</span>\n",
              "        }\n",
              "      }\n",
              "      if (unlikely(kw_args &gt; 0)) {\n",
              "        const Py_ssize_t kwd_pos_args = __pyx_nargs;\n",
              "        if (unlikely(<span class='pyx_c_api'>__Pyx_ParseOptionalKeywords</span>(__pyx_kwds, __pyx_kwvalues, __pyx_pyargnames, 0, values + 0, kwd_pos_args, \"dot\") &lt; 0)) <span class='error_goto'>__PYX_ERR(0, 1, __pyx_L3_error)</span>\n",
              "      }\n",
              "    } else if (unlikely(__pyx_nargs != 2)) {\n",
              "      goto __pyx_L5_argtuple_error;\n",
              "    } else {\n",
              "      values[0] = <span class='pyx_c_api'>__Pyx_Arg_FASTCALL</span>(__pyx_args, 0);\n",
              "      values[1] = <span class='pyx_c_api'>__Pyx_Arg_FASTCALL</span>(__pyx_args, 1);\n",
              "    }\n",
              "    __pyx_v_v = values[0];\n",
              "    __pyx_v_w = values[1];\n",
              "  }\n",
              "  goto __pyx_L6_skip;\n",
              "  __pyx_L5_argtuple_error:;\n",
              "  <span class='pyx_c_api'>__Pyx_RaiseArgtupleInvalid</span>(\"dot\", 1, 2, 2, __pyx_nargs); <span class='error_goto'>__PYX_ERR(0, 1, __pyx_L3_error)</span>\n",
              "  __pyx_L6_skip:;\n",
              "  goto __pyx_L4_argument_unpacking_done;\n",
              "  __pyx_L3_error:;\n",
              "  {\n",
              "    Py_ssize_t __pyx_temp;\n",
              "    for (__pyx_temp=0; __pyx_temp &lt; (Py_ssize_t)(sizeof(values)/sizeof(values[0])); ++__pyx_temp) {\n",
              "      <span class='pyx_c_api'>__Pyx_Arg_XDECREF_FASTCALL</span>(values[__pyx_temp]);\n",
              "    }\n",
              "  }\n",
              "  <span class='pyx_c_api'>__Pyx_AddTraceback</span>(\"_cython_magic_adc38cc7a932abc250077fc52c5b8f357dc9da3a.dot\", __pyx_clineno, __pyx_lineno, __pyx_filename);\n",
              "  <span class='refnanny'>__Pyx_RefNannyFinishContext</span>();\n",
              "  return NULL;\n",
              "  __pyx_L4_argument_unpacking_done:;\n",
              "  __pyx_r = __pyx_pf_54_cython_magic_adc38cc7a932abc250077fc52c5b8f357dc9da3a_dot(__pyx_self, __pyx_v_v, __pyx_v_w);\n",
              "  int __pyx_lineno = 0;\n",
              "  const char *__pyx_filename = NULL;\n",
              "  int __pyx_clineno = 0;\n",
              "\n",
              "  /* function exit code */\n",
              "  {\n",
              "    Py_ssize_t __pyx_temp;\n",
              "    for (__pyx_temp=0; __pyx_temp &lt; (Py_ssize_t)(sizeof(values)/sizeof(values[0])); ++__pyx_temp) {\n",
              "      <span class='pyx_c_api'>__Pyx_Arg_XDECREF_FASTCALL</span>(values[__pyx_temp]);\n",
              "    }\n",
              "  }\n",
              "  <span class='refnanny'>__Pyx_RefNannyFinishContext</span>();\n",
              "  return __pyx_r;\n",
              "}\n",
              "\n",
              "static PyObject *__pyx_pf_54_cython_magic_adc38cc7a932abc250077fc52c5b8f357dc9da3a_dot(CYTHON_UNUSED PyObject *__pyx_self, PyObject *__pyx_v_v, PyObject *__pyx_v_w) {\n",
              "  PyObject *__pyx_v_res = NULL;\n",
              "  Py_ssize_t __pyx_v_i;\n",
              "  PyObject *__pyx_r = NULL;\n",
              "/* … */\n",
              "  /* function exit code */\n",
              "  __pyx_L1_error:;\n",
              "  <span class='pyx_macro_api'>__Pyx_XDECREF</span>(__pyx_t_5);\n",
              "  <span class='pyx_macro_api'>__Pyx_XDECREF</span>(__pyx_t_6);\n",
              "  <span class='pyx_macro_api'>__Pyx_XDECREF</span>(__pyx_t_7);\n",
              "  <span class='pyx_c_api'>__Pyx_AddTraceback</span>(\"_cython_magic_adc38cc7a932abc250077fc52c5b8f357dc9da3a.dot\", __pyx_clineno, __pyx_lineno, __pyx_filename);\n",
              "  __pyx_r = NULL;\n",
              "  __pyx_L0:;\n",
              "  <span class='pyx_macro_api'>__Pyx_XDECREF</span>(__pyx_v_res);\n",
              "  <span class='refnanny'>__Pyx_XGIVEREF</span>(__pyx_r);\n",
              "  <span class='refnanny'>__Pyx_RefNannyFinishContext</span>();\n",
              "  return __pyx_r;\n",
              "}\n",
              "/* … */\n",
              "  __pyx_tuple_ = <span class='py_c_api'>PyTuple_Pack</span>(4, __pyx_n_s_v, __pyx_n_s_w, __pyx_n_s_res, __pyx_n_s_i);<span class='error_goto'> if (unlikely(!__pyx_tuple_)) __PYX_ERR(0, 1, __pyx_L1_error)</span>\n",
              "  <span class='refnanny'>__Pyx_GOTREF</span>(__pyx_tuple_);\n",
              "  <span class='refnanny'>__Pyx_GIVEREF</span>(__pyx_tuple_);\n",
              "/* … */\n",
              "  __pyx_t_2 = <span class='pyx_c_api'>__Pyx_CyFunction_New</span>(&amp;__pyx_mdef_54_cython_magic_adc38cc7a932abc250077fc52c5b8f357dc9da3a_1dot, 0, __pyx_n_s_dot, NULL, __pyx_n_s_cython_magic_adc38cc7a932abc250, __pyx_d, ((PyObject *)__pyx_codeobj__2));<span class='error_goto'> if (unlikely(!__pyx_t_2)) __PYX_ERR(0, 1, __pyx_L1_error)</span>\n",
              "  <span class='refnanny'>__Pyx_GOTREF</span>(__pyx_t_2);\n",
              "  if (<span class='py_c_api'>PyDict_SetItem</span>(__pyx_d, __pyx_n_s_dot, __pyx_t_2) &lt; 0) <span class='error_goto'>__PYX_ERR(0, 1, __pyx_L1_error)</span>\n",
              "  <span class='pyx_macro_api'>__Pyx_DECREF</span>(__pyx_t_2); __pyx_t_2 = 0;\n",
              "  __pyx_t_2 = <span class='pyx_c_api'>__Pyx_PyDict_NewPresized</span>(0);<span class='error_goto'> if (unlikely(!__pyx_t_2)) __PYX_ERR(0, 1, __pyx_L1_error)</span>\n",
              "  <span class='refnanny'>__Pyx_GOTREF</span>(__pyx_t_2);\n",
              "  if (<span class='py_c_api'>PyDict_SetItem</span>(__pyx_d, __pyx_n_s_test, __pyx_t_2) &lt; 0) <span class='error_goto'>__PYX_ERR(0, 1, __pyx_L1_error)</span>\n",
              "  <span class='pyx_macro_api'>__Pyx_DECREF</span>(__pyx_t_2); __pyx_t_2 = 0;\n",
              "</pre><pre class=\"cython line score-15\" onclick=\"(function(s){s.display=s.display==='block'?'none':'block'})(this.nextElementSibling.style)\">+<span class=\"\">2</span>:     <span class=\"k\">if</span> <span class=\"nb\">len</span><span class=\"p\">(</span><span class=\"n\">v</span><span class=\"p\">)</span><span class=\"o\">==</span><span class=\"nb\">len</span><span class=\"p\">(</span><span class=\"n\">w</span><span class=\"p\">)</span> <span class=\"ow\">and</span> <span class=\"nb\">len</span><span class=\"p\">(</span><span class=\"n\">v</span><span class=\"p\">)</span><span class=\"o\">&gt;</span><span class=\"mf\">0</span><span class=\"p\">:</span></pre>\n",
              "<pre class='cython code score-15 '>  __pyx_t_2 = <span class='py_c_api'>PyObject_Length</span>(__pyx_v_v);<span class='error_goto'> if (unlikely(__pyx_t_2 == ((Py_ssize_t)-1))) __PYX_ERR(0, 2, __pyx_L1_error)</span>\n",
              "  __pyx_t_3 = <span class='py_c_api'>PyObject_Length</span>(__pyx_v_w);<span class='error_goto'> if (unlikely(__pyx_t_3 == ((Py_ssize_t)-1))) __PYX_ERR(0, 2, __pyx_L1_error)</span>\n",
              "  __pyx_t_4 = (__pyx_t_2 == __pyx_t_3);\n",
              "  if (__pyx_t_4) {\n",
              "  } else {\n",
              "    __pyx_t_1 = __pyx_t_4;\n",
              "    goto __pyx_L4_bool_binop_done;\n",
              "  }\n",
              "  __pyx_t_3 = <span class='py_c_api'>PyObject_Length</span>(__pyx_v_v);<span class='error_goto'> if (unlikely(__pyx_t_3 == ((Py_ssize_t)-1))) __PYX_ERR(0, 2, __pyx_L1_error)</span>\n",
              "  __pyx_t_4 = (__pyx_t_3 &gt; 0);\n",
              "  __pyx_t_1 = __pyx_t_4;\n",
              "  __pyx_L4_bool_binop_done:;\n",
              "  if (__pyx_t_1) {\n",
              "/* … */\n",
              "  }\n",
              "</pre><pre class=\"cython line score-11\" onclick=\"(function(s){s.display=s.display==='block'?'none':'block'})(this.nextElementSibling.style)\">+<span class=\"\">3</span>:         <span class=\"n\">res</span><span class=\"o\">=</span><span class=\"n\">v</span><span class=\"p\">[</span><span class=\"mf\">0</span><span class=\"p\">]</span><span class=\"o\">*</span><span class=\"n\">w</span><span class=\"p\">[</span><span class=\"mf\">0</span><span class=\"p\">]</span></pre>\n",
              "<pre class='cython code score-11 '>    __pyx_t_5 = <span class='pyx_c_api'>__Pyx_GetItemInt</span>(__pyx_v_v, 0, long, 1, __Pyx_PyInt_From_long, 0, 0, 1);<span class='error_goto'> if (unlikely(!__pyx_t_5)) __PYX_ERR(0, 3, __pyx_L1_error)</span>\n",
              "    <span class='refnanny'>__Pyx_GOTREF</span>(__pyx_t_5);\n",
              "    __pyx_t_6 = <span class='pyx_c_api'>__Pyx_GetItemInt</span>(__pyx_v_w, 0, long, 1, __Pyx_PyInt_From_long, 0, 0, 1);<span class='error_goto'> if (unlikely(!__pyx_t_6)) __PYX_ERR(0, 3, __pyx_L1_error)</span>\n",
              "    <span class='refnanny'>__Pyx_GOTREF</span>(__pyx_t_6);\n",
              "    __pyx_t_7 = <span class='py_c_api'>PyNumber_Multiply</span>(__pyx_t_5, __pyx_t_6);<span class='error_goto'> if (unlikely(!__pyx_t_7)) __PYX_ERR(0, 3, __pyx_L1_error)</span>\n",
              "    <span class='refnanny'>__Pyx_GOTREF</span>(__pyx_t_7);\n",
              "    <span class='pyx_macro_api'>__Pyx_DECREF</span>(__pyx_t_5); __pyx_t_5 = 0;\n",
              "    <span class='pyx_macro_api'>__Pyx_DECREF</span>(__pyx_t_6); __pyx_t_6 = 0;\n",
              "    __pyx_v_res = __pyx_t_7;\n",
              "    __pyx_t_7 = 0;\n",
              "</pre><pre class=\"cython line score-5\" onclick=\"(function(s){s.display=s.display==='block'?'none':'block'})(this.nextElementSibling.style)\">+<span class=\"\">4</span>:         <span class=\"k\">for</span> <span class=\"n\">i</span> <span class=\"ow\">in</span> <span class=\"nb\">range</span><span class=\"p\">(</span><span class=\"mf\">1</span><span class=\"p\">,</span><span class=\"nb\">len</span><span class=\"p\">(</span><span class=\"n\">v</span><span class=\"p\">)):</span></pre>\n",
              "<pre class='cython code score-5 '>    __pyx_t_3 = <span class='py_c_api'>PyObject_Length</span>(__pyx_v_v);<span class='error_goto'> if (unlikely(__pyx_t_3 == ((Py_ssize_t)-1))) __PYX_ERR(0, 4, __pyx_L1_error)</span>\n",
              "    __pyx_t_2 = __pyx_t_3;\n",
              "    for (__pyx_t_8 = 1; __pyx_t_8 &lt; __pyx_t_2; __pyx_t_8+=1) {\n",
              "      __pyx_v_i = __pyx_t_8;\n",
              "</pre><pre class=\"cython line score-18\" onclick=\"(function(s){s.display=s.display==='block'?'none':'block'})(this.nextElementSibling.style)\">+<span class=\"\">5</span>:             <span class=\"n\">res</span><span class=\"o\">+=</span><span class=\"n\">v</span><span class=\"p\">[</span><span class=\"n\">i</span><span class=\"p\">]</span><span class=\"o\">*</span><span class=\"n\">w</span><span class=\"p\">[</span><span class=\"n\">i</span><span class=\"p\">]</span></pre>\n",
              "<pre class='cython code score-18 '>      __pyx_t_7 = <span class='pyx_c_api'>__Pyx_GetItemInt</span>(__pyx_v_v, __pyx_v_i, Py_ssize_t, 1, PyInt_FromSsize_t, 0, 1, 1);<span class='error_goto'> if (unlikely(!__pyx_t_7)) __PYX_ERR(0, 5, __pyx_L1_error)</span>\n",
              "      <span class='refnanny'>__Pyx_GOTREF</span>(__pyx_t_7);\n",
              "      __pyx_t_6 = <span class='pyx_c_api'>__Pyx_GetItemInt</span>(__pyx_v_w, __pyx_v_i, Py_ssize_t, 1, PyInt_FromSsize_t, 0, 1, 1);<span class='error_goto'> if (unlikely(!__pyx_t_6)) __PYX_ERR(0, 5, __pyx_L1_error)</span>\n",
              "      <span class='refnanny'>__Pyx_GOTREF</span>(__pyx_t_6);\n",
              "      __pyx_t_5 = <span class='py_c_api'>PyNumber_Multiply</span>(__pyx_t_7, __pyx_t_6);<span class='error_goto'> if (unlikely(!__pyx_t_5)) __PYX_ERR(0, 5, __pyx_L1_error)</span>\n",
              "      <span class='refnanny'>__Pyx_GOTREF</span>(__pyx_t_5);\n",
              "      <span class='pyx_macro_api'>__Pyx_DECREF</span>(__pyx_t_7); __pyx_t_7 = 0;\n",
              "      <span class='pyx_macro_api'>__Pyx_DECREF</span>(__pyx_t_6); __pyx_t_6 = 0;\n",
              "      __pyx_t_6 = <span class='py_c_api'>PyNumber_InPlaceAdd</span>(__pyx_v_res, __pyx_t_5);<span class='error_goto'> if (unlikely(!__pyx_t_6)) __PYX_ERR(0, 5, __pyx_L1_error)</span>\n",
              "      <span class='refnanny'>__Pyx_GOTREF</span>(__pyx_t_6);\n",
              "      <span class='pyx_macro_api'>__Pyx_DECREF</span>(__pyx_t_5); __pyx_t_5 = 0;\n",
              "      <span class='pyx_macro_api'>__Pyx_DECREF_SET</span>(__pyx_v_res, __pyx_t_6);\n",
              "      __pyx_t_6 = 0;\n",
              "    }\n",
              "</pre><pre class=\"cython line score-4\" onclick=\"(function(s){s.display=s.display==='block'?'none':'block'})(this.nextElementSibling.style)\">+<span class=\"\">6</span>:     <span class=\"k\">return</span> <span class=\"n\">res</span></pre>\n",
              "<pre class='cython code score-4 '>  <span class='pyx_macro_api'>__Pyx_XDECREF</span>(__pyx_r);\n",
              "  if (unlikely(!__pyx_v_res)) { <span class='pyx_c_api'>__Pyx_RaiseUnboundLocalError</span>(\"res\"); <span class='error_goto'>__PYX_ERR(0, 6, __pyx_L1_error)</span> }\n",
              "  <span class='pyx_macro_api'>__Pyx_INCREF</span>(__pyx_v_res);\n",
              "  __pyx_r = __pyx_v_res;\n",
              "  goto __pyx_L0;\n",
              "</pre></div></body></html>"
            ],
            "text/plain": [
              "<IPython.core.display.HTML object>"
            ]
          },
          "execution_count": 3,
          "metadata": {},
          "output_type": "execute_result"
        }
      ],
      "source": [
        "%%cython -a # annotate\n",
        "def dot(v,w):\n",
        "    if len(v)==len(w) and len(v)>0:\n",
        "        res=v[0]*w[0]\n",
        "        for i in range(1,len(v)):\n",
        "            res+=v[i]*w[i]\n",
        "    return res"
      ]
    },
    {
      "cell_type": "code",
      "execution_count": null,
      "metadata": {
        "colab": {
          "base_uri": "https://localhost:8080/",
          "height": 422
        },
        "id": "gP9JmsZ2TZGq",
        "outputId": "7c6c031d-5d66-4b95-eb7c-d32a10feb156"
      },
      "outputs": [
        {
          "name": "stdout",
          "output_type": "stream",
          "text": [
            "Content of stderr:\n",
            "In file included from /usr/local/lib/python3.10/dist-packages/numpy/core/include/numpy/ndarraytypes.h:1929,\n",
            "                 from /usr/local/lib/python3.10/dist-packages/numpy/core/include/numpy/ndarrayobject.h:12,\n",
            "                 from /usr/local/lib/python3.10/dist-packages/numpy/core/include/numpy/arrayobject.h:5,\n",
            "                 from /root/.cache/ipython/cython/_cython_magic_13dbf701e3defcfe0f595f237ef397d8695743a8.c:1250:\n",
            "/usr/local/lib/python3.10/dist-packages/numpy/core/include/numpy/npy_1_7_deprecated_api.h:17:2: warning: #warning \"Using deprecated NumPy API, disable it with \" \"#define NPY_NO_DEPRECATED_API NPY_1_7_API_VERSION\" [-Wcpp]\n",
            "   17 | #warning \"Using deprecated NumPy API, disable it with \" \\\n",
            "      |  ^~~~~~~"
          ]
        },
        {
          "data": {
            "text/html": [
              "<!DOCTYPE html>\n",
              "<!-- Generated by Cython 3.0.11 -->\n",
              "<html>\n",
              "<head>\n",
              "    <meta http-equiv=\"Content-Type\" content=\"text/html; charset=utf-8\" />\n",
              "    <title>Cython: _cython_magic_13dbf701e3defcfe0f595f237ef397d8695743a8.pyx</title>\n",
              "    <style type=\"text/css\">\n",
              "    \n",
              "body.cython { font-family: courier; font-size: 12; }\n",
              "\n",
              ".cython.tag  {  }\n",
              ".cython.line { color: #000000; margin: 0em }\n",
              ".cython.code { font-size: 9; color: #444444; display: none; margin: 0px 0px 0px 8px; border-left: 8px none; }\n",
              "\n",
              ".cython.line .run { background-color: #B0FFB0; }\n",
              ".cython.line .mis { background-color: #FFB0B0; }\n",
              ".cython.code.run  { border-left: 8px solid #B0FFB0; }\n",
              ".cython.code.mis  { border-left: 8px solid #FFB0B0; }\n",
              "\n",
              ".cython.code .py_c_api  { color: red; }\n",
              ".cython.code .py_macro_api  { color: #FF7000; }\n",
              ".cython.code .pyx_c_api  { color: #FF3000; }\n",
              ".cython.code .pyx_macro_api  { color: #FF7000; }\n",
              ".cython.code .refnanny  { color: #FFA000; }\n",
              ".cython.code .trace  { color: #FFA000; }\n",
              ".cython.code .error_goto  { color: #FFA000; }\n",
              "\n",
              ".cython.code .coerce  { color: #008000; border: 1px dotted #008000 }\n",
              ".cython.code .py_attr { color: #FF0000; font-weight: bold; }\n",
              ".cython.code .c_attr  { color: #0000FF; }\n",
              ".cython.code .py_call { color: #FF0000; font-weight: bold; }\n",
              ".cython.code .c_call  { color: #0000FF; }\n",
              "\n",
              ".cython.score-0 {background-color: #FFFFff;}\n",
              ".cython.score-1 {background-color: #FFFFe7;}\n",
              ".cython.score-2 {background-color: #FFFFd4;}\n",
              ".cython.score-3 {background-color: #FFFFc4;}\n",
              ".cython.score-4 {background-color: #FFFFb6;}\n",
              ".cython.score-5 {background-color: #FFFFaa;}\n",
              ".cython.score-6 {background-color: #FFFF9f;}\n",
              ".cython.score-7 {background-color: #FFFF96;}\n",
              ".cython.score-8 {background-color: #FFFF8d;}\n",
              ".cython.score-9 {background-color: #FFFF86;}\n",
              ".cython.score-10 {background-color: #FFFF7f;}\n",
              ".cython.score-11 {background-color: #FFFF79;}\n",
              ".cython.score-12 {background-color: #FFFF73;}\n",
              ".cython.score-13 {background-color: #FFFF6e;}\n",
              ".cython.score-14 {background-color: #FFFF6a;}\n",
              ".cython.score-15 {background-color: #FFFF66;}\n",
              ".cython.score-16 {background-color: #FFFF62;}\n",
              ".cython.score-17 {background-color: #FFFF5e;}\n",
              ".cython.score-18 {background-color: #FFFF5b;}\n",
              ".cython.score-19 {background-color: #FFFF57;}\n",
              ".cython.score-20 {background-color: #FFFF55;}\n",
              ".cython.score-21 {background-color: #FFFF52;}\n",
              ".cython.score-22 {background-color: #FFFF4f;}\n",
              ".cython.score-23 {background-color: #FFFF4d;}\n",
              ".cython.score-24 {background-color: #FFFF4b;}\n",
              ".cython.score-25 {background-color: #FFFF48;}\n",
              ".cython.score-26 {background-color: #FFFF46;}\n",
              ".cython.score-27 {background-color: #FFFF44;}\n",
              ".cython.score-28 {background-color: #FFFF43;}\n",
              ".cython.score-29 {background-color: #FFFF41;}\n",
              ".cython.score-30 {background-color: #FFFF3f;}\n",
              ".cython.score-31 {background-color: #FFFF3e;}\n",
              ".cython.score-32 {background-color: #FFFF3c;}\n",
              ".cython.score-33 {background-color: #FFFF3b;}\n",
              ".cython.score-34 {background-color: #FFFF39;}\n",
              ".cython.score-35 {background-color: #FFFF38;}\n",
              ".cython.score-36 {background-color: #FFFF37;}\n",
              ".cython.score-37 {background-color: #FFFF36;}\n",
              ".cython.score-38 {background-color: #FFFF35;}\n",
              ".cython.score-39 {background-color: #FFFF34;}\n",
              ".cython.score-40 {background-color: #FFFF33;}\n",
              ".cython.score-41 {background-color: #FFFF32;}\n",
              ".cython.score-42 {background-color: #FFFF31;}\n",
              ".cython.score-43 {background-color: #FFFF30;}\n",
              ".cython.score-44 {background-color: #FFFF2f;}\n",
              ".cython.score-45 {background-color: #FFFF2e;}\n",
              ".cython.score-46 {background-color: #FFFF2d;}\n",
              ".cython.score-47 {background-color: #FFFF2c;}\n",
              ".cython.score-48 {background-color: #FFFF2b;}\n",
              ".cython.score-49 {background-color: #FFFF2b;}\n",
              ".cython.score-50 {background-color: #FFFF2a;}\n",
              ".cython.score-51 {background-color: #FFFF29;}\n",
              ".cython.score-52 {background-color: #FFFF29;}\n",
              ".cython.score-53 {background-color: #FFFF28;}\n",
              ".cython.score-54 {background-color: #FFFF27;}\n",
              ".cython.score-55 {background-color: #FFFF27;}\n",
              ".cython.score-56 {background-color: #FFFF26;}\n",
              ".cython.score-57 {background-color: #FFFF26;}\n",
              ".cython.score-58 {background-color: #FFFF25;}\n",
              ".cython.score-59 {background-color: #FFFF24;}\n",
              ".cython.score-60 {background-color: #FFFF24;}\n",
              ".cython.score-61 {background-color: #FFFF23;}\n",
              ".cython.score-62 {background-color: #FFFF23;}\n",
              ".cython.score-63 {background-color: #FFFF22;}\n",
              ".cython.score-64 {background-color: #FFFF22;}\n",
              ".cython.score-65 {background-color: #FFFF22;}\n",
              ".cython.score-66 {background-color: #FFFF21;}\n",
              ".cython.score-67 {background-color: #FFFF21;}\n",
              ".cython.score-68 {background-color: #FFFF20;}\n",
              ".cython.score-69 {background-color: #FFFF20;}\n",
              ".cython.score-70 {background-color: #FFFF1f;}\n",
              ".cython.score-71 {background-color: #FFFF1f;}\n",
              ".cython.score-72 {background-color: #FFFF1f;}\n",
              ".cython.score-73 {background-color: #FFFF1e;}\n",
              ".cython.score-74 {background-color: #FFFF1e;}\n",
              ".cython.score-75 {background-color: #FFFF1e;}\n",
              ".cython.score-76 {background-color: #FFFF1d;}\n",
              ".cython.score-77 {background-color: #FFFF1d;}\n",
              ".cython.score-78 {background-color: #FFFF1c;}\n",
              ".cython.score-79 {background-color: #FFFF1c;}\n",
              ".cython.score-80 {background-color: #FFFF1c;}\n",
              ".cython.score-81 {background-color: #FFFF1c;}\n",
              ".cython.score-82 {background-color: #FFFF1b;}\n",
              ".cython.score-83 {background-color: #FFFF1b;}\n",
              ".cython.score-84 {background-color: #FFFF1b;}\n",
              ".cython.score-85 {background-color: #FFFF1a;}\n",
              ".cython.score-86 {background-color: #FFFF1a;}\n",
              ".cython.score-87 {background-color: #FFFF1a;}\n",
              ".cython.score-88 {background-color: #FFFF1a;}\n",
              ".cython.score-89 {background-color: #FFFF19;}\n",
              ".cython.score-90 {background-color: #FFFF19;}\n",
              ".cython.score-91 {background-color: #FFFF19;}\n",
              ".cython.score-92 {background-color: #FFFF19;}\n",
              ".cython.score-93 {background-color: #FFFF18;}\n",
              ".cython.score-94 {background-color: #FFFF18;}\n",
              ".cython.score-95 {background-color: #FFFF18;}\n",
              ".cython.score-96 {background-color: #FFFF18;}\n",
              ".cython.score-97 {background-color: #FFFF17;}\n",
              ".cython.score-98 {background-color: #FFFF17;}\n",
              ".cython.score-99 {background-color: #FFFF17;}\n",
              ".cython.score-100 {background-color: #FFFF17;}\n",
              ".cython.score-101 {background-color: #FFFF16;}\n",
              ".cython.score-102 {background-color: #FFFF16;}\n",
              ".cython.score-103 {background-color: #FFFF16;}\n",
              ".cython.score-104 {background-color: #FFFF16;}\n",
              ".cython.score-105 {background-color: #FFFF16;}\n",
              ".cython.score-106 {background-color: #FFFF15;}\n",
              ".cython.score-107 {background-color: #FFFF15;}\n",
              ".cython.score-108 {background-color: #FFFF15;}\n",
              ".cython.score-109 {background-color: #FFFF15;}\n",
              ".cython.score-110 {background-color: #FFFF15;}\n",
              ".cython.score-111 {background-color: #FFFF15;}\n",
              ".cython.score-112 {background-color: #FFFF14;}\n",
              ".cython.score-113 {background-color: #FFFF14;}\n",
              ".cython.score-114 {background-color: #FFFF14;}\n",
              ".cython.score-115 {background-color: #FFFF14;}\n",
              ".cython.score-116 {background-color: #FFFF14;}\n",
              ".cython.score-117 {background-color: #FFFF14;}\n",
              ".cython.score-118 {background-color: #FFFF13;}\n",
              ".cython.score-119 {background-color: #FFFF13;}\n",
              ".cython.score-120 {background-color: #FFFF13;}\n",
              ".cython.score-121 {background-color: #FFFF13;}\n",
              ".cython.score-122 {background-color: #FFFF13;}\n",
              ".cython.score-123 {background-color: #FFFF13;}\n",
              ".cython.score-124 {background-color: #FFFF13;}\n",
              ".cython.score-125 {background-color: #FFFF12;}\n",
              ".cython.score-126 {background-color: #FFFF12;}\n",
              ".cython.score-127 {background-color: #FFFF12;}\n",
              ".cython.score-128 {background-color: #FFFF12;}\n",
              ".cython.score-129 {background-color: #FFFF12;}\n",
              ".cython.score-130 {background-color: #FFFF12;}\n",
              ".cython.score-131 {background-color: #FFFF12;}\n",
              ".cython.score-132 {background-color: #FFFF11;}\n",
              ".cython.score-133 {background-color: #FFFF11;}\n",
              ".cython.score-134 {background-color: #FFFF11;}\n",
              ".cython.score-135 {background-color: #FFFF11;}\n",
              ".cython.score-136 {background-color: #FFFF11;}\n",
              ".cython.score-137 {background-color: #FFFF11;}\n",
              ".cython.score-138 {background-color: #FFFF11;}\n",
              ".cython.score-139 {background-color: #FFFF11;}\n",
              ".cython.score-140 {background-color: #FFFF11;}\n",
              ".cython.score-141 {background-color: #FFFF10;}\n",
              ".cython.score-142 {background-color: #FFFF10;}\n",
              ".cython.score-143 {background-color: #FFFF10;}\n",
              ".cython.score-144 {background-color: #FFFF10;}\n",
              ".cython.score-145 {background-color: #FFFF10;}\n",
              ".cython.score-146 {background-color: #FFFF10;}\n",
              ".cython.score-147 {background-color: #FFFF10;}\n",
              ".cython.score-148 {background-color: #FFFF10;}\n",
              ".cython.score-149 {background-color: #FFFF10;}\n",
              ".cython.score-150 {background-color: #FFFF0f;}\n",
              ".cython.score-151 {background-color: #FFFF0f;}\n",
              ".cython.score-152 {background-color: #FFFF0f;}\n",
              ".cython.score-153 {background-color: #FFFF0f;}\n",
              ".cython.score-154 {background-color: #FFFF0f;}\n",
              ".cython.score-155 {background-color: #FFFF0f;}\n",
              ".cython.score-156 {background-color: #FFFF0f;}\n",
              ".cython.score-157 {background-color: #FFFF0f;}\n",
              ".cython.score-158 {background-color: #FFFF0f;}\n",
              ".cython.score-159 {background-color: #FFFF0f;}\n",
              ".cython.score-160 {background-color: #FFFF0f;}\n",
              ".cython.score-161 {background-color: #FFFF0e;}\n",
              ".cython.score-162 {background-color: #FFFF0e;}\n",
              ".cython.score-163 {background-color: #FFFF0e;}\n",
              ".cython.score-164 {background-color: #FFFF0e;}\n",
              ".cython.score-165 {background-color: #FFFF0e;}\n",
              ".cython.score-166 {background-color: #FFFF0e;}\n",
              ".cython.score-167 {background-color: #FFFF0e;}\n",
              ".cython.score-168 {background-color: #FFFF0e;}\n",
              ".cython.score-169 {background-color: #FFFF0e;}\n",
              ".cython.score-170 {background-color: #FFFF0e;}\n",
              ".cython.score-171 {background-color: #FFFF0e;}\n",
              ".cython.score-172 {background-color: #FFFF0e;}\n",
              ".cython.score-173 {background-color: #FFFF0d;}\n",
              ".cython.score-174 {background-color: #FFFF0d;}\n",
              ".cython.score-175 {background-color: #FFFF0d;}\n",
              ".cython.score-176 {background-color: #FFFF0d;}\n",
              ".cython.score-177 {background-color: #FFFF0d;}\n",
              ".cython.score-178 {background-color: #FFFF0d;}\n",
              ".cython.score-179 {background-color: #FFFF0d;}\n",
              ".cython.score-180 {background-color: #FFFF0d;}\n",
              ".cython.score-181 {background-color: #FFFF0d;}\n",
              ".cython.score-182 {background-color: #FFFF0d;}\n",
              ".cython.score-183 {background-color: #FFFF0d;}\n",
              ".cython.score-184 {background-color: #FFFF0d;}\n",
              ".cython.score-185 {background-color: #FFFF0d;}\n",
              ".cython.score-186 {background-color: #FFFF0d;}\n",
              ".cython.score-187 {background-color: #FFFF0c;}\n",
              ".cython.score-188 {background-color: #FFFF0c;}\n",
              ".cython.score-189 {background-color: #FFFF0c;}\n",
              ".cython.score-190 {background-color: #FFFF0c;}\n",
              ".cython.score-191 {background-color: #FFFF0c;}\n",
              ".cython.score-192 {background-color: #FFFF0c;}\n",
              ".cython.score-193 {background-color: #FFFF0c;}\n",
              ".cython.score-194 {background-color: #FFFF0c;}\n",
              ".cython.score-195 {background-color: #FFFF0c;}\n",
              ".cython.score-196 {background-color: #FFFF0c;}\n",
              ".cython.score-197 {background-color: #FFFF0c;}\n",
              ".cython.score-198 {background-color: #FFFF0c;}\n",
              ".cython.score-199 {background-color: #FFFF0c;}\n",
              ".cython.score-200 {background-color: #FFFF0c;}\n",
              ".cython.score-201 {background-color: #FFFF0c;}\n",
              ".cython.score-202 {background-color: #FFFF0c;}\n",
              ".cython.score-203 {background-color: #FFFF0b;}\n",
              ".cython.score-204 {background-color: #FFFF0b;}\n",
              ".cython.score-205 {background-color: #FFFF0b;}\n",
              ".cython.score-206 {background-color: #FFFF0b;}\n",
              ".cython.score-207 {background-color: #FFFF0b;}\n",
              ".cython.score-208 {background-color: #FFFF0b;}\n",
              ".cython.score-209 {background-color: #FFFF0b;}\n",
              ".cython.score-210 {background-color: #FFFF0b;}\n",
              ".cython.score-211 {background-color: #FFFF0b;}\n",
              ".cython.score-212 {background-color: #FFFF0b;}\n",
              ".cython.score-213 {background-color: #FFFF0b;}\n",
              ".cython.score-214 {background-color: #FFFF0b;}\n",
              ".cython.score-215 {background-color: #FFFF0b;}\n",
              ".cython.score-216 {background-color: #FFFF0b;}\n",
              ".cython.score-217 {background-color: #FFFF0b;}\n",
              ".cython.score-218 {background-color: #FFFF0b;}\n",
              ".cython.score-219 {background-color: #FFFF0b;}\n",
              ".cython.score-220 {background-color: #FFFF0b;}\n",
              ".cython.score-221 {background-color: #FFFF0b;}\n",
              ".cython.score-222 {background-color: #FFFF0a;}\n",
              ".cython.score-223 {background-color: #FFFF0a;}\n",
              ".cython.score-224 {background-color: #FFFF0a;}\n",
              ".cython.score-225 {background-color: #FFFF0a;}\n",
              ".cython.score-226 {background-color: #FFFF0a;}\n",
              ".cython.score-227 {background-color: #FFFF0a;}\n",
              ".cython.score-228 {background-color: #FFFF0a;}\n",
              ".cython.score-229 {background-color: #FFFF0a;}\n",
              ".cython.score-230 {background-color: #FFFF0a;}\n",
              ".cython.score-231 {background-color: #FFFF0a;}\n",
              ".cython.score-232 {background-color: #FFFF0a;}\n",
              ".cython.score-233 {background-color: #FFFF0a;}\n",
              ".cython.score-234 {background-color: #FFFF0a;}\n",
              ".cython.score-235 {background-color: #FFFF0a;}\n",
              ".cython.score-236 {background-color: #FFFF0a;}\n",
              ".cython.score-237 {background-color: #FFFF0a;}\n",
              ".cython.score-238 {background-color: #FFFF0a;}\n",
              ".cython.score-239 {background-color: #FFFF0a;}\n",
              ".cython.score-240 {background-color: #FFFF0a;}\n",
              ".cython.score-241 {background-color: #FFFF0a;}\n",
              ".cython.score-242 {background-color: #FFFF0a;}\n",
              ".cython.score-243 {background-color: #FFFF0a;}\n",
              ".cython.score-244 {background-color: #FFFF0a;}\n",
              ".cython.score-245 {background-color: #FFFF0a;}\n",
              ".cython.score-246 {background-color: #FFFF09;}\n",
              ".cython.score-247 {background-color: #FFFF09;}\n",
              ".cython.score-248 {background-color: #FFFF09;}\n",
              ".cython.score-249 {background-color: #FFFF09;}\n",
              ".cython.score-250 {background-color: #FFFF09;}\n",
              ".cython.score-251 {background-color: #FFFF09;}\n",
              ".cython.score-252 {background-color: #FFFF09;}\n",
              ".cython.score-253 {background-color: #FFFF09;}\n",
              ".cython.score-254 {background-color: #FFFF09;}\n",
              "pre { line-height: 125%; }\n",
              "td.linenos .normal { color: inherit; background-color: transparent; padding-left: 5px; padding-right: 5px; }\n",
              "span.linenos { color: inherit; background-color: transparent; padding-left: 5px; padding-right: 5px; }\n",
              "td.linenos .special { color: #000000; background-color: #ffffc0; padding-left: 5px; padding-right: 5px; }\n",
              "span.linenos.special { color: #000000; background-color: #ffffc0; padding-left: 5px; padding-right: 5px; }\n",
              ".cython .hll { background-color: #ffffcc }\n",
              ".cython { background: #f8f8f8; }\n",
              ".cython .c { color: #3D7B7B; font-style: italic } /* Comment */\n",
              ".cython .err { border: 1px solid #FF0000 } /* Error */\n",
              ".cython .k { color: #008000; font-weight: bold } /* Keyword */\n",
              ".cython .o { color: #666666 } /* Operator */\n",
              ".cython .ch { color: #3D7B7B; font-style: italic } /* Comment.Hashbang */\n",
              ".cython .cm { color: #3D7B7B; font-style: italic } /* Comment.Multiline */\n",
              ".cython .cp { color: #9C6500 } /* Comment.Preproc */\n",
              ".cython .cpf { color: #3D7B7B; font-style: italic } /* Comment.PreprocFile */\n",
              ".cython .c1 { color: #3D7B7B; font-style: italic } /* Comment.Single */\n",
              ".cython .cs { color: #3D7B7B; font-style: italic } /* Comment.Special */\n",
              ".cython .gd { color: #A00000 } /* Generic.Deleted */\n",
              ".cython .ge { font-style: italic } /* Generic.Emph */\n",
              ".cython .ges { font-weight: bold; font-style: italic } /* Generic.EmphStrong */\n",
              ".cython .gr { color: #E40000 } /* Generic.Error */\n",
              ".cython .gh { color: #000080; font-weight: bold } /* Generic.Heading */\n",
              ".cython .gi { color: #008400 } /* Generic.Inserted */\n",
              ".cython .go { color: #717171 } /* Generic.Output */\n",
              ".cython .gp { color: #000080; font-weight: bold } /* Generic.Prompt */\n",
              ".cython .gs { font-weight: bold } /* Generic.Strong */\n",
              ".cython .gu { color: #800080; font-weight: bold } /* Generic.Subheading */\n",
              ".cython .gt { color: #0044DD } /* Generic.Traceback */\n",
              ".cython .kc { color: #008000; font-weight: bold } /* Keyword.Constant */\n",
              ".cython .kd { color: #008000; font-weight: bold } /* Keyword.Declaration */\n",
              ".cython .kn { color: #008000; font-weight: bold } /* Keyword.Namespace */\n",
              ".cython .kp { color: #008000 } /* Keyword.Pseudo */\n",
              ".cython .kr { color: #008000; font-weight: bold } /* Keyword.Reserved */\n",
              ".cython .kt { color: #B00040 } /* Keyword.Type */\n",
              ".cython .m { color: #666666 } /* Literal.Number */\n",
              ".cython .s { color: #BA2121 } /* Literal.String */\n",
              ".cython .na { color: #687822 } /* Name.Attribute */\n",
              ".cython .nb { color: #008000 } /* Name.Builtin */\n",
              ".cython .nc { color: #0000FF; font-weight: bold } /* Name.Class */\n",
              ".cython .no { color: #880000 } /* Name.Constant */\n",
              ".cython .nd { color: #AA22FF } /* Name.Decorator */\n",
              ".cython .ni { color: #717171; font-weight: bold } /* Name.Entity */\n",
              ".cython .ne { color: #CB3F38; font-weight: bold } /* Name.Exception */\n",
              ".cython .nf { color: #0000FF } /* Name.Function */\n",
              ".cython .nl { color: #767600 } /* Name.Label */\n",
              ".cython .nn { color: #0000FF; font-weight: bold } /* Name.Namespace */\n",
              ".cython .nt { color: #008000; font-weight: bold } /* Name.Tag */\n",
              ".cython .nv { color: #19177C } /* Name.Variable */\n",
              ".cython .ow { color: #AA22FF; font-weight: bold } /* Operator.Word */\n",
              ".cython .w { color: #bbbbbb } /* Text.Whitespace */\n",
              ".cython .mb { color: #666666 } /* Literal.Number.Bin */\n",
              ".cython .mf { color: #666666 } /* Literal.Number.Float */\n",
              ".cython .mh { color: #666666 } /* Literal.Number.Hex */\n",
              ".cython .mi { color: #666666 } /* Literal.Number.Integer */\n",
              ".cython .mo { color: #666666 } /* Literal.Number.Oct */\n",
              ".cython .sa { color: #BA2121 } /* Literal.String.Affix */\n",
              ".cython .sb { color: #BA2121 } /* Literal.String.Backtick */\n",
              ".cython .sc { color: #BA2121 } /* Literal.String.Char */\n",
              ".cython .dl { color: #BA2121 } /* Literal.String.Delimiter */\n",
              ".cython .sd { color: #BA2121; font-style: italic } /* Literal.String.Doc */\n",
              ".cython .s2 { color: #BA2121 } /* Literal.String.Double */\n",
              ".cython .se { color: #AA5D1F; font-weight: bold } /* Literal.String.Escape */\n",
              ".cython .sh { color: #BA2121 } /* Literal.String.Heredoc */\n",
              ".cython .si { color: #A45A77; font-weight: bold } /* Literal.String.Interpol */\n",
              ".cython .sx { color: #008000 } /* Literal.String.Other */\n",
              ".cython .sr { color: #A45A77 } /* Literal.String.Regex */\n",
              ".cython .s1 { color: #BA2121 } /* Literal.String.Single */\n",
              ".cython .ss { color: #19177C } /* Literal.String.Symbol */\n",
              ".cython .bp { color: #008000 } /* Name.Builtin.Pseudo */\n",
              ".cython .fm { color: #0000FF } /* Name.Function.Magic */\n",
              ".cython .vc { color: #19177C } /* Name.Variable.Class */\n",
              ".cython .vg { color: #19177C } /* Name.Variable.Global */\n",
              ".cython .vi { color: #19177C } /* Name.Variable.Instance */\n",
              ".cython .vm { color: #19177C } /* Name.Variable.Magic */\n",
              ".cython .il { color: #666666 } /* Literal.Number.Integer.Long */\n",
              "    </style>\n",
              "</head>\n",
              "<body class=\"cython\">\n",
              "<p><span style=\"border-bottom: solid 1px grey;\">Generated by Cython 3.0.11</span></p>\n",
              "<p>\n",
              "    <span style=\"background-color: #FFFF00\">Yellow lines</span> hint at Python interaction.<br />\n",
              "    Click on a line that starts with a \"<code>+</code>\" to see the C code that Cython generated for it.\n",
              "</p>\n",
              "<div class=\"cython\"><pre class=\"cython line score-16\" onclick=\"(function(s){s.display=s.display==='block'?'none':'block'})(this.nextElementSibling.style)\">+<span class=\"\">01</span>: <span class=\"k\">import</span> <span class=\"nn\">numpy</span> <span class=\"k\">as</span> <span class=\"nn\">np</span></pre>\n",
              "<pre class='cython code score-16 '>  __pyx_t_2 = <span class='pyx_c_api'>__Pyx_ImportDottedModule</span>(__pyx_n_s_numpy, NULL);<span class='error_goto'> if (unlikely(!__pyx_t_2)) __PYX_ERR(0, 1, __pyx_L1_error)</span>\n",
              "  <span class='refnanny'>__Pyx_GOTREF</span>(__pyx_t_2);\n",
              "  if (<span class='py_c_api'>PyDict_SetItem</span>(__pyx_d, __pyx_n_s_np, __pyx_t_2) &lt; 0) <span class='error_goto'>__PYX_ERR(0, 1, __pyx_L1_error)</span>\n",
              "  <span class='pyx_macro_api'>__Pyx_DECREF</span>(__pyx_t_2); __pyx_t_2 = 0;\n",
              "/* … */\n",
              "  __pyx_t_2 = <span class='pyx_c_api'>__Pyx_PyDict_NewPresized</span>(0);<span class='error_goto'> if (unlikely(!__pyx_t_2)) __PYX_ERR(0, 1, __pyx_L1_error)</span>\n",
              "  <span class='refnanny'>__Pyx_GOTREF</span>(__pyx_t_2);\n",
              "  if (<span class='py_c_api'>PyDict_SetItem</span>(__pyx_d, __pyx_n_s_test, __pyx_t_2) &lt; 0) <span class='error_goto'>__PYX_ERR(0, 1, __pyx_L1_error)</span>\n",
              "  <span class='pyx_macro_api'>__Pyx_DECREF</span>(__pyx_t_2); __pyx_t_2 = 0;\n",
              "</pre><pre class=\"cython line score-0\">&#xA0;<span class=\"\">02</span>: <span class=\"k\">cimport</span> <span class=\"nn\">numpy</span> <span class=\"k\">as</span> <span class=\"nn\">np</span></pre>\n",
              "<pre class=\"cython line score-84\" onclick=\"(function(s){s.display=s.display==='block'?'none':'block'})(this.nextElementSibling.style)\">+<span class=\"\">03</span>: <span class=\"k\">def</span> <span class=\"nf\">dot</span><span class=\"p\">(</span><span class=\"n\">np</span><span class=\"o\">.</span><span class=\"n\">ndarray</span><span class=\"p\">[</span><span class=\"n\">np</span><span class=\"o\">.</span><span class=\"n\">int_t</span><span class=\"p\">,</span><span class=\"n\">ndim</span><span class=\"o\">=</span><span class=\"mf\">1</span><span class=\"p\">]</span> <span class=\"n\">v</span><span class=\"p\">,</span> <span class=\"n\">np</span><span class=\"o\">.</span><span class=\"n\">ndarray</span><span class=\"p\">[</span><span class=\"n\">np</span><span class=\"o\">.</span><span class=\"n\">int_t</span><span class=\"p\">,</span><span class=\"n\">ndim</span><span class=\"o\">=</span><span class=\"mf\">1</span><span class=\"p\">]</span> <span class=\"n\">w</span><span class=\"p\">):</span></pre>\n",
              "<pre class='cython code score-84 '>/* Python wrapper */\n",
              "static PyObject *__pyx_pw_54_cython_magic_13dbf701e3defcfe0f595f237ef397d8695743a8_1dot(PyObject *__pyx_self, \n",
              "#if CYTHON_METH_FASTCALL\n",
              "PyObject *const *__pyx_args, Py_ssize_t __pyx_nargs, PyObject *__pyx_kwds\n",
              "#else\n",
              "PyObject *__pyx_args, PyObject *__pyx_kwds\n",
              "#endif\n",
              "); /*proto*/\n",
              "static PyMethodDef __pyx_mdef_54_cython_magic_13dbf701e3defcfe0f595f237ef397d8695743a8_1dot = {\"dot\", (PyCFunction)(void*)(__Pyx_PyCFunction_FastCallWithKeywords)__pyx_pw_54_cython_magic_13dbf701e3defcfe0f595f237ef397d8695743a8_1dot, __Pyx_METH_FASTCALL|METH_KEYWORDS, 0};\n",
              "static PyObject *__pyx_pw_54_cython_magic_13dbf701e3defcfe0f595f237ef397d8695743a8_1dot(PyObject *__pyx_self, \n",
              "#if CYTHON_METH_FASTCALL\n",
              "PyObject *const *__pyx_args, Py_ssize_t __pyx_nargs, PyObject *__pyx_kwds\n",
              "#else\n",
              "PyObject *__pyx_args, PyObject *__pyx_kwds\n",
              "#endif\n",
              ") {\n",
              "  PyArrayObject *__pyx_v_v = 0;\n",
              "  PyArrayObject *__pyx_v_w = 0;\n",
              "  #if !CYTHON_METH_FASTCALL\n",
              "  CYTHON_UNUSED Py_ssize_t __pyx_nargs;\n",
              "  #endif\n",
              "  CYTHON_UNUSED PyObject *const *__pyx_kwvalues;\n",
              "  PyObject *__pyx_r = 0;\n",
              "  <span class='refnanny'>__Pyx_RefNannyDeclarations</span>\n",
              "  <span class='refnanny'>__Pyx_RefNannySetupContext</span>(\"dot (wrapper)\", 0);\n",
              "  #if !CYTHON_METH_FASTCALL\n",
              "  #if CYTHON_ASSUME_SAFE_MACROS\n",
              "  __pyx_nargs = <span class='py_macro_api'>PyTuple_GET_SIZE</span>(__pyx_args);\n",
              "  #else\n",
              "  __pyx_nargs = <span class='py_c_api'>PyTuple_Size</span>(__pyx_args); if (unlikely(__pyx_nargs &lt; 0)) return NULL;\n",
              "  #endif\n",
              "  #endif\n",
              "  __pyx_kwvalues = <span class='pyx_c_api'>__Pyx_KwValues_FASTCALL</span>(__pyx_args, __pyx_nargs);\n",
              "  {\n",
              "    PyObject **__pyx_pyargnames[] = {&amp;__pyx_n_s_v,&amp;__pyx_n_s_w,0};\n",
              "  PyObject* values[2] = {0,0};\n",
              "    if (__pyx_kwds) {\n",
              "      Py_ssize_t kw_args;\n",
              "      switch (__pyx_nargs) {\n",
              "        case  2: values[1] = <span class='pyx_c_api'>__Pyx_Arg_FASTCALL</span>(__pyx_args, 1);\n",
              "        CYTHON_FALLTHROUGH;\n",
              "        case  1: values[0] = <span class='pyx_c_api'>__Pyx_Arg_FASTCALL</span>(__pyx_args, 0);\n",
              "        CYTHON_FALLTHROUGH;\n",
              "        case  0: break;\n",
              "        default: goto __pyx_L5_argtuple_error;\n",
              "      }\n",
              "      kw_args = <span class='pyx_c_api'>__Pyx_NumKwargs_FASTCALL</span>(__pyx_kwds);\n",
              "      switch (__pyx_nargs) {\n",
              "        case  0:\n",
              "        if (likely((values[0] = <span class='pyx_c_api'>__Pyx_GetKwValue_FASTCALL</span>(__pyx_kwds, __pyx_kwvalues, __pyx_n_s_v)) != 0)) {\n",
              "          (void)<span class='pyx_c_api'>__Pyx_Arg_NewRef_FASTCALL</span>(values[0]);\n",
              "          kw_args--;\n",
              "        }\n",
              "        else if (unlikely(<span class='py_c_api'>PyErr_Occurred</span>())) <span class='error_goto'>__PYX_ERR(0, 3, __pyx_L3_error)</span>\n",
              "        else goto __pyx_L5_argtuple_error;\n",
              "        CYTHON_FALLTHROUGH;\n",
              "        case  1:\n",
              "        if (likely((values[1] = <span class='pyx_c_api'>__Pyx_GetKwValue_FASTCALL</span>(__pyx_kwds, __pyx_kwvalues, __pyx_n_s_w)) != 0)) {\n",
              "          (void)<span class='pyx_c_api'>__Pyx_Arg_NewRef_FASTCALL</span>(values[1]);\n",
              "          kw_args--;\n",
              "        }\n",
              "        else if (unlikely(<span class='py_c_api'>PyErr_Occurred</span>())) <span class='error_goto'>__PYX_ERR(0, 3, __pyx_L3_error)</span>\n",
              "        else {\n",
              "          <span class='pyx_c_api'>__Pyx_RaiseArgtupleInvalid</span>(\"dot\", 1, 2, 2, 1); <span class='error_goto'>__PYX_ERR(0, 3, __pyx_L3_error)</span>\n",
              "        }\n",
              "      }\n",
              "      if (unlikely(kw_args &gt; 0)) {\n",
              "        const Py_ssize_t kwd_pos_args = __pyx_nargs;\n",
              "        if (unlikely(<span class='pyx_c_api'>__Pyx_ParseOptionalKeywords</span>(__pyx_kwds, __pyx_kwvalues, __pyx_pyargnames, 0, values + 0, kwd_pos_args, \"dot\") &lt; 0)) <span class='error_goto'>__PYX_ERR(0, 3, __pyx_L3_error)</span>\n",
              "      }\n",
              "    } else if (unlikely(__pyx_nargs != 2)) {\n",
              "      goto __pyx_L5_argtuple_error;\n",
              "    } else {\n",
              "      values[0] = <span class='pyx_c_api'>__Pyx_Arg_FASTCALL</span>(__pyx_args, 0);\n",
              "      values[1] = <span class='pyx_c_api'>__Pyx_Arg_FASTCALL</span>(__pyx_args, 1);\n",
              "    }\n",
              "    __pyx_v_v = ((PyArrayObject *)values[0]);\n",
              "    __pyx_v_w = ((PyArrayObject *)values[1]);\n",
              "  }\n",
              "  goto __pyx_L6_skip;\n",
              "  __pyx_L5_argtuple_error:;\n",
              "  <span class='pyx_c_api'>__Pyx_RaiseArgtupleInvalid</span>(\"dot\", 1, 2, 2, __pyx_nargs); <span class='error_goto'>__PYX_ERR(0, 3, __pyx_L3_error)</span>\n",
              "  __pyx_L6_skip:;\n",
              "  goto __pyx_L4_argument_unpacking_done;\n",
              "  __pyx_L3_error:;\n",
              "  {\n",
              "    Py_ssize_t __pyx_temp;\n",
              "    for (__pyx_temp=0; __pyx_temp &lt; (Py_ssize_t)(sizeof(values)/sizeof(values[0])); ++__pyx_temp) {\n",
              "      <span class='pyx_c_api'>__Pyx_Arg_XDECREF_FASTCALL</span>(values[__pyx_temp]);\n",
              "    }\n",
              "  }\n",
              "  <span class='pyx_c_api'>__Pyx_AddTraceback</span>(\"_cython_magic_13dbf701e3defcfe0f595f237ef397d8695743a8.dot\", __pyx_clineno, __pyx_lineno, __pyx_filename);\n",
              "  <span class='refnanny'>__Pyx_RefNannyFinishContext</span>();\n",
              "  return NULL;\n",
              "  __pyx_L4_argument_unpacking_done:;\n",
              "  if (unlikely(!<span class='pyx_c_api'>__Pyx_ArgTypeTest</span>(((PyObject *)__pyx_v_v), __pyx_ptype_5numpy_ndarray, 1, \"v\", 0))) <span class='error_goto'>__PYX_ERR(0, 3, __pyx_L1_error)</span>\n",
              "  if (unlikely(!<span class='pyx_c_api'>__Pyx_ArgTypeTest</span>(((PyObject *)__pyx_v_w), __pyx_ptype_5numpy_ndarray, 1, \"w\", 0))) <span class='error_goto'>__PYX_ERR(0, 3, __pyx_L1_error)</span>\n",
              "  __pyx_r = __pyx_pf_54_cython_magic_13dbf701e3defcfe0f595f237ef397d8695743a8_dot(__pyx_self, __pyx_v_v, __pyx_v_w);\n",
              "  int __pyx_lineno = 0;\n",
              "  const char *__pyx_filename = NULL;\n",
              "  int __pyx_clineno = 0;\n",
              "\n",
              "  /* function exit code */\n",
              "  goto __pyx_L0;\n",
              "  __pyx_L1_error:;\n",
              "  __pyx_r = NULL;\n",
              "  __pyx_L0:;\n",
              "  {\n",
              "    Py_ssize_t __pyx_temp;\n",
              "    for (__pyx_temp=0; __pyx_temp &lt; (Py_ssize_t)(sizeof(values)/sizeof(values[0])); ++__pyx_temp) {\n",
              "      <span class='pyx_c_api'>__Pyx_Arg_XDECREF_FASTCALL</span>(values[__pyx_temp]);\n",
              "    }\n",
              "  }\n",
              "  <span class='refnanny'>__Pyx_RefNannyFinishContext</span>();\n",
              "  return __pyx_r;\n",
              "}\n",
              "\n",
              "static PyObject *__pyx_pf_54_cython_magic_13dbf701e3defcfe0f595f237ef397d8695743a8_dot(CYTHON_UNUSED PyObject *__pyx_self, PyArrayObject *__pyx_v_v, PyArrayObject *__pyx_v_w) {\n",
              "  long __pyx_v_res;\n",
              "  int __pyx_v_n;\n",
              "  long __pyx_v_i;\n",
              "  __Pyx_LocalBuf_ND __pyx_pybuffernd_v;\n",
              "  __Pyx_Buffer __pyx_pybuffer_v;\n",
              "  __Pyx_LocalBuf_ND __pyx_pybuffernd_w;\n",
              "  __Pyx_Buffer __pyx_pybuffer_w;\n",
              "  PyObject *__pyx_r = NULL;\n",
              "  __pyx_pybuffer_v.pybuffer.buf = NULL;\n",
              "  __pyx_pybuffer_v.refcount = 0;\n",
              "  __pyx_pybuffernd_v.data = NULL;\n",
              "  __pyx_pybuffernd_v.rcbuffer = &amp;__pyx_pybuffer_v;\n",
              "  __pyx_pybuffer_w.pybuffer.buf = NULL;\n",
              "  __pyx_pybuffer_w.refcount = 0;\n",
              "  __pyx_pybuffernd_w.data = NULL;\n",
              "  __pyx_pybuffernd_w.rcbuffer = &amp;__pyx_pybuffer_w;\n",
              "  {\n",
              "    __Pyx_BufFmt_StackElem __pyx_stack[1];\n",
              "    if (unlikely(<span class='pyx_c_api'>__Pyx_GetBufferAndValidate</span>(&amp;__pyx_pybuffernd_v.rcbuffer-&gt;pybuffer, (PyObject*)__pyx_v_v, &amp;__Pyx_TypeInfo_nn___pyx_t_5numpy_int_t, PyBUF_FORMAT| PyBUF_STRIDES, 1, 0, __pyx_stack) == -1)) <span class='error_goto'>__PYX_ERR(0, 3, __pyx_L1_error)</span>\n",
              "  }\n",
              "  __pyx_pybuffernd_v.diminfo[0].strides = __pyx_pybuffernd_v.rcbuffer-&gt;pybuffer.strides[0]; __pyx_pybuffernd_v.diminfo[0].shape = __pyx_pybuffernd_v.rcbuffer-&gt;pybuffer.shape[0];\n",
              "  {\n",
              "    __Pyx_BufFmt_StackElem __pyx_stack[1];\n",
              "    if (unlikely(<span class='pyx_c_api'>__Pyx_GetBufferAndValidate</span>(&amp;__pyx_pybuffernd_w.rcbuffer-&gt;pybuffer, (PyObject*)__pyx_v_w, &amp;__Pyx_TypeInfo_nn___pyx_t_5numpy_int_t, PyBUF_FORMAT| PyBUF_STRIDES, 1, 0, __pyx_stack) == -1)) <span class='error_goto'>__PYX_ERR(0, 3, __pyx_L1_error)</span>\n",
              "  }\n",
              "  __pyx_pybuffernd_w.diminfo[0].strides = __pyx_pybuffernd_w.rcbuffer-&gt;pybuffer.strides[0]; __pyx_pybuffernd_w.diminfo[0].shape = __pyx_pybuffernd_w.rcbuffer-&gt;pybuffer.shape[0];\n",
              "/* … */\n",
              "  /* function exit code */\n",
              "  __pyx_L1_error:;\n",
              "  <span class='pyx_macro_api'>__Pyx_XDECREF</span>(__pyx_t_10);\n",
              "  { PyObject *__pyx_type, *__pyx_value, *__pyx_tb;\n",
              "    __Pyx_PyThreadState_declare\n",
              "    __Pyx_PyThreadState_assign\n",
              "    <span class='pyx_c_api'>__Pyx_ErrFetch</span>(&amp;__pyx_type, &amp;__pyx_value, &amp;__pyx_tb);\n",
              "    <span class='pyx_c_api'>__Pyx_SafeReleaseBuffer</span>(&amp;__pyx_pybuffernd_v.rcbuffer-&gt;pybuffer);\n",
              "    <span class='pyx_c_api'>__Pyx_SafeReleaseBuffer</span>(&amp;__pyx_pybuffernd_w.rcbuffer-&gt;pybuffer);\n",
              "  <span class='pyx_c_api'>__Pyx_ErrRestore</span>(__pyx_type, __pyx_value, __pyx_tb);}\n",
              "  <span class='pyx_c_api'>__Pyx_AddTraceback</span>(\"_cython_magic_13dbf701e3defcfe0f595f237ef397d8695743a8.dot\", __pyx_clineno, __pyx_lineno, __pyx_filename);\n",
              "  __pyx_r = NULL;\n",
              "  goto __pyx_L2;\n",
              "  __pyx_L0:;\n",
              "  <span class='pyx_c_api'>__Pyx_SafeReleaseBuffer</span>(&amp;__pyx_pybuffernd_v.rcbuffer-&gt;pybuffer);\n",
              "  <span class='pyx_c_api'>__Pyx_SafeReleaseBuffer</span>(&amp;__pyx_pybuffernd_w.rcbuffer-&gt;pybuffer);\n",
              "  __pyx_L2:;\n",
              "  <span class='refnanny'>__Pyx_XGIVEREF</span>(__pyx_r);\n",
              "  <span class='refnanny'>__Pyx_RefNannyFinishContext</span>();\n",
              "  return __pyx_r;\n",
              "}\n",
              "/* … */\n",
              "  __pyx_tuple__4 = <span class='py_c_api'>PyTuple_Pack</span>(5, __pyx_n_s_v, __pyx_n_s_w, __pyx_n_s_res, __pyx_n_s_n, __pyx_n_s_i);<span class='error_goto'> if (unlikely(!__pyx_tuple__4)) __PYX_ERR(0, 3, __pyx_L1_error)</span>\n",
              "  <span class='refnanny'>__Pyx_GOTREF</span>(__pyx_tuple__4);\n",
              "  <span class='refnanny'>__Pyx_GIVEREF</span>(__pyx_tuple__4);\n",
              "/* … */\n",
              "  __pyx_t_2 = <span class='pyx_c_api'>__Pyx_CyFunction_New</span>(&amp;__pyx_mdef_54_cython_magic_13dbf701e3defcfe0f595f237ef397d8695743a8_1dot, 0, __pyx_n_s_dot, NULL, __pyx_n_s_cython_magic_13dbf701e3defcfe0f, __pyx_d, ((PyObject *)__pyx_codeobj__5));<span class='error_goto'> if (unlikely(!__pyx_t_2)) __PYX_ERR(0, 3, __pyx_L1_error)</span>\n",
              "  <span class='refnanny'>__Pyx_GOTREF</span>(__pyx_t_2);\n",
              "  if (<span class='py_c_api'>PyDict_SetItem</span>(__pyx_d, __pyx_n_s_dot, __pyx_t_2) &lt; 0) <span class='error_goto'>__PYX_ERR(0, 3, __pyx_L1_error)</span>\n",
              "  <span class='pyx_macro_api'>__Pyx_DECREF</span>(__pyx_t_2); __pyx_t_2 = 0;\n",
              "</pre><pre class=\"cython line score-0\" onclick=\"(function(s){s.display=s.display==='block'?'none':'block'})(this.nextElementSibling.style)\">+<span class=\"\">04</span>:     <span class=\"k\">cdef</span> <span class=\"kt\">long</span> <span class=\"nf\">res</span><span class=\"o\">=</span><span class=\"mf\">0</span></pre>\n",
              "<pre class='cython code score-0 '>  __pyx_v_res = 0;\n",
              "</pre><pre class=\"cython line score-0\" onclick=\"(function(s){s.display=s.display==='block'?'none':'block'})(this.nextElementSibling.style)\">+<span class=\"\">05</span>:     <span class=\"k\">cdef</span> <span class=\"kt\">int</span> <span class=\"nf\">n</span><span class=\"o\">=</span><span class=\"mf\">0</span></pre>\n",
              "<pre class='cython code score-0 '>  __pyx_v_n = 0;\n",
              "</pre><pre class=\"cython line score-5\" onclick=\"(function(s){s.display=s.display==='block'?'none':'block'})(this.nextElementSibling.style)\">+<span class=\"\">06</span>:     <span class=\"n\">n</span><span class=\"o\">=</span><span class=\"nb\">len</span><span class=\"p\">(</span><span class=\"n\">v</span><span class=\"p\">)</span></pre>\n",
              "<pre class='cython code score-5 '>  __pyx_t_1 = <span class='py_c_api'>PyObject_Length</span>(((PyObject *)__pyx_v_v));<span class='error_goto'> if (unlikely(__pyx_t_1 == ((Py_ssize_t)-1))) __PYX_ERR(0, 6, __pyx_L1_error)</span>\n",
              "  __pyx_v_n = __pyx_t_1;\n",
              "</pre><pre class=\"cython line score-5\" onclick=\"(function(s){s.display=s.display==='block'?'none':'block'})(this.nextElementSibling.style)\">+<span class=\"\">07</span>:     <span class=\"k\">if</span> <span class=\"n\">n</span><span class=\"o\">==</span><span class=\"nb\">len</span><span class=\"p\">(</span><span class=\"n\">w</span><span class=\"p\">)</span> <span class=\"ow\">and</span> <span class=\"n\">n</span><span class=\"o\">&gt;</span><span class=\"mf\">0</span><span class=\"p\">:</span></pre>\n",
              "<pre class='cython code score-5 '>  __pyx_t_1 = <span class='py_c_api'>PyObject_Length</span>(((PyObject *)__pyx_v_w));<span class='error_goto'> if (unlikely(__pyx_t_1 == ((Py_ssize_t)-1))) __PYX_ERR(0, 7, __pyx_L1_error)</span>\n",
              "  __pyx_t_3 = (__pyx_v_n == __pyx_t_1);\n",
              "  if (__pyx_t_3) {\n",
              "  } else {\n",
              "    __pyx_t_2 = __pyx_t_3;\n",
              "    goto __pyx_L4_bool_binop_done;\n",
              "  }\n",
              "  __pyx_t_3 = (__pyx_v_n &gt; 0);\n",
              "  __pyx_t_2 = __pyx_t_3;\n",
              "  __pyx_L4_bool_binop_done:;\n",
              "  if (__pyx_t_2) {\n",
              "/* … */\n",
              "  }\n",
              "</pre><pre class=\"cython line score-0\" onclick=\"(function(s){s.display=s.display==='block'?'none':'block'})(this.nextElementSibling.style)\">+<span class=\"\">08</span>:         <span class=\"k\">for</span> <span class=\"n\">i</span> <span class=\"ow\">in</span> <span class=\"nb\">range</span><span class=\"p\">(</span><span class=\"mf\">0</span><span class=\"p\">,</span><span class=\"n\">n</span><span class=\"p\">):</span></pre>\n",
              "<pre class='cython code score-0 '>    __pyx_t_4 = __pyx_v_n;\n",
              "    __pyx_t_5 = __pyx_t_4;\n",
              "    for (__pyx_t_6 = 0; __pyx_t_6 &lt; __pyx_t_5; __pyx_t_6+=1) {\n",
              "      __pyx_v_i = __pyx_t_6;\n",
              "</pre><pre class=\"cython line score-4\" onclick=\"(function(s){s.display=s.display==='block'?'none':'block'})(this.nextElementSibling.style)\">+<span class=\"\">09</span>:             <span class=\"n\">res</span><span class=\"o\">+=</span><span class=\"n\">v</span><span class=\"p\">[</span><span class=\"n\">i</span><span class=\"p\">]</span><span class=\"o\">*</span><span class=\"n\">w</span><span class=\"p\">[</span><span class=\"n\">i</span><span class=\"p\">]</span></pre>\n",
              "<pre class='cython code score-4 '>      __pyx_t_7 = __pyx_v_i;\n",
              "      __pyx_t_8 = -1;\n",
              "      if (__pyx_t_7 &lt; 0) {\n",
              "        __pyx_t_7 += __pyx_pybuffernd_v.diminfo[0].shape;\n",
              "        if (unlikely(__pyx_t_7 &lt; 0)) __pyx_t_8 = 0;\n",
              "      } else if (unlikely(__pyx_t_7 &gt;= __pyx_pybuffernd_v.diminfo[0].shape)) __pyx_t_8 = 0;\n",
              "      if (unlikely(__pyx_t_8 != -1)) {\n",
              "        <span class='pyx_c_api'>__Pyx_RaiseBufferIndexError</span>(__pyx_t_8);\n",
              "        <span class='error_goto'>__PYX_ERR(0, 9, __pyx_L1_error)</span>\n",
              "      }\n",
              "      __pyx_t_9 = __pyx_v_i;\n",
              "      __pyx_t_8 = -1;\n",
              "      if (__pyx_t_9 &lt; 0) {\n",
              "        __pyx_t_9 += __pyx_pybuffernd_w.diminfo[0].shape;\n",
              "        if (unlikely(__pyx_t_9 &lt; 0)) __pyx_t_8 = 0;\n",
              "      } else if (unlikely(__pyx_t_9 &gt;= __pyx_pybuffernd_w.diminfo[0].shape)) __pyx_t_8 = 0;\n",
              "      if (unlikely(__pyx_t_8 != -1)) {\n",
              "        <span class='pyx_c_api'>__Pyx_RaiseBufferIndexError</span>(__pyx_t_8);\n",
              "        <span class='error_goto'>__PYX_ERR(0, 9, __pyx_L1_error)</span>\n",
              "      }\n",
              "      __pyx_v_res = (__pyx_v_res + ((*__Pyx_BufPtrStrided1d(__pyx_t_5numpy_int_t *, __pyx_pybuffernd_v.rcbuffer-&gt;pybuffer.buf, __pyx_t_7, __pyx_pybuffernd_v.diminfo[0].strides)) * (*__Pyx_BufPtrStrided1d(__pyx_t_5numpy_int_t *, __pyx_pybuffernd_w.rcbuffer-&gt;pybuffer.buf, __pyx_t_9, __pyx_pybuffernd_w.diminfo[0].strides))));\n",
              "    }\n",
              "</pre><pre class=\"cython line score-3\" onclick=\"(function(s){s.display=s.display==='block'?'none':'block'})(this.nextElementSibling.style)\">+<span class=\"\">10</span>:     <span class=\"k\">return</span> <span class=\"n\">res</span></pre>\n",
              "<pre class='cython code score-3 '>  <span class='pyx_macro_api'>__Pyx_XDECREF</span>(__pyx_r);\n",
              "  __pyx_t_10 = <span class='pyx_c_api'>__Pyx_PyInt_From_long</span>(__pyx_v_res);<span class='error_goto'> if (unlikely(!__pyx_t_10)) __PYX_ERR(0, 10, __pyx_L1_error)</span>\n",
              "  <span class='refnanny'>__Pyx_GOTREF</span>(__pyx_t_10);\n",
              "  __pyx_r = __pyx_t_10;\n",
              "  __pyx_t_10 = 0;\n",
              "  goto __pyx_L0;\n",
              "</pre></div></body></html>"
            ],
            "text/plain": [
              "<IPython.core.display.HTML object>"
            ]
          },
          "execution_count": 4,
          "metadata": {},
          "output_type": "execute_result"
        }
      ],
      "source": [
        "# Declaring types\n",
        "%%cython -a\n",
        "import numpy as np\n",
        "cimport numpy as np\n",
        "def dot(np.ndarray[np.int_t,ndim=1] v, np.ndarray[np.int_t,ndim=1] w):\n",
        "    cdef long res=0\n",
        "    cdef int n=0\n",
        "    n=len(v)\n",
        "    if n==len(w) and n>0:\n",
        "        for i in range(0,n):\n",
        "            res+=v[i]*w[i]\n",
        "    return res"
      ]
    },
    {
      "cell_type": "code",
      "execution_count": null,
      "metadata": {
        "colab": {
          "base_uri": "https://localhost:8080/",
          "height": 614
        },
        "id": "Fpflq9N0Wt7X",
        "outputId": "d69cc721-5dfe-4cc8-fe27-b163b0409ba2"
      },
      "outputs": [
        {
          "name": "stdout",
          "output_type": "stream",
          "text": [
            "Content of stderr:\n",
            "In file included from /usr/local/lib/python3.10/dist-packages/numpy/core/include/numpy/ndarraytypes.h:1929,\n",
            "                 from /usr/local/lib/python3.10/dist-packages/numpy/core/include/numpy/ndarrayobject.h:12,\n",
            "                 from /usr/local/lib/python3.10/dist-packages/numpy/core/include/numpy/arrayobject.h:5,\n",
            "                 from /root/.cache/ipython/cython/_cython_magic_13ce7850f7979da65800cacb2a3b1a8c107073e2.c:1251:\n",
            "/usr/local/lib/python3.10/dist-packages/numpy/core/include/numpy/npy_1_7_deprecated_api.h:17:2: warning: #warning \"Using deprecated NumPy API, disable it with \" \"#define NPY_NO_DEPRECATED_API NPY_1_7_API_VERSION\" [-Wcpp]\n",
            "   17 | #warning \"Using deprecated NumPy API, disable it with \" \\\n",
            "      |  ^~~~~~~\n",
            "/root/.cache/ipython/cython/_cython_magic_13ce7850f7979da65800cacb2a3b1a8c107073e2.c: In function ‘__pyx_pw_54_cython_magic_13ce7850f7979da65800cacb2a3b1a8c107073e2_1dot’:\n",
            "/root/.cache/ipython/cython/_cython_magic_13ce7850f7979da65800cacb2a3b1a8c107073e2.c:1153:40: warning: ‘__pyx_v_res’ may be used uninitialized in this function [-Wmaybe-uninitialized]\n",
            " 1153 |   #define PyInt_FromLong               PyLong_FromLong\n",
            "      |                                        ^~~~~~~~~~~~~~~\n",
            "/root/.cache/ipython/cython/_cython_magic_13ce7850f7979da65800cacb2a3b1a8c107073e2.c:4297:8: note: ‘__pyx_v_res’ was declared here\n",
            " 4297 |   long __pyx_v_res;\n",
            "      |        ^~~~~~~~~~~"
          ]
        },
        {
          "data": {
            "text/html": [
              "<!DOCTYPE html>\n",
              "<!-- Generated by Cython 3.0.11 -->\n",
              "<html>\n",
              "<head>\n",
              "    <meta http-equiv=\"Content-Type\" content=\"text/html; charset=utf-8\" />\n",
              "    <title>Cython: _cython_magic_13ce7850f7979da65800cacb2a3b1a8c107073e2.pyx</title>\n",
              "    <style type=\"text/css\">\n",
              "    \n",
              "body.cython { font-family: courier; font-size: 12; }\n",
              "\n",
              ".cython.tag  {  }\n",
              ".cython.line { color: #000000; margin: 0em }\n",
              ".cython.code { font-size: 9; color: #444444; display: none; margin: 0px 0px 0px 8px; border-left: 8px none; }\n",
              "\n",
              ".cython.line .run { background-color: #B0FFB0; }\n",
              ".cython.line .mis { background-color: #FFB0B0; }\n",
              ".cython.code.run  { border-left: 8px solid #B0FFB0; }\n",
              ".cython.code.mis  { border-left: 8px solid #FFB0B0; }\n",
              "\n",
              ".cython.code .py_c_api  { color: red; }\n",
              ".cython.code .py_macro_api  { color: #FF7000; }\n",
              ".cython.code .pyx_c_api  { color: #FF3000; }\n",
              ".cython.code .pyx_macro_api  { color: #FF7000; }\n",
              ".cython.code .refnanny  { color: #FFA000; }\n",
              ".cython.code .trace  { color: #FFA000; }\n",
              ".cython.code .error_goto  { color: #FFA000; }\n",
              "\n",
              ".cython.code .coerce  { color: #008000; border: 1px dotted #008000 }\n",
              ".cython.code .py_attr { color: #FF0000; font-weight: bold; }\n",
              ".cython.code .c_attr  { color: #0000FF; }\n",
              ".cython.code .py_call { color: #FF0000; font-weight: bold; }\n",
              ".cython.code .c_call  { color: #0000FF; }\n",
              "\n",
              ".cython.score-0 {background-color: #FFFFff;}\n",
              ".cython.score-1 {background-color: #FFFFe7;}\n",
              ".cython.score-2 {background-color: #FFFFd4;}\n",
              ".cython.score-3 {background-color: #FFFFc4;}\n",
              ".cython.score-4 {background-color: #FFFFb6;}\n",
              ".cython.score-5 {background-color: #FFFFaa;}\n",
              ".cython.score-6 {background-color: #FFFF9f;}\n",
              ".cython.score-7 {background-color: #FFFF96;}\n",
              ".cython.score-8 {background-color: #FFFF8d;}\n",
              ".cython.score-9 {background-color: #FFFF86;}\n",
              ".cython.score-10 {background-color: #FFFF7f;}\n",
              ".cython.score-11 {background-color: #FFFF79;}\n",
              ".cython.score-12 {background-color: #FFFF73;}\n",
              ".cython.score-13 {background-color: #FFFF6e;}\n",
              ".cython.score-14 {background-color: #FFFF6a;}\n",
              ".cython.score-15 {background-color: #FFFF66;}\n",
              ".cython.score-16 {background-color: #FFFF62;}\n",
              ".cython.score-17 {background-color: #FFFF5e;}\n",
              ".cython.score-18 {background-color: #FFFF5b;}\n",
              ".cython.score-19 {background-color: #FFFF57;}\n",
              ".cython.score-20 {background-color: #FFFF55;}\n",
              ".cython.score-21 {background-color: #FFFF52;}\n",
              ".cython.score-22 {background-color: #FFFF4f;}\n",
              ".cython.score-23 {background-color: #FFFF4d;}\n",
              ".cython.score-24 {background-color: #FFFF4b;}\n",
              ".cython.score-25 {background-color: #FFFF48;}\n",
              ".cython.score-26 {background-color: #FFFF46;}\n",
              ".cython.score-27 {background-color: #FFFF44;}\n",
              ".cython.score-28 {background-color: #FFFF43;}\n",
              ".cython.score-29 {background-color: #FFFF41;}\n",
              ".cython.score-30 {background-color: #FFFF3f;}\n",
              ".cython.score-31 {background-color: #FFFF3e;}\n",
              ".cython.score-32 {background-color: #FFFF3c;}\n",
              ".cython.score-33 {background-color: #FFFF3b;}\n",
              ".cython.score-34 {background-color: #FFFF39;}\n",
              ".cython.score-35 {background-color: #FFFF38;}\n",
              ".cython.score-36 {background-color: #FFFF37;}\n",
              ".cython.score-37 {background-color: #FFFF36;}\n",
              ".cython.score-38 {background-color: #FFFF35;}\n",
              ".cython.score-39 {background-color: #FFFF34;}\n",
              ".cython.score-40 {background-color: #FFFF33;}\n",
              ".cython.score-41 {background-color: #FFFF32;}\n",
              ".cython.score-42 {background-color: #FFFF31;}\n",
              ".cython.score-43 {background-color: #FFFF30;}\n",
              ".cython.score-44 {background-color: #FFFF2f;}\n",
              ".cython.score-45 {background-color: #FFFF2e;}\n",
              ".cython.score-46 {background-color: #FFFF2d;}\n",
              ".cython.score-47 {background-color: #FFFF2c;}\n",
              ".cython.score-48 {background-color: #FFFF2b;}\n",
              ".cython.score-49 {background-color: #FFFF2b;}\n",
              ".cython.score-50 {background-color: #FFFF2a;}\n",
              ".cython.score-51 {background-color: #FFFF29;}\n",
              ".cython.score-52 {background-color: #FFFF29;}\n",
              ".cython.score-53 {background-color: #FFFF28;}\n",
              ".cython.score-54 {background-color: #FFFF27;}\n",
              ".cython.score-55 {background-color: #FFFF27;}\n",
              ".cython.score-56 {background-color: #FFFF26;}\n",
              ".cython.score-57 {background-color: #FFFF26;}\n",
              ".cython.score-58 {background-color: #FFFF25;}\n",
              ".cython.score-59 {background-color: #FFFF24;}\n",
              ".cython.score-60 {background-color: #FFFF24;}\n",
              ".cython.score-61 {background-color: #FFFF23;}\n",
              ".cython.score-62 {background-color: #FFFF23;}\n",
              ".cython.score-63 {background-color: #FFFF22;}\n",
              ".cython.score-64 {background-color: #FFFF22;}\n",
              ".cython.score-65 {background-color: #FFFF22;}\n",
              ".cython.score-66 {background-color: #FFFF21;}\n",
              ".cython.score-67 {background-color: #FFFF21;}\n",
              ".cython.score-68 {background-color: #FFFF20;}\n",
              ".cython.score-69 {background-color: #FFFF20;}\n",
              ".cython.score-70 {background-color: #FFFF1f;}\n",
              ".cython.score-71 {background-color: #FFFF1f;}\n",
              ".cython.score-72 {background-color: #FFFF1f;}\n",
              ".cython.score-73 {background-color: #FFFF1e;}\n",
              ".cython.score-74 {background-color: #FFFF1e;}\n",
              ".cython.score-75 {background-color: #FFFF1e;}\n",
              ".cython.score-76 {background-color: #FFFF1d;}\n",
              ".cython.score-77 {background-color: #FFFF1d;}\n",
              ".cython.score-78 {background-color: #FFFF1c;}\n",
              ".cython.score-79 {background-color: #FFFF1c;}\n",
              ".cython.score-80 {background-color: #FFFF1c;}\n",
              ".cython.score-81 {background-color: #FFFF1c;}\n",
              ".cython.score-82 {background-color: #FFFF1b;}\n",
              ".cython.score-83 {background-color: #FFFF1b;}\n",
              ".cython.score-84 {background-color: #FFFF1b;}\n",
              ".cython.score-85 {background-color: #FFFF1a;}\n",
              ".cython.score-86 {background-color: #FFFF1a;}\n",
              ".cython.score-87 {background-color: #FFFF1a;}\n",
              ".cython.score-88 {background-color: #FFFF1a;}\n",
              ".cython.score-89 {background-color: #FFFF19;}\n",
              ".cython.score-90 {background-color: #FFFF19;}\n",
              ".cython.score-91 {background-color: #FFFF19;}\n",
              ".cython.score-92 {background-color: #FFFF19;}\n",
              ".cython.score-93 {background-color: #FFFF18;}\n",
              ".cython.score-94 {background-color: #FFFF18;}\n",
              ".cython.score-95 {background-color: #FFFF18;}\n",
              ".cython.score-96 {background-color: #FFFF18;}\n",
              ".cython.score-97 {background-color: #FFFF17;}\n",
              ".cython.score-98 {background-color: #FFFF17;}\n",
              ".cython.score-99 {background-color: #FFFF17;}\n",
              ".cython.score-100 {background-color: #FFFF17;}\n",
              ".cython.score-101 {background-color: #FFFF16;}\n",
              ".cython.score-102 {background-color: #FFFF16;}\n",
              ".cython.score-103 {background-color: #FFFF16;}\n",
              ".cython.score-104 {background-color: #FFFF16;}\n",
              ".cython.score-105 {background-color: #FFFF16;}\n",
              ".cython.score-106 {background-color: #FFFF15;}\n",
              ".cython.score-107 {background-color: #FFFF15;}\n",
              ".cython.score-108 {background-color: #FFFF15;}\n",
              ".cython.score-109 {background-color: #FFFF15;}\n",
              ".cython.score-110 {background-color: #FFFF15;}\n",
              ".cython.score-111 {background-color: #FFFF15;}\n",
              ".cython.score-112 {background-color: #FFFF14;}\n",
              ".cython.score-113 {background-color: #FFFF14;}\n",
              ".cython.score-114 {background-color: #FFFF14;}\n",
              ".cython.score-115 {background-color: #FFFF14;}\n",
              ".cython.score-116 {background-color: #FFFF14;}\n",
              ".cython.score-117 {background-color: #FFFF14;}\n",
              ".cython.score-118 {background-color: #FFFF13;}\n",
              ".cython.score-119 {background-color: #FFFF13;}\n",
              ".cython.score-120 {background-color: #FFFF13;}\n",
              ".cython.score-121 {background-color: #FFFF13;}\n",
              ".cython.score-122 {background-color: #FFFF13;}\n",
              ".cython.score-123 {background-color: #FFFF13;}\n",
              ".cython.score-124 {background-color: #FFFF13;}\n",
              ".cython.score-125 {background-color: #FFFF12;}\n",
              ".cython.score-126 {background-color: #FFFF12;}\n",
              ".cython.score-127 {background-color: #FFFF12;}\n",
              ".cython.score-128 {background-color: #FFFF12;}\n",
              ".cython.score-129 {background-color: #FFFF12;}\n",
              ".cython.score-130 {background-color: #FFFF12;}\n",
              ".cython.score-131 {background-color: #FFFF12;}\n",
              ".cython.score-132 {background-color: #FFFF11;}\n",
              ".cython.score-133 {background-color: #FFFF11;}\n",
              ".cython.score-134 {background-color: #FFFF11;}\n",
              ".cython.score-135 {background-color: #FFFF11;}\n",
              ".cython.score-136 {background-color: #FFFF11;}\n",
              ".cython.score-137 {background-color: #FFFF11;}\n",
              ".cython.score-138 {background-color: #FFFF11;}\n",
              ".cython.score-139 {background-color: #FFFF11;}\n",
              ".cython.score-140 {background-color: #FFFF11;}\n",
              ".cython.score-141 {background-color: #FFFF10;}\n",
              ".cython.score-142 {background-color: #FFFF10;}\n",
              ".cython.score-143 {background-color: #FFFF10;}\n",
              ".cython.score-144 {background-color: #FFFF10;}\n",
              ".cython.score-145 {background-color: #FFFF10;}\n",
              ".cython.score-146 {background-color: #FFFF10;}\n",
              ".cython.score-147 {background-color: #FFFF10;}\n",
              ".cython.score-148 {background-color: #FFFF10;}\n",
              ".cython.score-149 {background-color: #FFFF10;}\n",
              ".cython.score-150 {background-color: #FFFF0f;}\n",
              ".cython.score-151 {background-color: #FFFF0f;}\n",
              ".cython.score-152 {background-color: #FFFF0f;}\n",
              ".cython.score-153 {background-color: #FFFF0f;}\n",
              ".cython.score-154 {background-color: #FFFF0f;}\n",
              ".cython.score-155 {background-color: #FFFF0f;}\n",
              ".cython.score-156 {background-color: #FFFF0f;}\n",
              ".cython.score-157 {background-color: #FFFF0f;}\n",
              ".cython.score-158 {background-color: #FFFF0f;}\n",
              ".cython.score-159 {background-color: #FFFF0f;}\n",
              ".cython.score-160 {background-color: #FFFF0f;}\n",
              ".cython.score-161 {background-color: #FFFF0e;}\n",
              ".cython.score-162 {background-color: #FFFF0e;}\n",
              ".cython.score-163 {background-color: #FFFF0e;}\n",
              ".cython.score-164 {background-color: #FFFF0e;}\n",
              ".cython.score-165 {background-color: #FFFF0e;}\n",
              ".cython.score-166 {background-color: #FFFF0e;}\n",
              ".cython.score-167 {background-color: #FFFF0e;}\n",
              ".cython.score-168 {background-color: #FFFF0e;}\n",
              ".cython.score-169 {background-color: #FFFF0e;}\n",
              ".cython.score-170 {background-color: #FFFF0e;}\n",
              ".cython.score-171 {background-color: #FFFF0e;}\n",
              ".cython.score-172 {background-color: #FFFF0e;}\n",
              ".cython.score-173 {background-color: #FFFF0d;}\n",
              ".cython.score-174 {background-color: #FFFF0d;}\n",
              ".cython.score-175 {background-color: #FFFF0d;}\n",
              ".cython.score-176 {background-color: #FFFF0d;}\n",
              ".cython.score-177 {background-color: #FFFF0d;}\n",
              ".cython.score-178 {background-color: #FFFF0d;}\n",
              ".cython.score-179 {background-color: #FFFF0d;}\n",
              ".cython.score-180 {background-color: #FFFF0d;}\n",
              ".cython.score-181 {background-color: #FFFF0d;}\n",
              ".cython.score-182 {background-color: #FFFF0d;}\n",
              ".cython.score-183 {background-color: #FFFF0d;}\n",
              ".cython.score-184 {background-color: #FFFF0d;}\n",
              ".cython.score-185 {background-color: #FFFF0d;}\n",
              ".cython.score-186 {background-color: #FFFF0d;}\n",
              ".cython.score-187 {background-color: #FFFF0c;}\n",
              ".cython.score-188 {background-color: #FFFF0c;}\n",
              ".cython.score-189 {background-color: #FFFF0c;}\n",
              ".cython.score-190 {background-color: #FFFF0c;}\n",
              ".cython.score-191 {background-color: #FFFF0c;}\n",
              ".cython.score-192 {background-color: #FFFF0c;}\n",
              ".cython.score-193 {background-color: #FFFF0c;}\n",
              ".cython.score-194 {background-color: #FFFF0c;}\n",
              ".cython.score-195 {background-color: #FFFF0c;}\n",
              ".cython.score-196 {background-color: #FFFF0c;}\n",
              ".cython.score-197 {background-color: #FFFF0c;}\n",
              ".cython.score-198 {background-color: #FFFF0c;}\n",
              ".cython.score-199 {background-color: #FFFF0c;}\n",
              ".cython.score-200 {background-color: #FFFF0c;}\n",
              ".cython.score-201 {background-color: #FFFF0c;}\n",
              ".cython.score-202 {background-color: #FFFF0c;}\n",
              ".cython.score-203 {background-color: #FFFF0b;}\n",
              ".cython.score-204 {background-color: #FFFF0b;}\n",
              ".cython.score-205 {background-color: #FFFF0b;}\n",
              ".cython.score-206 {background-color: #FFFF0b;}\n",
              ".cython.score-207 {background-color: #FFFF0b;}\n",
              ".cython.score-208 {background-color: #FFFF0b;}\n",
              ".cython.score-209 {background-color: #FFFF0b;}\n",
              ".cython.score-210 {background-color: #FFFF0b;}\n",
              ".cython.score-211 {background-color: #FFFF0b;}\n",
              ".cython.score-212 {background-color: #FFFF0b;}\n",
              ".cython.score-213 {background-color: #FFFF0b;}\n",
              ".cython.score-214 {background-color: #FFFF0b;}\n",
              ".cython.score-215 {background-color: #FFFF0b;}\n",
              ".cython.score-216 {background-color: #FFFF0b;}\n",
              ".cython.score-217 {background-color: #FFFF0b;}\n",
              ".cython.score-218 {background-color: #FFFF0b;}\n",
              ".cython.score-219 {background-color: #FFFF0b;}\n",
              ".cython.score-220 {background-color: #FFFF0b;}\n",
              ".cython.score-221 {background-color: #FFFF0b;}\n",
              ".cython.score-222 {background-color: #FFFF0a;}\n",
              ".cython.score-223 {background-color: #FFFF0a;}\n",
              ".cython.score-224 {background-color: #FFFF0a;}\n",
              ".cython.score-225 {background-color: #FFFF0a;}\n",
              ".cython.score-226 {background-color: #FFFF0a;}\n",
              ".cython.score-227 {background-color: #FFFF0a;}\n",
              ".cython.score-228 {background-color: #FFFF0a;}\n",
              ".cython.score-229 {background-color: #FFFF0a;}\n",
              ".cython.score-230 {background-color: #FFFF0a;}\n",
              ".cython.score-231 {background-color: #FFFF0a;}\n",
              ".cython.score-232 {background-color: #FFFF0a;}\n",
              ".cython.score-233 {background-color: #FFFF0a;}\n",
              ".cython.score-234 {background-color: #FFFF0a;}\n",
              ".cython.score-235 {background-color: #FFFF0a;}\n",
              ".cython.score-236 {background-color: #FFFF0a;}\n",
              ".cython.score-237 {background-color: #FFFF0a;}\n",
              ".cython.score-238 {background-color: #FFFF0a;}\n",
              ".cython.score-239 {background-color: #FFFF0a;}\n",
              ".cython.score-240 {background-color: #FFFF0a;}\n",
              ".cython.score-241 {background-color: #FFFF0a;}\n",
              ".cython.score-242 {background-color: #FFFF0a;}\n",
              ".cython.score-243 {background-color: #FFFF0a;}\n",
              ".cython.score-244 {background-color: #FFFF0a;}\n",
              ".cython.score-245 {background-color: #FFFF0a;}\n",
              ".cython.score-246 {background-color: #FFFF09;}\n",
              ".cython.score-247 {background-color: #FFFF09;}\n",
              ".cython.score-248 {background-color: #FFFF09;}\n",
              ".cython.score-249 {background-color: #FFFF09;}\n",
              ".cython.score-250 {background-color: #FFFF09;}\n",
              ".cython.score-251 {background-color: #FFFF09;}\n",
              ".cython.score-252 {background-color: #FFFF09;}\n",
              ".cython.score-253 {background-color: #FFFF09;}\n",
              ".cython.score-254 {background-color: #FFFF09;}\n",
              "pre { line-height: 125%; }\n",
              "td.linenos .normal { color: inherit; background-color: transparent; padding-left: 5px; padding-right: 5px; }\n",
              "span.linenos { color: inherit; background-color: transparent; padding-left: 5px; padding-right: 5px; }\n",
              "td.linenos .special { color: #000000; background-color: #ffffc0; padding-left: 5px; padding-right: 5px; }\n",
              "span.linenos.special { color: #000000; background-color: #ffffc0; padding-left: 5px; padding-right: 5px; }\n",
              ".cython .hll { background-color: #ffffcc }\n",
              ".cython { background: #f8f8f8; }\n",
              ".cython .c { color: #3D7B7B; font-style: italic } /* Comment */\n",
              ".cython .err { border: 1px solid #FF0000 } /* Error */\n",
              ".cython .k { color: #008000; font-weight: bold } /* Keyword */\n",
              ".cython .o { color: #666666 } /* Operator */\n",
              ".cython .ch { color: #3D7B7B; font-style: italic } /* Comment.Hashbang */\n",
              ".cython .cm { color: #3D7B7B; font-style: italic } /* Comment.Multiline */\n",
              ".cython .cp { color: #9C6500 } /* Comment.Preproc */\n",
              ".cython .cpf { color: #3D7B7B; font-style: italic } /* Comment.PreprocFile */\n",
              ".cython .c1 { color: #3D7B7B; font-style: italic } /* Comment.Single */\n",
              ".cython .cs { color: #3D7B7B; font-style: italic } /* Comment.Special */\n",
              ".cython .gd { color: #A00000 } /* Generic.Deleted */\n",
              ".cython .ge { font-style: italic } /* Generic.Emph */\n",
              ".cython .ges { font-weight: bold; font-style: italic } /* Generic.EmphStrong */\n",
              ".cython .gr { color: #E40000 } /* Generic.Error */\n",
              ".cython .gh { color: #000080; font-weight: bold } /* Generic.Heading */\n",
              ".cython .gi { color: #008400 } /* Generic.Inserted */\n",
              ".cython .go { color: #717171 } /* Generic.Output */\n",
              ".cython .gp { color: #000080; font-weight: bold } /* Generic.Prompt */\n",
              ".cython .gs { font-weight: bold } /* Generic.Strong */\n",
              ".cython .gu { color: #800080; font-weight: bold } /* Generic.Subheading */\n",
              ".cython .gt { color: #0044DD } /* Generic.Traceback */\n",
              ".cython .kc { color: #008000; font-weight: bold } /* Keyword.Constant */\n",
              ".cython .kd { color: #008000; font-weight: bold } /* Keyword.Declaration */\n",
              ".cython .kn { color: #008000; font-weight: bold } /* Keyword.Namespace */\n",
              ".cython .kp { color: #008000 } /* Keyword.Pseudo */\n",
              ".cython .kr { color: #008000; font-weight: bold } /* Keyword.Reserved */\n",
              ".cython .kt { color: #B00040 } /* Keyword.Type */\n",
              ".cython .m { color: #666666 } /* Literal.Number */\n",
              ".cython .s { color: #BA2121 } /* Literal.String */\n",
              ".cython .na { color: #687822 } /* Name.Attribute */\n",
              ".cython .nb { color: #008000 } /* Name.Builtin */\n",
              ".cython .nc { color: #0000FF; font-weight: bold } /* Name.Class */\n",
              ".cython .no { color: #880000 } /* Name.Constant */\n",
              ".cython .nd { color: #AA22FF } /* Name.Decorator */\n",
              ".cython .ni { color: #717171; font-weight: bold } /* Name.Entity */\n",
              ".cython .ne { color: #CB3F38; font-weight: bold } /* Name.Exception */\n",
              ".cython .nf { color: #0000FF } /* Name.Function */\n",
              ".cython .nl { color: #767600 } /* Name.Label */\n",
              ".cython .nn { color: #0000FF; font-weight: bold } /* Name.Namespace */\n",
              ".cython .nt { color: #008000; font-weight: bold } /* Name.Tag */\n",
              ".cython .nv { color: #19177C } /* Name.Variable */\n",
              ".cython .ow { color: #AA22FF; font-weight: bold } /* Operator.Word */\n",
              ".cython .w { color: #bbbbbb } /* Text.Whitespace */\n",
              ".cython .mb { color: #666666 } /* Literal.Number.Bin */\n",
              ".cython .mf { color: #666666 } /* Literal.Number.Float */\n",
              ".cython .mh { color: #666666 } /* Literal.Number.Hex */\n",
              ".cython .mi { color: #666666 } /* Literal.Number.Integer */\n",
              ".cython .mo { color: #666666 } /* Literal.Number.Oct */\n",
              ".cython .sa { color: #BA2121 } /* Literal.String.Affix */\n",
              ".cython .sb { color: #BA2121 } /* Literal.String.Backtick */\n",
              ".cython .sc { color: #BA2121 } /* Literal.String.Char */\n",
              ".cython .dl { color: #BA2121 } /* Literal.String.Delimiter */\n",
              ".cython .sd { color: #BA2121; font-style: italic } /* Literal.String.Doc */\n",
              ".cython .s2 { color: #BA2121 } /* Literal.String.Double */\n",
              ".cython .se { color: #AA5D1F; font-weight: bold } /* Literal.String.Escape */\n",
              ".cython .sh { color: #BA2121 } /* Literal.String.Heredoc */\n",
              ".cython .si { color: #A45A77; font-weight: bold } /* Literal.String.Interpol */\n",
              ".cython .sx { color: #008000 } /* Literal.String.Other */\n",
              ".cython .sr { color: #A45A77 } /* Literal.String.Regex */\n",
              ".cython .s1 { color: #BA2121 } /* Literal.String.Single */\n",
              ".cython .ss { color: #19177C } /* Literal.String.Symbol */\n",
              ".cython .bp { color: #008000 } /* Name.Builtin.Pseudo */\n",
              ".cython .fm { color: #0000FF } /* Name.Function.Magic */\n",
              ".cython .vc { color: #19177C } /* Name.Variable.Class */\n",
              ".cython .vg { color: #19177C } /* Name.Variable.Global */\n",
              ".cython .vi { color: #19177C } /* Name.Variable.Instance */\n",
              ".cython .vm { color: #19177C } /* Name.Variable.Magic */\n",
              ".cython .il { color: #666666 } /* Literal.Number.Integer.Long */\n",
              "    </style>\n",
              "</head>\n",
              "<body class=\"cython\">\n",
              "<p><span style=\"border-bottom: solid 1px grey;\">Generated by Cython 3.0.11</span></p>\n",
              "<p>\n",
              "    <span style=\"background-color: #FFFF00\">Yellow lines</span> hint at Python interaction.<br />\n",
              "    Click on a line that starts with a \"<code>+</code>\" to see the C code that Cython generated for it.\n",
              "</p>\n",
              "<div class=\"cython\"><pre class=\"cython line score-16\" onclick=\"(function(s){s.display=s.display==='block'?'none':'block'})(this.nextElementSibling.style)\">+<span class=\"\">01</span>: <span class=\"k\">import</span> <span class=\"nn\">numpy</span> <span class=\"k\">as</span> <span class=\"nn\">np</span></pre>\n",
              "<pre class='cython code score-16 '>  __pyx_t_2 = <span class='pyx_c_api'>__Pyx_ImportDottedModule</span>(__pyx_n_s_numpy, NULL);<span class='error_goto'> if (unlikely(!__pyx_t_2)) __PYX_ERR(0, 1, __pyx_L1_error)</span>\n",
              "  <span class='refnanny'>__Pyx_GOTREF</span>(__pyx_t_2);\n",
              "  if (<span class='py_c_api'>PyDict_SetItem</span>(__pyx_d, __pyx_n_s_np, __pyx_t_2) &lt; 0) <span class='error_goto'>__PYX_ERR(0, 1, __pyx_L1_error)</span>\n",
              "  <span class='pyx_macro_api'>__Pyx_DECREF</span>(__pyx_t_2); __pyx_t_2 = 0;\n",
              "/* … */\n",
              "  __pyx_t_2 = <span class='pyx_c_api'>__Pyx_PyDict_NewPresized</span>(0);<span class='error_goto'> if (unlikely(!__pyx_t_2)) __PYX_ERR(0, 1, __pyx_L1_error)</span>\n",
              "  <span class='refnanny'>__Pyx_GOTREF</span>(__pyx_t_2);\n",
              "  if (<span class='py_c_api'>PyDict_SetItem</span>(__pyx_d, __pyx_n_s_test, __pyx_t_2) &lt; 0) <span class='error_goto'>__PYX_ERR(0, 1, __pyx_L1_error)</span>\n",
              "  <span class='pyx_macro_api'>__Pyx_DECREF</span>(__pyx_t_2); __pyx_t_2 = 0;\n",
              "</pre><pre class=\"cython line score-0\">&#xA0;<span class=\"\">02</span>: <span class=\"k\">cimport</span> <span class=\"nn\">numpy</span> <span class=\"k\">as</span> <span class=\"nn\">np</span></pre>\n",
              "<pre class=\"cython line score-0\">&#xA0;<span class=\"\">03</span>: <span class=\"k\">cimport</span> <span class=\"nn\">cython</span></pre>\n",
              "<pre class=\"cython line score-84\" onclick=\"(function(s){s.display=s.display==='block'?'none':'block'})(this.nextElementSibling.style)\">+<span class=\"\">04</span>: <span class=\"nd\">@cython</span><span class=\"o\">.</span><span class=\"n\">boundscheck</span><span class=\"p\">(</span><span class=\"bp\">False</span><span class=\"p\">)</span></pre>\n",
              "<pre class='cython code score-84 '>/* Python wrapper */\n",
              "static PyObject *__pyx_pw_54_cython_magic_13ce7850f7979da65800cacb2a3b1a8c107073e2_1dot(PyObject *__pyx_self, \n",
              "#if CYTHON_METH_FASTCALL\n",
              "PyObject *const *__pyx_args, Py_ssize_t __pyx_nargs, PyObject *__pyx_kwds\n",
              "#else\n",
              "PyObject *__pyx_args, PyObject *__pyx_kwds\n",
              "#endif\n",
              "); /*proto*/\n",
              "static PyMethodDef __pyx_mdef_54_cython_magic_13ce7850f7979da65800cacb2a3b1a8c107073e2_1dot = {\"dot\", (PyCFunction)(void*)(__Pyx_PyCFunction_FastCallWithKeywords)__pyx_pw_54_cython_magic_13ce7850f7979da65800cacb2a3b1a8c107073e2_1dot, __Pyx_METH_FASTCALL|METH_KEYWORDS, 0};\n",
              "static PyObject *__pyx_pw_54_cython_magic_13ce7850f7979da65800cacb2a3b1a8c107073e2_1dot(PyObject *__pyx_self, \n",
              "#if CYTHON_METH_FASTCALL\n",
              "PyObject *const *__pyx_args, Py_ssize_t __pyx_nargs, PyObject *__pyx_kwds\n",
              "#else\n",
              "PyObject *__pyx_args, PyObject *__pyx_kwds\n",
              "#endif\n",
              ") {\n",
              "  PyArrayObject *__pyx_v_v = 0;\n",
              "  PyArrayObject *__pyx_v_w = 0;\n",
              "  #if !CYTHON_METH_FASTCALL\n",
              "  CYTHON_UNUSED Py_ssize_t __pyx_nargs;\n",
              "  #endif\n",
              "  CYTHON_UNUSED PyObject *const *__pyx_kwvalues;\n",
              "  PyObject *__pyx_r = 0;\n",
              "  <span class='refnanny'>__Pyx_RefNannyDeclarations</span>\n",
              "  <span class='refnanny'>__Pyx_RefNannySetupContext</span>(\"dot (wrapper)\", 0);\n",
              "  #if !CYTHON_METH_FASTCALL\n",
              "  #if CYTHON_ASSUME_SAFE_MACROS\n",
              "  __pyx_nargs = <span class='py_macro_api'>PyTuple_GET_SIZE</span>(__pyx_args);\n",
              "  #else\n",
              "  __pyx_nargs = <span class='py_c_api'>PyTuple_Size</span>(__pyx_args); if (unlikely(__pyx_nargs &lt; 0)) return NULL;\n",
              "  #endif\n",
              "  #endif\n",
              "  __pyx_kwvalues = <span class='pyx_c_api'>__Pyx_KwValues_FASTCALL</span>(__pyx_args, __pyx_nargs);\n",
              "  {\n",
              "    PyObject **__pyx_pyargnames[] = {&amp;__pyx_n_s_v,&amp;__pyx_n_s_w,0};\n",
              "  PyObject* values[2] = {0,0};\n",
              "    if (__pyx_kwds) {\n",
              "      Py_ssize_t kw_args;\n",
              "      switch (__pyx_nargs) {\n",
              "        case  2: values[1] = <span class='pyx_c_api'>__Pyx_Arg_FASTCALL</span>(__pyx_args, 1);\n",
              "        CYTHON_FALLTHROUGH;\n",
              "        case  1: values[0] = <span class='pyx_c_api'>__Pyx_Arg_FASTCALL</span>(__pyx_args, 0);\n",
              "        CYTHON_FALLTHROUGH;\n",
              "        case  0: break;\n",
              "        default: goto __pyx_L5_argtuple_error;\n",
              "      }\n",
              "      kw_args = <span class='pyx_c_api'>__Pyx_NumKwargs_FASTCALL</span>(__pyx_kwds);\n",
              "      switch (__pyx_nargs) {\n",
              "        case  0:\n",
              "        if (likely((values[0] = <span class='pyx_c_api'>__Pyx_GetKwValue_FASTCALL</span>(__pyx_kwds, __pyx_kwvalues, __pyx_n_s_v)) != 0)) {\n",
              "          (void)<span class='pyx_c_api'>__Pyx_Arg_NewRef_FASTCALL</span>(values[0]);\n",
              "          kw_args--;\n",
              "        }\n",
              "        else if (unlikely(<span class='py_c_api'>PyErr_Occurred</span>())) <span class='error_goto'>__PYX_ERR(0, 4, __pyx_L3_error)</span>\n",
              "        else goto __pyx_L5_argtuple_error;\n",
              "        CYTHON_FALLTHROUGH;\n",
              "        case  1:\n",
              "        if (likely((values[1] = <span class='pyx_c_api'>__Pyx_GetKwValue_FASTCALL</span>(__pyx_kwds, __pyx_kwvalues, __pyx_n_s_w)) != 0)) {\n",
              "          (void)<span class='pyx_c_api'>__Pyx_Arg_NewRef_FASTCALL</span>(values[1]);\n",
              "          kw_args--;\n",
              "        }\n",
              "        else if (unlikely(<span class='py_c_api'>PyErr_Occurred</span>())) <span class='error_goto'>__PYX_ERR(0, 4, __pyx_L3_error)</span>\n",
              "        else {\n",
              "          <span class='pyx_c_api'>__Pyx_RaiseArgtupleInvalid</span>(\"dot\", 1, 2, 2, 1); <span class='error_goto'>__PYX_ERR(0, 4, __pyx_L3_error)</span>\n",
              "        }\n",
              "      }\n",
              "      if (unlikely(kw_args &gt; 0)) {\n",
              "        const Py_ssize_t kwd_pos_args = __pyx_nargs;\n",
              "        if (unlikely(<span class='pyx_c_api'>__Pyx_ParseOptionalKeywords</span>(__pyx_kwds, __pyx_kwvalues, __pyx_pyargnames, 0, values + 0, kwd_pos_args, \"dot\") &lt; 0)) <span class='error_goto'>__PYX_ERR(0, 4, __pyx_L3_error)</span>\n",
              "      }\n",
              "    } else if (unlikely(__pyx_nargs != 2)) {\n",
              "      goto __pyx_L5_argtuple_error;\n",
              "    } else {\n",
              "      values[0] = <span class='pyx_c_api'>__Pyx_Arg_FASTCALL</span>(__pyx_args, 0);\n",
              "      values[1] = <span class='pyx_c_api'>__Pyx_Arg_FASTCALL</span>(__pyx_args, 1);\n",
              "    }\n",
              "    __pyx_v_v = ((PyArrayObject *)values[0]);\n",
              "    __pyx_v_w = ((PyArrayObject *)values[1]);\n",
              "  }\n",
              "  goto __pyx_L6_skip;\n",
              "  __pyx_L5_argtuple_error:;\n",
              "  <span class='pyx_c_api'>__Pyx_RaiseArgtupleInvalid</span>(\"dot\", 1, 2, 2, __pyx_nargs); <span class='error_goto'>__PYX_ERR(0, 4, __pyx_L3_error)</span>\n",
              "  __pyx_L6_skip:;\n",
              "  goto __pyx_L4_argument_unpacking_done;\n",
              "  __pyx_L3_error:;\n",
              "  {\n",
              "    Py_ssize_t __pyx_temp;\n",
              "    for (__pyx_temp=0; __pyx_temp &lt; (Py_ssize_t)(sizeof(values)/sizeof(values[0])); ++__pyx_temp) {\n",
              "      <span class='pyx_c_api'>__Pyx_Arg_XDECREF_FASTCALL</span>(values[__pyx_temp]);\n",
              "    }\n",
              "  }\n",
              "  <span class='pyx_c_api'>__Pyx_AddTraceback</span>(\"_cython_magic_13ce7850f7979da65800cacb2a3b1a8c107073e2.dot\", __pyx_clineno, __pyx_lineno, __pyx_filename);\n",
              "  <span class='refnanny'>__Pyx_RefNannyFinishContext</span>();\n",
              "  return NULL;\n",
              "  __pyx_L4_argument_unpacking_done:;\n",
              "  if (unlikely(!<span class='pyx_c_api'>__Pyx_ArgTypeTest</span>(((PyObject *)__pyx_v_v), __pyx_ptype_5numpy_ndarray, 1, \"v\", 0))) <span class='error_goto'>__PYX_ERR(0, 5, __pyx_L1_error)</span>\n",
              "  if (unlikely(!<span class='pyx_c_api'>__Pyx_ArgTypeTest</span>(((PyObject *)__pyx_v_w), __pyx_ptype_5numpy_ndarray, 1, \"w\", 0))) <span class='error_goto'>__PYX_ERR(0, 5, __pyx_L1_error)</span>\n",
              "  __pyx_r = __pyx_pf_54_cython_magic_13ce7850f7979da65800cacb2a3b1a8c107073e2_dot(__pyx_self, __pyx_v_v, __pyx_v_w);\n",
              "  int __pyx_lineno = 0;\n",
              "  const char *__pyx_filename = NULL;\n",
              "  int __pyx_clineno = 0;\n",
              "\n",
              "  /* function exit code */\n",
              "  goto __pyx_L0;\n",
              "  __pyx_L1_error:;\n",
              "  __pyx_r = NULL;\n",
              "  __pyx_L0:;\n",
              "  {\n",
              "    Py_ssize_t __pyx_temp;\n",
              "    for (__pyx_temp=0; __pyx_temp &lt; (Py_ssize_t)(sizeof(values)/sizeof(values[0])); ++__pyx_temp) {\n",
              "      <span class='pyx_c_api'>__Pyx_Arg_XDECREF_FASTCALL</span>(values[__pyx_temp]);\n",
              "    }\n",
              "  }\n",
              "  <span class='refnanny'>__Pyx_RefNannyFinishContext</span>();\n",
              "  return __pyx_r;\n",
              "}\n",
              "\n",
              "static PyObject *__pyx_pf_54_cython_magic_13ce7850f7979da65800cacb2a3b1a8c107073e2_dot(CYTHON_UNUSED PyObject *__pyx_self, PyArrayObject *__pyx_v_v, PyArrayObject *__pyx_v_w) {\n",
              "  long __pyx_v_res;\n",
              "  int __pyx_v_i;\n",
              "  int __pyx_v_n;\n",
              "  __Pyx_LocalBuf_ND __pyx_pybuffernd_v;\n",
              "  __Pyx_Buffer __pyx_pybuffer_v;\n",
              "  __Pyx_LocalBuf_ND __pyx_pybuffernd_w;\n",
              "  __Pyx_Buffer __pyx_pybuffer_w;\n",
              "  PyObject *__pyx_r = NULL;\n",
              "  __pyx_pybuffer_v.pybuffer.buf = NULL;\n",
              "  __pyx_pybuffer_v.refcount = 0;\n",
              "  __pyx_pybuffernd_v.data = NULL;\n",
              "  __pyx_pybuffernd_v.rcbuffer = &amp;__pyx_pybuffer_v;\n",
              "  __pyx_pybuffer_w.pybuffer.buf = NULL;\n",
              "  __pyx_pybuffer_w.refcount = 0;\n",
              "  __pyx_pybuffernd_w.data = NULL;\n",
              "  __pyx_pybuffernd_w.rcbuffer = &amp;__pyx_pybuffer_w;\n",
              "  {\n",
              "    __Pyx_BufFmt_StackElem __pyx_stack[1];\n",
              "    if (unlikely(<span class='pyx_c_api'>__Pyx_GetBufferAndValidate</span>(&amp;__pyx_pybuffernd_v.rcbuffer-&gt;pybuffer, (PyObject*)__pyx_v_v, &amp;__Pyx_TypeInfo_nn___pyx_t_5numpy_int64_t, PyBUF_FORMAT| PyBUF_STRIDES, 1, 0, __pyx_stack) == -1)) <span class='error_goto'>__PYX_ERR(0, 4, __pyx_L1_error)</span>\n",
              "  }\n",
              "  __pyx_pybuffernd_v.diminfo[0].strides = __pyx_pybuffernd_v.rcbuffer-&gt;pybuffer.strides[0]; __pyx_pybuffernd_v.diminfo[0].shape = __pyx_pybuffernd_v.rcbuffer-&gt;pybuffer.shape[0];\n",
              "  {\n",
              "    __Pyx_BufFmt_StackElem __pyx_stack[1];\n",
              "    if (unlikely(<span class='pyx_c_api'>__Pyx_GetBufferAndValidate</span>(&amp;__pyx_pybuffernd_w.rcbuffer-&gt;pybuffer, (PyObject*)__pyx_v_w, &amp;__Pyx_TypeInfo_nn___pyx_t_5numpy_int64_t, PyBUF_FORMAT| PyBUF_STRIDES, 1, 0, __pyx_stack) == -1)) <span class='error_goto'>__PYX_ERR(0, 4, __pyx_L1_error)</span>\n",
              "  }\n",
              "  __pyx_pybuffernd_w.diminfo[0].strides = __pyx_pybuffernd_w.rcbuffer-&gt;pybuffer.strides[0]; __pyx_pybuffernd_w.diminfo[0].shape = __pyx_pybuffernd_w.rcbuffer-&gt;pybuffer.shape[0];\n",
              "/* … */\n",
              "  /* function exit code */\n",
              "  __pyx_L1_error:;\n",
              "  <span class='pyx_macro_api'>__Pyx_XDECREF</span>(__pyx_t_9);\n",
              "  { PyObject *__pyx_type, *__pyx_value, *__pyx_tb;\n",
              "    __Pyx_PyThreadState_declare\n",
              "    __Pyx_PyThreadState_assign\n",
              "    <span class='pyx_c_api'>__Pyx_ErrFetch</span>(&amp;__pyx_type, &amp;__pyx_value, &amp;__pyx_tb);\n",
              "    <span class='pyx_c_api'>__Pyx_SafeReleaseBuffer</span>(&amp;__pyx_pybuffernd_v.rcbuffer-&gt;pybuffer);\n",
              "    <span class='pyx_c_api'>__Pyx_SafeReleaseBuffer</span>(&amp;__pyx_pybuffernd_w.rcbuffer-&gt;pybuffer);\n",
              "  <span class='pyx_c_api'>__Pyx_ErrRestore</span>(__pyx_type, __pyx_value, __pyx_tb);}\n",
              "  <span class='pyx_c_api'>__Pyx_AddTraceback</span>(\"_cython_magic_13ce7850f7979da65800cacb2a3b1a8c107073e2.dot\", __pyx_clineno, __pyx_lineno, __pyx_filename);\n",
              "  __pyx_r = NULL;\n",
              "  goto __pyx_L2;\n",
              "  __pyx_L0:;\n",
              "  <span class='pyx_c_api'>__Pyx_SafeReleaseBuffer</span>(&amp;__pyx_pybuffernd_v.rcbuffer-&gt;pybuffer);\n",
              "  <span class='pyx_c_api'>__Pyx_SafeReleaseBuffer</span>(&amp;__pyx_pybuffernd_w.rcbuffer-&gt;pybuffer);\n",
              "  __pyx_L2:;\n",
              "  <span class='refnanny'>__Pyx_XGIVEREF</span>(__pyx_r);\n",
              "  <span class='refnanny'>__Pyx_RefNannyFinishContext</span>();\n",
              "  return __pyx_r;\n",
              "}\n",
              "/* … */\n",
              "  __pyx_tuple__4 = <span class='py_c_api'>PyTuple_Pack</span>(5, __pyx_n_s_v, __pyx_n_s_w, __pyx_n_s_res, __pyx_n_s_i, __pyx_n_s_n);<span class='error_goto'> if (unlikely(!__pyx_tuple__4)) __PYX_ERR(0, 4, __pyx_L1_error)</span>\n",
              "  <span class='refnanny'>__Pyx_GOTREF</span>(__pyx_tuple__4);\n",
              "  <span class='refnanny'>__Pyx_GIVEREF</span>(__pyx_tuple__4);\n",
              "/* … */\n",
              "  __pyx_t_2 = <span class='pyx_c_api'>__Pyx_CyFunction_New</span>(&amp;__pyx_mdef_54_cython_magic_13ce7850f7979da65800cacb2a3b1a8c107073e2_1dot, 0, __pyx_n_s_dot, NULL, __pyx_n_s_cython_magic_13ce7850f7979da658, __pyx_d, ((PyObject *)__pyx_codeobj__5));<span class='error_goto'> if (unlikely(!__pyx_t_2)) __PYX_ERR(0, 4, __pyx_L1_error)</span>\n",
              "  <span class='refnanny'>__Pyx_GOTREF</span>(__pyx_t_2);\n",
              "  if (<span class='py_c_api'>PyDict_SetItem</span>(__pyx_d, __pyx_n_s_dot, __pyx_t_2) &lt; 0) <span class='error_goto'>__PYX_ERR(0, 4, __pyx_L1_error)</span>\n",
              "  <span class='pyx_macro_api'>__Pyx_DECREF</span>(__pyx_t_2); __pyx_t_2 = 0;\n",
              "</pre><pre class=\"cython line score-0\">&#xA0;<span class=\"\">05</span>: <span class=\"k\">def</span> <span class=\"nf\">dot</span><span class=\"p\">(</span><span class=\"n\">np</span><span class=\"o\">.</span><span class=\"n\">ndarray</span><span class=\"p\">[</span><span class=\"n\">np</span><span class=\"o\">.</span><span class=\"n\">int64_t</span><span class=\"p\">,</span><span class=\"n\">ndim</span><span class=\"o\">=</span><span class=\"mf\">1</span><span class=\"p\">]</span> <span class=\"n\">v</span><span class=\"p\">,</span> <span class=\"n\">np</span><span class=\"o\">.</span><span class=\"n\">ndarray</span><span class=\"p\">[</span><span class=\"n\">np</span><span class=\"o\">.</span><span class=\"n\">int64_t</span><span class=\"p\">,</span><span class=\"n\">ndim</span><span class=\"o\">=</span><span class=\"mf\">1</span><span class=\"p\">]</span> <span class=\"n\">w</span><span class=\"p\">):</span></pre>\n",
              "<pre class=\"cython line score-0\">&#xA0;<span class=\"\">06</span>:     <span class=\"k\">cdef</span> <span class=\"kt\">long</span> <span class=\"nf\">res</span></pre>\n",
              "<pre class=\"cython line score-0\">&#xA0;<span class=\"\">07</span>:     <span class=\"k\">cdef</span> <span class=\"kt\">int</span> <span class=\"nf\">i</span></pre>\n",
              "<pre class=\"cython line score-0\">&#xA0;<span class=\"\">08</span>:     <span class=\"k\">cdef</span> <span class=\"kt\">int</span> <span class=\"nf\">n</span></pre>\n",
              "<pre class=\"cython line score-5\" onclick=\"(function(s){s.display=s.display==='block'?'none':'block'})(this.nextElementSibling.style)\">+<span class=\"\">09</span>:     <span class=\"n\">n</span><span class=\"o\">=</span><span class=\"nb\">len</span><span class=\"p\">(</span><span class=\"n\">v</span><span class=\"p\">)</span></pre>\n",
              "<pre class='cython code score-5 '>  __pyx_t_1 = <span class='py_c_api'>PyObject_Length</span>(((PyObject *)__pyx_v_v));<span class='error_goto'> if (unlikely(__pyx_t_1 == ((Py_ssize_t)-1))) __PYX_ERR(0, 9, __pyx_L1_error)</span>\n",
              "  __pyx_v_n = __pyx_t_1;\n",
              "</pre><pre class=\"cython line score-5\" onclick=\"(function(s){s.display=s.display==='block'?'none':'block'})(this.nextElementSibling.style)\">+<span class=\"\">10</span>:     <span class=\"k\">if</span> <span class=\"n\">n</span><span class=\"o\">==</span><span class=\"nb\">len</span><span class=\"p\">(</span><span class=\"n\">w</span><span class=\"p\">)</span> <span class=\"ow\">and</span> <span class=\"n\">n</span><span class=\"o\">&gt;</span><span class=\"mf\">0</span><span class=\"p\">:</span></pre>\n",
              "<pre class='cython code score-5 '>  __pyx_t_1 = <span class='py_c_api'>PyObject_Length</span>(((PyObject *)__pyx_v_w));<span class='error_goto'> if (unlikely(__pyx_t_1 == ((Py_ssize_t)-1))) __PYX_ERR(0, 10, __pyx_L1_error)</span>\n",
              "  __pyx_t_3 = (__pyx_v_n == __pyx_t_1);\n",
              "  if (__pyx_t_3) {\n",
              "  } else {\n",
              "    __pyx_t_2 = __pyx_t_3;\n",
              "    goto __pyx_L4_bool_binop_done;\n",
              "  }\n",
              "  __pyx_t_3 = (__pyx_v_n &gt; 0);\n",
              "  __pyx_t_2 = __pyx_t_3;\n",
              "  __pyx_L4_bool_binop_done:;\n",
              "  if (__pyx_t_2) {\n",
              "/* … */\n",
              "  }\n",
              "</pre><pre class=\"cython line score-0\" onclick=\"(function(s){s.display=s.display==='block'?'none':'block'})(this.nextElementSibling.style)\">+<span class=\"\">11</span>:         <span class=\"n\">res</span><span class=\"o\">=</span><span class=\"n\">v</span><span class=\"p\">[</span><span class=\"mf\">0</span><span class=\"p\">]</span><span class=\"o\">*</span><span class=\"n\">w</span><span class=\"p\">[</span><span class=\"mf\">0</span><span class=\"p\">]</span></pre>\n",
              "<pre class='cython code score-0 '>    __pyx_t_4 = 0;\n",
              "    if (__pyx_t_4 &lt; 0) __pyx_t_4 += __pyx_pybuffernd_v.diminfo[0].shape;\n",
              "    __pyx_t_5 = 0;\n",
              "    if (__pyx_t_5 &lt; 0) __pyx_t_5 += __pyx_pybuffernd_w.diminfo[0].shape;\n",
              "    __pyx_v_res = ((*__Pyx_BufPtrStrided1d(__pyx_t_5numpy_int64_t *, __pyx_pybuffernd_v.rcbuffer-&gt;pybuffer.buf, __pyx_t_4, __pyx_pybuffernd_v.diminfo[0].strides)) * (*__Pyx_BufPtrStrided1d(__pyx_t_5numpy_int64_t *, __pyx_pybuffernd_w.rcbuffer-&gt;pybuffer.buf, __pyx_t_5, __pyx_pybuffernd_w.diminfo[0].strides)));\n",
              "</pre><pre class=\"cython line score-0\" onclick=\"(function(s){s.display=s.display==='block'?'none':'block'})(this.nextElementSibling.style)\">+<span class=\"\">12</span>:         <span class=\"k\">for</span> <span class=\"n\">i</span> <span class=\"ow\">in</span> <span class=\"nb\">range</span><span class=\"p\">(</span><span class=\"mf\">1</span><span class=\"p\">,</span><span class=\"n\">n</span><span class=\"p\">):</span></pre>\n",
              "<pre class='cython code score-0 '>    __pyx_t_6 = __pyx_v_n;\n",
              "    __pyx_t_7 = __pyx_t_6;\n",
              "    for (__pyx_t_8 = 1; __pyx_t_8 &lt; __pyx_t_7; __pyx_t_8+=1) {\n",
              "      __pyx_v_i = __pyx_t_8;\n",
              "</pre><pre class=\"cython line score-0\" onclick=\"(function(s){s.display=s.display==='block'?'none':'block'})(this.nextElementSibling.style)\">+<span class=\"\">13</span>:             <span class=\"n\">res</span><span class=\"o\">+=</span><span class=\"n\">v</span><span class=\"p\">[</span><span class=\"n\">i</span><span class=\"p\">]</span><span class=\"o\">*</span><span class=\"n\">w</span><span class=\"p\">[</span><span class=\"n\">i</span><span class=\"p\">]</span></pre>\n",
              "<pre class='cython code score-0 '>      __pyx_t_5 = __pyx_v_i;\n",
              "      if (__pyx_t_5 &lt; 0) __pyx_t_5 += __pyx_pybuffernd_v.diminfo[0].shape;\n",
              "      __pyx_t_4 = __pyx_v_i;\n",
              "      if (__pyx_t_4 &lt; 0) __pyx_t_4 += __pyx_pybuffernd_w.diminfo[0].shape;\n",
              "      __pyx_v_res = (__pyx_v_res + ((*__Pyx_BufPtrStrided1d(__pyx_t_5numpy_int64_t *, __pyx_pybuffernd_v.rcbuffer-&gt;pybuffer.buf, __pyx_t_5, __pyx_pybuffernd_v.diminfo[0].strides)) * (*__Pyx_BufPtrStrided1d(__pyx_t_5numpy_int64_t *, __pyx_pybuffernd_w.rcbuffer-&gt;pybuffer.buf, __pyx_t_4, __pyx_pybuffernd_w.diminfo[0].strides))));\n",
              "    }\n",
              "</pre><pre class=\"cython line score-3\" onclick=\"(function(s){s.display=s.display==='block'?'none':'block'})(this.nextElementSibling.style)\">+<span class=\"\">14</span>:     <span class=\"k\">return</span> <span class=\"n\">res</span></pre>\n",
              "<pre class='cython code score-3 '>  <span class='pyx_macro_api'>__Pyx_XDECREF</span>(__pyx_r);\n",
              "  __pyx_t_9 = <span class='pyx_c_api'>__Pyx_PyInt_From_long</span>(__pyx_v_res);<span class='error_goto'> if (unlikely(!__pyx_t_9)) __PYX_ERR(0, 14, __pyx_L1_error)</span>\n",
              "  <span class='refnanny'>__Pyx_GOTREF</span>(__pyx_t_9);\n",
              "  __pyx_r = __pyx_t_9;\n",
              "  __pyx_t_9 = 0;\n",
              "  goto __pyx_L0;\n",
              "</pre></div></body></html>"
            ],
            "text/plain": [
              "<IPython.core.display.HTML object>"
            ]
          },
          "execution_count": 5,
          "metadata": {},
          "output_type": "execute_result"
        }
      ],
      "source": [
        "# Skipping Checks\n",
        "%%cython -a\n",
        "import numpy as np\n",
        "cimport numpy as np\n",
        "cimport cython\n",
        "@cython.boundscheck(False)\n",
        "def dot(np.ndarray[np.int64_t,ndim=1] v, np.ndarray[np.int64_t,ndim=1] w):\n",
        "    cdef long res\n",
        "    cdef int i\n",
        "    cdef int n\n",
        "    n=len(v)\n",
        "    if n==len(w) and n>0:\n",
        "        res=v[0]*w[0]\n",
        "        for i in range(1,n):\n",
        "            res+=v[i]*w[i]\n",
        "    return res"
      ]
    },
    {
      "cell_type": "code",
      "execution_count": null,
      "metadata": {
        "colab": {
          "base_uri": "https://localhost:8080/"
        },
        "id": "CCsq872vZgUs",
        "outputId": "ceaffa8d-fa89-40c5-a653-4942b18ed699"
      },
      "outputs": [
        {
          "name": "stdout",
          "output_type": "stream",
          "text": [
            "Content of stderr:\n",
            "In file included from /usr/local/lib/python3.10/dist-packages/numpy/core/include/numpy/ndarraytypes.h:1929,\n",
            "                 from /usr/local/lib/python3.10/dist-packages/numpy/core/include/numpy/ndarrayobject.h:12,\n",
            "                 from /usr/local/lib/python3.10/dist-packages/numpy/core/include/numpy/arrayobject.h:5,\n",
            "                 from /root/.cache/ipython/cython/_cython_magic_4b267c3ed1411da8c51eb7678d404a58824f9cc3.c:1256:\n",
            "/usr/local/lib/python3.10/dist-packages/numpy/core/include/numpy/npy_1_7_deprecated_api.h:17:2: warning: #warning \"Using deprecated NumPy API, disable it with \" \"#define NPY_NO_DEPRECATED_API NPY_1_7_API_VERSION\" [-Wcpp]\n",
            "   17 | #warning \"Using deprecated NumPy API, disable it with \" \\\n",
            "      |  ^~~~~~~\n",
            "/root/.cache/ipython/cython/_cython_magic_4b267c3ed1411da8c51eb7678d404a58824f9cc3.c: In function ‘__pyx_pw_54_cython_magic_4b267c3ed1411da8c51eb7678d404a58824f9cc3_1dot’:\n",
            "/root/.cache/ipython/cython/_cython_magic_4b267c3ed1411da8c51eb7678d404a58824f9cc3.c:1158:40: warning: ‘__pyx_v_res’ may be used uninitialized in this function [-Wmaybe-uninitialized]\n",
            " 1158 |   #define PyInt_FromLong               PyLong_FromLong\n",
            "      |                                        ^~~~~~~~~~~~~~~\n",
            "/root/.cache/ipython/cython/_cython_magic_4b267c3ed1411da8c51eb7678d404a58824f9cc3.c:4302:8: note: ‘__pyx_v_res’ was declared here\n",
            " 4302 |   long __pyx_v_res;\n",
            "      |        ^~~~~~~~~~~"
          ]
        }
      ],
      "source": [
        "# Wraparound and compile-args\n",
        "%%cython  --compile-args=-O2 --compile-args=-march=native --force\n",
        "import numpy as np\n",
        "cimport numpy as np\n",
        "cimport cython\n",
        "@cython.boundscheck(False)\n",
        "@cython.wraparound(False)\n",
        "def dot(np.ndarray[np.int64_t,ndim=1] v, np.ndarray[np.int64_t,ndim=1] w):\n",
        "    cdef long res\n",
        "    cdef int i\n",
        "    cdef int n\n",
        "    n=len(v)\n",
        "    if n==len(w) and n>0:\n",
        "        res=v[0]*w[0]\n",
        "        for i in range(1,n):\n",
        "            res+=v[i]*w[i]\n",
        "    return res\n",
        "# This code is pure C now."
      ]
    },
    {
      "cell_type": "code",
      "execution_count": null,
      "metadata": {
        "colab": {
          "base_uri": "https://localhost:8080/"
        },
        "id": "YyVppCPEaKPG",
        "outputId": "37cba9dc-c48e-4ab0-bf40-c27b21d253ea"
      },
      "outputs": [
        {
          "name": "stdout",
          "output_type": "stream",
          "text": [
            "Content of stderr:\n",
            "In file included from /usr/local/lib/python3.10/dist-packages/numpy/core/include/numpy/ndarraytypes.h:1929,\n",
            "                 from /usr/local/lib/python3.10/dist-packages/numpy/core/include/numpy/ndarrayobject.h:12,\n",
            "                 from /usr/local/lib/python3.10/dist-packages/numpy/core/include/numpy/arrayobject.h:5,\n",
            "                 from /root/.cache/ipython/cython/_cython_magic_de76dc1a7a25bfef70af50fa06e70a5c6cd45413.c:1261:\n",
            "/usr/local/lib/python3.10/dist-packages/numpy/core/include/numpy/npy_1_7_deprecated_api.h:17:2: warning: #warning \"Using deprecated NumPy API, disable it with \" \"#define NPY_NO_DEPRECATED_API NPY_1_7_API_VERSION\" [-Wcpp]\n",
            "   17 | #warning \"Using deprecated NumPy API, disable it with \" \\\n",
            "      |  ^~~~~~~\n",
            "/root/.cache/ipython/cython/_cython_magic_de76dc1a7a25bfef70af50fa06e70a5c6cd45413.c: In function ‘__pyx_pf_54_cython_magic_de76dc1a7a25bfef70af50fa06e70a5c6cd45413_dot.constprop’:\n",
            "/root/.cache/ipython/cython/_cython_magic_de76dc1a7a25bfef70af50fa06e70a5c6cd45413.c:1163:40: warning: ‘__pyx_v_res’ may be used uninitialized in this function [-Wmaybe-uninitialized]\n",
            " 1163 |   #define PyInt_FromLong               PyLong_FromLong\n",
            "      |                                        ^~~~~~~~~~~~~~~\n",
            "/root/.cache/ipython/cython/_cython_magic_de76dc1a7a25bfef70af50fa06e70a5c6cd45413.c:4305:8: note: ‘__pyx_v_res’ was declared here\n",
            " 4305 |   long __pyx_v_res;\n",
            "      |        ^~~~~~~~~~~"
          ]
        }
      ],
      "source": [
        "# Adding openmp makes the code faster.\n",
        "%%cython  --compile-args=-fopenmp --compile-args=-O2 --compile-args=-march=native --link-args=-fopenmp --force\n",
        "import numpy as np\n",
        "cimport numpy as np\n",
        "cimport cython\n",
        "from cython.parallel import parallel, prange #for releasing the global interpreter lock\n",
        "\n",
        "@cython.boundscheck(False)\n",
        "@cython.wraparound(False)\n",
        "def dot(np.ndarray[np.int64_t,ndim=1] v, np.ndarray[np.int64_t,ndim=1] w):\n",
        "    cdef long res\n",
        "    cdef int i\n",
        "    cdef int n\n",
        "    n=len(v)\n",
        "    if n==len(w) and n>0:\n",
        "        res=v[0]*w[0]\n",
        "        for i in prange(1,n, nogil=True):\n",
        "            res+=v[i]*w[i]\n",
        "    return res"
      ]
    },
    {
      "cell_type": "markdown",
      "metadata": {
        "id": "sPX9-CPjFPTq"
      },
      "source": [
        "Building a cython extension outside of a notebook"
      ]
    },
    {
      "cell_type": "code",
      "execution_count": null,
      "metadata": {
        "colab": {
          "base_uri": "https://localhost:8080/"
        },
        "id": "PTXtrra2KuCR",
        "outputId": "d648564d-7d26-4faa-88a1-65110ff2cd38"
      },
      "outputs": [
        {
          "name": "stdout",
          "output_type": "stream",
          "text": [
            "sum.pyx file has been created and saved.\n"
          ]
        }
      ],
      "source": [
        "# Python code to create and save the sum.pyx file\n",
        "cython_code = \"\"\"\n",
        "# sum.pyx\n",
        "\n",
        "# Cython function to sum a list of integers\n",
        "def sum_integers(int[:] arr):\n",
        "    cdef int total = 0\n",
        "    cdef int i\n",
        "    for i in range(arr.shape[0]):\n",
        "        total += arr[i]\n",
        "    return total\n",
        "\"\"\"\n",
        "\n",
        "# Create and write the cython code to sum.pyx file\n",
        "with open(\"sum.pyx\", \"w\") as file:\n",
        "    file.write(cython_code)\n",
        "\n",
        "print(\"sum.pyx file has been created and saved.\")\n"
      ]
    },
    {
      "cell_type": "code",
      "execution_count": null,
      "metadata": {
        "colab": {
          "base_uri": "https://localhost:8080/"
        },
        "id": "-ReDa6E-LZq-",
        "outputId": "86be6a92-77ac-4541-904f-f1b4dfd4ad13"
      },
      "outputs": [
        {
          "name": "stdout",
          "output_type": "stream",
          "text": [
            "setup.py file created.\n"
          ]
        }
      ],
      "source": [
        "# A simple setup.py file\n",
        "setup_code = \"\"\"\n",
        "from distutils.core import setup\n",
        "from Cython.Build import cythonize\n",
        "\n",
        "setup(\n",
        "    name=\"Sum of integers\",\n",
        "    ext_modules=cythonize(\"sum.pyx\"),  # Points to the .pyx file\n",
        "    zip_safe=False\n",
        ")\n",
        "\"\"\"\n",
        "\n",
        "with open(\"setup.py\", \"w\") as file:\n",
        "    file.write(setup_code)\n",
        "\n",
        "print(\"setup.py file created.\")"
      ]
    },
    {
      "cell_type": "code",
      "execution_count": null,
      "metadata": {
        "colab": {
          "base_uri": "https://localhost:8080/"
        },
        "id": "MDXOrvTrLfCS",
        "outputId": "16674058-4338-4906-a547-bee023485483"
      },
      "outputs": [
        {
          "name": "stdout",
          "output_type": "stream",
          "text": [
            "Compiling sum.pyx because it changed.\n",
            "[1/1] Cythonizing sum.pyx\n",
            "/usr/local/lib/python3.10/dist-packages/Cython/Compiler/Main.py:381: FutureWarning: Cython directive 'language_level' not set, using '3str' for now (Py3). This has changed from earlier releases! File: /content/sum.pyx\n",
            "  tree = Parsing.p_module(s, pxd, full_module_name)\n"
          ]
        }
      ],
      "source": [
        "!python setup.py build_ext --inplace"
      ]
    },
    {
      "cell_type": "code",
      "execution_count": null,
      "metadata": {
        "colab": {
          "base_uri": "https://localhost:8080/"
        },
        "id": "OzD04mRZLlIp",
        "outputId": "8d3a2d9c-1fe6-45f5-d484-ab827c5309a3"
      },
      "outputs": [
        {
          "name": "stdout",
          "output_type": "stream",
          "text": [
            "15\n"
          ]
        }
      ],
      "source": [
        "import sum  # The compiled Cython module is named 'sum'\n",
        "import numpy as np\n",
        "\n",
        "# Create a NumPy array from the list\n",
        "arr = np.array([1, 2, 3, 4, 5], dtype=np.int32)\n",
        "\n",
        "# Call the Cython function\n",
        "result = sum.sum_integers(arr)\n",
        "print(result)  # Expected output: 15"
      ]
    },
    {
      "cell_type": "markdown",
      "metadata": {
        "id": "V3KyESYBtsaq"
      },
      "source": [
        "Cython and Classes"
      ]
    },
    {
      "cell_type": "code",
      "execution_count": null,
      "metadata": {
        "id": "3Mhc6QuRJfaI"
      },
      "outputs": [],
      "source": [
        "%%cython\n",
        "class Point:\n",
        "  \"\"\" A simple class representing a point in the x-y plane\"\"\"\n",
        "  def __init__(self,x,y):\n",
        "    self.x=x\n",
        "    self.y=y\n",
        "  def __repr__(self):\n",
        "    return \"(%.1f,%.1f)\" % (self.x,self.y)"
      ]
    },
    {
      "cell_type": "code",
      "execution_count": null,
      "metadata": {
        "id": "YWPSEc1oudsF"
      },
      "outputs": [],
      "source": [
        "p=Point(0,1)"
      ]
    },
    {
      "cell_type": "code",
      "execution_count": null,
      "metadata": {
        "colab": {
          "base_uri": "https://localhost:8080/"
        },
        "id": "PMA_F4AgukVM",
        "outputId": "72716a73-79af-4fa3-9c45-8760a89a30f5"
      },
      "outputs": [
        {
          "name": "stdout",
          "output_type": "stream",
          "text": [
            "(0.0,1.0)\n"
          ]
        }
      ],
      "source": [
        "print(p)"
      ]
    },
    {
      "cell_type": "markdown",
      "metadata": {
        "id": "_aVwXdkOuyOI"
      },
      "source": [
        "Extension Types"
      ]
    },
    {
      "cell_type": "code",
      "execution_count": null,
      "metadata": {
        "id": "8wNVQ3N1ulZ1"
      },
      "outputs": [],
      "source": [
        "%%cython\n",
        "from math import sqrt, asin, pi\n",
        "\n",
        "cpdef double rad2deg(double alpha): #cp: C+Python\n",
        "    return alpha * 180 / pi\n",
        "\n",
        "cdef class Point: #cdef: C\n",
        "    \"\"\" A point in 2d\"\"\"\n",
        "    cdef double x,y\n",
        "\n",
        "    cdef double distance2origin(self):\n",
        "        return sqrt(self.x**2+self.y**2)\n",
        "\n",
        "    cdef alpha(Point self):\n",
        "        return asin(self.y/self.distance2origin())\n",
        "\n",
        "    def __cinit__(self,t_x,t_y): #def: Python\n",
        "        self.x=t_x\n",
        "        self.y=t_y\n",
        "\n",
        "    def __repr__(self):\n",
        "        return \"(r=%.2f, alpha=%.2f)\" % (self.distance2origin(), rad2deg(self.alpha()))\n"
      ]
    },
    {
      "cell_type": "markdown",
      "metadata": {
        "id": "asP3gnHUFolc"
      },
      "source": [
        "# Numba, GPUs and CUDA"
      ]
    },
    {
      "cell_type": "code",
      "execution_count": 5,
      "metadata": {
        "id": "OyYe4Flsj445"
      },
      "outputs": [],
      "source": [
        "import numba"
      ]
    },
    {
      "cell_type": "code",
      "execution_count": 6,
      "metadata": {
        "id": "UbNZCXmDF05g"
      },
      "outputs": [],
      "source": [
        "from numba import vectorize\n",
        "\n",
        "def escape_time(p, maxtime):\n",
        "    z = 0j\n",
        "    for time in range(maxtime):\n",
        "        z = z**2 + p\n",
        "        if abs(z) > 2:\n",
        "            return time\n",
        "    return maxtime"
      ]
    },
    {
      "cell_type": "code",
      "execution_count": 7,
      "metadata": {
        "id": "2_N4SLB4F3WL"
      },
      "outputs": [],
      "source": [
        "import numpy as np\n",
        "x=np.linspace(-2,2,500)\n",
        "y=np.linspace(-1.5, 1.5, 375)\n",
        "zr, zc= np.meshgrid(x, y*1j)"
      ]
    },
    {
      "cell_type": "code",
      "execution_count": 8,
      "metadata": {
        "id": "cY3f9lzaF5dX"
      },
      "outputs": [],
      "source": [
        "escape_time_v= vectorize(['int64(complex128, int64)'], target='parallel')(escape_time)# p is complex128, maxtime is int32 and the return is int32"
      ]
    },
    {
      "cell_type": "markdown",
      "metadata": {
        "id": "bd5buhUxGA2k"
      },
      "source": [
        "Kernels"
      ]
    },
    {
      "cell_type": "code",
      "execution_count": 9,
      "metadata": {
        "id": "n3SFBzsVF8v_"
      },
      "outputs": [],
      "source": [
        "maxiter=20\n",
        "rlim=(-2.2, 1.5)\n",
        "ilim=(-1.5, 1.5)\n",
        "nx=100\n",
        "ny=75\n",
        "\n",
        "dx=(rlim[1]-rlim[0])/nx\n",
        "dy=(ilim[1]-ilim[0])/ny\n",
        "\n",
        "M=np.zeros((nx, ny), dtype=int)\n",
        "\n",
        "for i in range(ny):\n",
        "    for j in range(nx):\n",
        "        p=rlim[0]+j*dx + (ilim[0]+i*dy)*1j\n",
        "        M[j, i]=escape_time(p, maxiter)"
      ]
    },
    {
      "cell_type": "markdown",
      "metadata": {
        "id": "nngGizraGDMm"
      },
      "source": [
        "Thread ID"
      ]
    },
    {
      "cell_type": "code",
      "execution_count": 10,
      "metadata": {
        "colab": {
          "base_uri": "https://localhost:8080/"
        },
        "id": "JSBCM409HDsF",
        "outputId": "9cf532e0-64a3-40f8-9b35-7a14dd5da184"
      },
      "outputs": [
        {
          "name": "stdout",
          "output_type": "stream",
          "text": [
            "Sun Aug 25 19:56:44 2024       \n",
            "+---------------------------------------------------------------------------------------+\n",
            "| NVIDIA-SMI 535.104.05             Driver Version: 535.104.05   CUDA Version: 12.2     |\n",
            "|-----------------------------------------+----------------------+----------------------+\n",
            "| GPU  Name                 Persistence-M | Bus-Id        Disp.A | Volatile Uncorr. ECC |\n",
            "| Fan  Temp   Perf          Pwr:Usage/Cap |         Memory-Usage | GPU-Util  Compute M. |\n",
            "|                                         |                      |               MIG M. |\n",
            "|=========================================+======================+======================|\n",
            "|   0  Tesla T4                       Off | 00000000:00:04.0 Off |                    0 |\n",
            "| N/A   55C    P8              10W /  70W |      3MiB / 15360MiB |      0%      Default |\n",
            "|                                         |                      |                  N/A |\n",
            "+-----------------------------------------+----------------------+----------------------+\n",
            "                                                                                         \n",
            "+---------------------------------------------------------------------------------------+\n",
            "| Processes:                                                                            |\n",
            "|  GPU   GI   CI        PID   Type   Process name                            GPU Memory |\n",
            "|        ID   ID                                                             Usage      |\n",
            "|=======================================================================================|\n",
            "|  No running processes found                                                           |\n",
            "+---------------------------------------------------------------------------------------+\n"
          ]
        }
      ],
      "source": [
        "!nvidia-smi"
      ]
    },
    {
      "cell_type": "code",
      "execution_count": 11,
      "metadata": {
        "colab": {
          "base_uri": "https://localhost:8080/"
        },
        "id": "haDcuw5lGvwq",
        "outputId": "b6efbdbb-df1a-465c-e85e-4f289f1ddc65"
      },
      "outputs": [
        {
          "name": "stdout",
          "output_type": "stream",
          "text": [
            "True\n",
            "<Managed Device 0>\n"
          ]
        }
      ],
      "source": [
        "import numba.cuda\n",
        "\n",
        "print(numba.cuda.is_available())  # Should print True if CUDA is available\n",
        "print(numba.cuda.gpus)  # Should list available GPUs"
      ]
    },
    {
      "cell_type": "code",
      "execution_count": 12,
      "metadata": {
        "id": "tdesZBcNGAAz"
      },
      "outputs": [],
      "source": [
        "from numba import cuda\n",
        "@cuda.jit\n",
        "def my_kernel():\n",
        "    x, y, z = cuda.grid(3) # Use 2 for x,y and 1 for only x"
      ]
    },
    {
      "cell_type": "markdown",
      "metadata": {
        "id": "g9_NKKcQGKOE"
      },
      "source": [
        "Writing a Kernel"
      ]
    },
    {
      "cell_type": "code",
      "execution_count": 13,
      "metadata": {
        "id": "rIjW_rB1GH59"
      },
      "outputs": [],
      "source": [
        "escape_time_gpu= cuda.jit(device=True)(escape_time)\n",
        "\n",
        "@cuda.jit\n",
        "def mandelbrot_gpu(M, real_min, real_max, imag_min, imag_max):\n",
        "    \"\"\"Calculate the Mandelbrot set on the GPU.\n",
        "\n",
        "    Parameters:\n",
        "    M (ndarray): A 2D array to store the escape time values.\n",
        "    real_min (float): The minimum value of the real axis.\n",
        "    real_max (float): The maximum value of the real axis.\n",
        "    imag_min (float): The minimum value of the imaginary axis.\n",
        "    imag_max (float): The maximum value of the imaginary axis.\n",
        "\n",
        "    Returns:\n",
        "    None\n",
        "    \"\"\"\n",
        "    ny, nx = M.shape\n",
        "    i, j = cuda.grid(2)"
      ]
    },
    {
      "cell_type": "markdown",
      "metadata": {
        "id": "AqumHkMFGONR"
      },
      "source": [
        "Calling Kernel"
      ]
    },
    {
      "cell_type": "code",
      "execution_count": 14,
      "metadata": {
        "id": "41Key_SuGM7U"
      },
      "outputs": [],
      "source": [
        "M=np.zeros((1024,1024), dtype=np.int32)\n",
        "block=(32,32)\n",
        "grid=(M.shape[0]//block[0] if M.shape[0]%block[0]==0\n",
        "      else M.shape[0]//block[0]+1,\n",
        "      int(M.shape[0]//block[1] if M.shape[1]%block[1]==0\n",
        "          else M.shape[1]//block[1]+1))"
      ]
    },
    {
      "cell_type": "markdown",
      "metadata": {
        "id": "aSWP4miwGTa3"
      },
      "source": [
        "The launch configuration is passed in square brackets before the function arguments"
      ]
    },
    {
      "cell_type": "code",
      "execution_count": 15,
      "metadata": {
        "colab": {
          "base_uri": "https://localhost:8080/"
        },
        "id": "0tMsgY1QGRkx",
        "outputId": "4118b44e-ddc6-4819-b8c8-3ff63e3e1090"
      },
      "outputs": [
        {
          "name": "stdout",
          "output_type": "stream",
          "text": [
            "2.71 ms ± 150 µs per loop (mean ± std. dev. of 7 runs, 1 loop each)\n"
          ]
        },
        {
          "name": "stderr",
          "output_type": "stream",
          "text": [
            "/usr/local/lib/python3.10/dist-packages/numba/cuda/cudadrv/devicearray.py:888: NumbaPerformanceWarning: Host array used in CUDA kernel will incur copy overhead to/from device.\n",
            "  warn(NumbaPerformanceWarning(msg))\n"
          ]
        }
      ],
      "source": [
        "%timeit mandelbrot_gpu[grid, block](M, -2.2, 1.2, -1.6, 1.6)"
      ]
    },
    {
      "cell_type": "markdown",
      "metadata": {
        "id": "iWcs4th7JfP4"
      },
      "source": [
        "Matrix Multiplication with Shared Memory"
      ]
    },
    {
      "cell_type": "code",
      "execution_count": 23,
      "metadata": {
        "id": "8Ts05nEJJSYv"
      },
      "outputs": [],
      "source": [
        "@cuda.jit\n",
        "def fast_matmul(A,B,C):\n",
        "    # Define an array in the shared memory\n",
        "    # The size and type of the arrays must be known at compile time\n",
        "    sA=cuda.shared.array(shape(TPB,TPB), dtype=float32)\n",
        "    sB=cuda.shared.array(shape(TPB,TPB), dtype=float32)\n",
        "\n",
        "    x,y=cuda.grid(2)\n",
        "\n",
        "    tx=cuda.threadIdx.x\n",
        "    ty=cuda.threadIdx.y\n",
        "    bpg=cuda.gridDim.x\n",
        "\n",
        "    if x>=C.shape[0] and y>=C.shape[1]:\n",
        "        # Quit if (x,y) is outside of valid C boundary\n",
        "        return\n",
        "\n",
        "    # Each thread computes one element in the result matrix.\n",
        "    # The dot product is chunked into dot products of TPB-long vectors.\n",
        "    tmp=0\n",
        "    for i in range(bpg):\n",
        "        # Preload data into shared memory\n",
        "        sA[tx,ty]=A[x,ty+i*TPB]\n",
        "        sB[tx,ty]=B[tx+i*TPB,y]\n",
        "        # Wait until all threads finish preloading\n",
        "        cuda.syncthreads()"
      ]
    }
  ],
  "metadata": {
    "accelerator": "GPU",
    "colab": {
      "gpuType": "T4",
      "provenance": []
    },
    "kernelspec": {
      "display_name": "Python 3",
      "name": "python3"
    },
    "language_info": {
      "name": "python"
    }
  },
  "nbformat": 4,
  "nbformat_minor": 0
}
